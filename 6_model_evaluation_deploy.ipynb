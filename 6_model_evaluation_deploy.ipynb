{
 "cells": [
  {
   "cell_type": "markdown",
   "id": "2a945ce1-67a8-4be2-ad0f-ecfc0b695f03",
   "metadata": {},
   "source": [
    "# Model evaluation"
   ]
  },
  {
   "cell_type": "markdown",
   "id": "3211b21a-49f9-489d-9b7d-1022912e1f64",
   "metadata": {},
   "source": [
    "## Settings"
   ]
  },
  {
   "cell_type": "code",
   "execution_count": 1,
   "id": "8cb49aae-03fe-4eab-8966-e2ea40bab265",
   "metadata": {},
   "outputs": [],
   "source": [
    "%load_ext autoreload"
   ]
  },
  {
   "cell_type": "code",
   "execution_count": 2,
   "id": "bea1339f-72c5-486a-8789-1860be864854",
   "metadata": {},
   "outputs": [],
   "source": [
    "%autoreload 2"
   ]
  },
  {
   "cell_type": "code",
   "execution_count": 3,
   "id": "4baa0c63-a342-4717-a64b-1c4fa1c54114",
   "metadata": {},
   "outputs": [
    {
     "name": "stdout",
     "output_type": "stream",
     "text": [
      "\u001b[1m\u001b[91mBEST_ESTIMATOR_FILENAME : best_estimator_0.0.1.pkl\n",
      "\u001b[1m\u001b[91mDATASET_TRAIN_FILENAME : dataset_train.parquet\n",
      "\u001b[1m\u001b[91mDATASET_VALIDATION_FILENAME : dataset_validation.parquet\n",
      "\u001b[1m\u001b[91mETL_VERSION : 0.0.1\n",
      "\u001b[1m\u001b[91mMODEL_FILENAME : model_0.0.1.pkl\n",
      "\u001b[1m\u001b[91mMODEL_VERSION : 0.0.1\n",
      "\u001b[1m\u001b[91mPREPROCESSOR_FILENAME : preprocessor_0.0.1.pkl\n",
      "\u001b[1m\u001b[91mTRAINED_BEST_ESTIMATOR_FILENAME : trained_best_estimator_0.0.1.pkl\n",
      "\u001b[1m\u001b[91mcolor : <class 'helpers.settings.color'>\n",
      "\u001b[1m\u001b[91mprint_settings : <function print_settings at 0x7fcd60baac10>\n",
      "\u001b[0m\n"
     ]
    }
   ],
   "source": [
    "import helpers.settings as sts\n",
    "sts.print_settings(sts)"
   ]
  },
  {
   "cell_type": "markdown",
   "id": "781f9407-c144-4e53-b95b-99fd1be33284",
   "metadata": {},
   "source": [
    "## Imports"
   ]
  },
  {
   "cell_type": "code",
   "execution_count": 4,
   "id": "b8df50e5-2347-45e2-8ddb-a95c54ef216e",
   "metadata": {},
   "outputs": [],
   "source": [
    "import pickle\n",
    "import pandas as pd\n",
    "import numpy as np\n",
    "from sklearn.metrics import (\n",
    "    classification_report,\n",
    "    plot_precision_recall_curve,\n",
    "    precision_recall_curve,\n",
    "    average_precision_score,\n",
    "    plot_confusion_matrix,\n",
    ")\n",
    "import matplotlib.pyplot as plt\n",
    "from sklearn.model_selection import RandomizedSearchCV\n",
    "from xgboost import XGBClassifier\n",
    "from lightgbm import LGBMClassifier\n",
    "from sklearn.pipeline import Pipeline\n",
    "from sklearn.ensemble import RandomForestClassifier\n",
    "from scipy.stats import randint as sp_randint\n",
    "import shap"
   ]
  },
  {
   "cell_type": "markdown",
   "id": "d5f9c1ef-8f42-4f2e-864a-cb182d49f669",
   "metadata": {},
   "source": [
    "## Load train dataset"
   ]
  },
  {
   "cell_type": "code",
   "execution_count": 5,
   "id": "5f1f59ae-b364-464f-b43a-17675cd8f4a5",
   "metadata": {},
   "outputs": [],
   "source": [
    "df_validation = pd.read_parquet(f\"data/{sts.DATASET_VALIDATION_FILENAME}\")"
   ]
  },
  {
   "cell_type": "code",
   "execution_count": 6,
   "id": "19cb46ec-c43b-4c31-bf88-fde8c7755e4b",
   "metadata": {},
   "outputs": [],
   "source": [
    "X_validation = df_validation.iloc[:,:-1]\n",
    "y_validation = df_validation.iloc[:,-1]"
   ]
  },
  {
   "cell_type": "markdown",
   "id": "51006dc7-17a8-4c0c-823e-4075eb5b308f",
   "metadata": {},
   "source": [
    "## Load trained best estimator"
   ]
  },
  {
   "cell_type": "code",
   "execution_count": 7,
   "id": "9935c73b-47fd-4efb-b5a6-5d0d3dee62a7",
   "metadata": {},
   "outputs": [],
   "source": [
    "with open(f\"artifacts/{sts.TRAINED_BEST_ESTIMATOR_FILENAME}\",\"rb\") as file:\n",
    "    best_estimator = pickle.load(file)    "
   ]
  },
  {
   "cell_type": "code",
   "execution_count": 8,
   "id": "6b0a2894-7941-4f57-b6de-941f7731eb79",
   "metadata": {},
   "outputs": [],
   "source": [
    "y_proba = best_estimator.predict_proba(X_validation)[:,1]"
   ]
  },
  {
   "cell_type": "code",
   "execution_count": 9,
   "id": "05a2b94e-1bb0-4402-8953-75eb24bdaa50",
   "metadata": {},
   "outputs": [],
   "source": [
    "y_pred = np.where(y_proba > 0.5, 1, 0)"
   ]
  },
  {
   "cell_type": "code",
   "execution_count": 10,
   "id": "fb28f45b-ed10-4c68-bcfd-9b50375236bb",
   "metadata": {},
   "outputs": [
    {
     "name": "stdout",
     "output_type": "stream",
     "text": [
      "              precision    recall  f1-score   support\n",
      "\n",
      "           0       1.00      1.00      1.00      5396\n",
      "           1       0.90      0.85      0.87        73\n",
      "\n",
      "    accuracy                           1.00      5469\n",
      "   macro avg       0.95      0.92      0.94      5469\n",
      "weighted avg       1.00      1.00      1.00      5469\n",
      "\n"
     ]
    }
   ],
   "source": [
    "print(classification_report(y_validation, y_pred))"
   ]
  },
  {
   "cell_type": "code",
   "execution_count": 11,
   "id": "c768cb9d-53c3-41b6-bf04-7d838cd3a74e",
   "metadata": {},
   "outputs": [
    {
     "data": {
      "text/plain": [
       "0    5396\n",
       "1      73\n",
       "Name: LABEL, dtype: int64"
      ]
     },
     "execution_count": 11,
     "metadata": {},
     "output_type": "execute_result"
    }
   ],
   "source": [
    "y_validation.value_counts()"
   ]
  },
  {
   "cell_type": "code",
   "execution_count": 12,
   "id": "3fc77c68-16ec-4b29-a65e-c4574d45598d",
   "metadata": {},
   "outputs": [
    {
     "data": {
      "text/plain": [
       "<sklearn.metrics._plot.confusion_matrix.ConfusionMatrixDisplay at 0x7fcd60ba1f40>"
      ]
     },
     "execution_count": 12,
     "metadata": {},
     "output_type": "execute_result"
    },
    {
     "data": {
      "image/png": "[encoded data removed]",
      "text/plain": [
       "<Figure size 432x288 with 2 Axes>"
      ]
     },
     "metadata": {
      "needs_background": "light"
     },
     "output_type": "display_data"
    }
   ],
   "source": [
    "plot_confusion_matrix(best_estimator, X_validation, y_validation)"
   ]
  },
  {
   "cell_type": "code",
   "execution_count": null,
   "id": "6308f351-4451-47ea-bb38-d9101d2331f7",
   "metadata": {},
   "outputs": [],
   "source": []
  }
 ],
 "metadata": {
  "kernelspec": {
   "display_name": "Python 3",
   "language": "python",
   "name": "python3"
  },
  "language_info": {
   "codemirror_mode": {
    "name": "ipython",
    "version": 3
   },
   "file_extension": ".py",
   "mimetype": "text/x-python",
   "name": "python",
   "nbconvert_exporter": "python",
   "pygments_lexer": "ipython3",
   "version": "3.8.8"
  }
 },
 "nbformat": 4,
 "nbformat_minor": 5
}
