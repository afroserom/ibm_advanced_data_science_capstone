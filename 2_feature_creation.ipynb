{
 "cells": [
  {
   "cell_type": "markdown",
   "id": "291486e5-d634-423a-afe4-17d7d5e35211",
   "metadata": {},
   "source": [
    "## Settings"
   ]
  },
  {
   "cell_type": "code",
   "execution_count": 1,
   "id": "11b5c1f5-b993-44ed-999b-f978ee11a6b5",
   "metadata": {},
   "outputs": [],
   "source": [
    "%load_ext autoreload"
   ]
  },
  {
   "cell_type": "code",
   "execution_count": 2,
   "id": "880c6ac2-65ca-4878-91a5-4ffd2ff0d2b1",
   "metadata": {},
   "outputs": [],
   "source": [
    "%autoreload 2"
   ]
  },
  {
   "cell_type": "code",
   "execution_count": 3,
   "id": "e6d8b99c-eb51-47ac-a8ac-38f31ff9387f",
   "metadata": {},
   "outputs": [
    {
     "name": "stdout",
     "output_type": "stream",
     "text": [
      "\u001b[1m\u001b[91mBEST_ESTIMATOR_FILENAME : best_estimator_0.0.1.pkl\n",
      "\u001b[1m\u001b[91mDATASET_TRAIN_FILENAME : dataset_train.parquet\n",
      "\u001b[1m\u001b[91mDATASET_VALIDATION_FILENAME : dataset_validation.parquet\n",
      "\u001b[1m\u001b[91mETL_VERSION : 0.0.1\n",
      "\u001b[1m\u001b[91mMODEL_FILENAME : model.pkl\n",
      "\u001b[1m\u001b[91mMODEL_VERSION : 0.0.1\n",
      "\u001b[1m\u001b[91mPREPROCESSOR_FILENAME : preprocessor_0.0.1.pkl\n",
      "\u001b[1m\u001b[91mTRAINED_BEST_ESTIMATOR_FILENAME : trained_best_estimator_0.0.1.pkl\n",
      "\u001b[1m\u001b[91mcolor : <class 'helpers.settings.color'>\n",
      "\u001b[1m\u001b[91mprint_settings : <function print_settings at 0x7fd9583aec10>\n",
      "\u001b[0m\n"
     ]
    }
   ],
   "source": [
    "import helpers.settings as sts\n",
    "sts.print_settings(sts)"
   ]
  },
  {
   "cell_type": "markdown",
   "id": "77ddc1b6-6684-451f-99fb-4df4702651bc",
   "metadata": {},
   "source": [
    "## Imports"
   ]
  },
  {
   "cell_type": "code",
   "execution_count": 4,
   "id": "8a22a3bf-f174-4cdb-b73e-afa59a11d12d",
   "metadata": {},
   "outputs": [],
   "source": [
    "import pandas as pd\n",
    "from sklearn.impute import SimpleImputer\n",
    "from sklearn.preprocessing import OneHotEncoder\n",
    "from sklearn.compose import ColumnTransformer\n",
    "from sklearn.preprocessing import RobustScaler\n",
    "from sklearn.pipeline import Pipeline\n",
    "from sklearn import set_config\n",
    "set_config(display='diagram')  \n",
    "import numpy as np\n",
    "from category_encoders.woe import WOEEncoder\n",
    "import warnings\n",
    "from datetime import datetime\n",
    "import pickle\n",
    "from helpers.processing import ModifiedColumnTransformer"
   ]
  },
  {
   "cell_type": "markdown",
   "id": "eca355d1-6251-4f37-a659-03e539b5e7e0",
   "metadata": {},
   "source": [
    "## Load train dataset"
   ]
  },
  {
   "cell_type": "code",
   "execution_count": 5,
   "id": "94332438-afb4-498c-93f9-328ba0dfe2c7",
   "metadata": {},
   "outputs": [],
   "source": [
    "df_train = pd.read_parquet(f\"data/{sts.DATASET_TRAIN_FILENAME}\")"
   ]
  },
  {
   "cell_type": "code",
   "execution_count": 6,
   "id": "6d6cc9d8-db46-4c11-b605-8a052ee0fe6b",
   "metadata": {},
   "outputs": [],
   "source": [
    "X_train = df_train.iloc[:,:-1]\n",
    "y_train = df_train.iloc[:,-1]"
   ]
  },
  {
   "cell_type": "markdown",
   "id": "240ae9b1-31cb-465f-b45a-fb03d7e9c01c",
   "metadata": {},
   "source": [
    "## Features"
   ]
  },
  {
   "cell_type": "code",
   "execution_count": 7,
   "id": "62f846e8-8722-4175-9dbd-44458de3955f",
   "metadata": {},
   "outputs": [
    {
     "data": {
      "text/html": [
       "<div>\n",
       "<style scoped>\n",
       "    .dataframe tbody tr th:only-of-type {\n",
       "        vertical-align: middle;\n",
       "    }\n",
       "\n",
       "    .dataframe tbody tr th {\n",
       "        vertical-align: top;\n",
       "    }\n",
       "\n",
       "    .dataframe thead th {\n",
       "        text-align: right;\n",
       "    }\n",
       "</style>\n",
       "<table border=\"1\" class=\"dataframe\">\n",
       "  <thead>\n",
       "    <tr style=\"text-align: right;\">\n",
       "      <th></th>\n",
       "      <th>CODE_GENDER</th>\n",
       "      <th>FLAG_OWN_CAR</th>\n",
       "      <th>FLAG_OWN_REALTY</th>\n",
       "      <th>CNT_CHILDREN</th>\n",
       "      <th>AMT_INCOME_TOTAL</th>\n",
       "      <th>NAME_INCOME_TYPE</th>\n",
       "      <th>NAME_EDUCATION_TYPE</th>\n",
       "      <th>NAME_FAMILY_STATUS</th>\n",
       "      <th>NAME_HOUSING_TYPE</th>\n",
       "      <th>DAYS_BIRTH</th>\n",
       "      <th>DAYS_EMPLOYED</th>\n",
       "      <th>FLAG_MOBIL</th>\n",
       "      <th>FLAG_WORK_PHONE</th>\n",
       "      <th>FLAG_PHONE</th>\n",
       "      <th>FLAG_EMAIL</th>\n",
       "      <th>OCCUPATION_TYPE</th>\n",
       "      <th>CNT_FAM_MEMBERS</th>\n",
       "    </tr>\n",
       "  </thead>\n",
       "  <tbody>\n",
       "    <tr>\n",
       "      <th>0</th>\n",
       "      <td>F</td>\n",
       "      <td>N</td>\n",
       "      <td>Y</td>\n",
       "      <td>0</td>\n",
       "      <td>135000.0</td>\n",
       "      <td>Pensioner</td>\n",
       "      <td>Secondary / secondary special</td>\n",
       "      <td>Married</td>\n",
       "      <td>House / apartment</td>\n",
       "      <td>-21645</td>\n",
       "      <td>365243</td>\n",
       "      <td>1</td>\n",
       "      <td>0</td>\n",
       "      <td>0</td>\n",
       "      <td>0</td>\n",
       "      <td>None</td>\n",
       "      <td>2.0</td>\n",
       "    </tr>\n",
       "    <tr>\n",
       "      <th>1</th>\n",
       "      <td>F</td>\n",
       "      <td>N</td>\n",
       "      <td>N</td>\n",
       "      <td>0</td>\n",
       "      <td>157500.0</td>\n",
       "      <td>Commercial associate</td>\n",
       "      <td>Higher education</td>\n",
       "      <td>Civil marriage</td>\n",
       "      <td>House / apartment</td>\n",
       "      <td>-10193</td>\n",
       "      <td>-105</td>\n",
       "      <td>1</td>\n",
       "      <td>1</td>\n",
       "      <td>1</td>\n",
       "      <td>0</td>\n",
       "      <td>Accountants</td>\n",
       "      <td>2.0</td>\n",
       "    </tr>\n",
       "    <tr>\n",
       "      <th>2</th>\n",
       "      <td>F</td>\n",
       "      <td>Y</td>\n",
       "      <td>Y</td>\n",
       "      <td>0</td>\n",
       "      <td>675000.0</td>\n",
       "      <td>Pensioner</td>\n",
       "      <td>Higher education</td>\n",
       "      <td>Married</td>\n",
       "      <td>House / apartment</td>\n",
       "      <td>-21721</td>\n",
       "      <td>365243</td>\n",
       "      <td>1</td>\n",
       "      <td>0</td>\n",
       "      <td>0</td>\n",
       "      <td>0</td>\n",
       "      <td>None</td>\n",
       "      <td>2.0</td>\n",
       "    </tr>\n",
       "    <tr>\n",
       "      <th>3</th>\n",
       "      <td>F</td>\n",
       "      <td>Y</td>\n",
       "      <td>Y</td>\n",
       "      <td>2</td>\n",
       "      <td>112500.0</td>\n",
       "      <td>Working</td>\n",
       "      <td>Secondary / secondary special</td>\n",
       "      <td>Married</td>\n",
       "      <td>House / apartment</td>\n",
       "      <td>-9994</td>\n",
       "      <td>-644</td>\n",
       "      <td>1</td>\n",
       "      <td>1</td>\n",
       "      <td>0</td>\n",
       "      <td>0</td>\n",
       "      <td>Sales staff</td>\n",
       "      <td>4.0</td>\n",
       "    </tr>\n",
       "    <tr>\n",
       "      <th>4</th>\n",
       "      <td>F</td>\n",
       "      <td>N</td>\n",
       "      <td>Y</td>\n",
       "      <td>0</td>\n",
       "      <td>112500.0</td>\n",
       "      <td>Pensioner</td>\n",
       "      <td>Lower secondary</td>\n",
       "      <td>Married</td>\n",
       "      <td>House / apartment</td>\n",
       "      <td>-23754</td>\n",
       "      <td>365243</td>\n",
       "      <td>1</td>\n",
       "      <td>0</td>\n",
       "      <td>0</td>\n",
       "      <td>0</td>\n",
       "      <td>None</td>\n",
       "      <td>2.0</td>\n",
       "    </tr>\n",
       "  </tbody>\n",
       "</table>\n",
       "</div>"
      ],
      "text/plain": [
       "  CODE_GENDER FLAG_OWN_CAR FLAG_OWN_REALTY  CNT_CHILDREN  AMT_INCOME_TOTAL  \\\n",
       "0           F            N               Y             0          135000.0   \n",
       "1           F            N               N             0          157500.0   \n",
       "2           F            Y               Y             0          675000.0   \n",
       "3           F            Y               Y             2          112500.0   \n",
       "4           F            N               Y             0          112500.0   \n",
       "\n",
       "       NAME_INCOME_TYPE            NAME_EDUCATION_TYPE NAME_FAMILY_STATUS  \\\n",
       "0             Pensioner  Secondary / secondary special            Married   \n",
       "1  Commercial associate               Higher education     Civil marriage   \n",
       "2             Pensioner               Higher education            Married   \n",
       "3               Working  Secondary / secondary special            Married   \n",
       "4             Pensioner                Lower secondary            Married   \n",
       "\n",
       "   NAME_HOUSING_TYPE  DAYS_BIRTH  DAYS_EMPLOYED  FLAG_MOBIL  FLAG_WORK_PHONE  \\\n",
       "0  House / apartment      -21645         365243           1                0   \n",
       "1  House / apartment      -10193           -105           1                1   \n",
       "2  House / apartment      -21721         365243           1                0   \n",
       "3  House / apartment       -9994           -644           1                1   \n",
       "4  House / apartment      -23754         365243           1                0   \n",
       "\n",
       "   FLAG_PHONE  FLAG_EMAIL OCCUPATION_TYPE  CNT_FAM_MEMBERS  \n",
       "0           0           0            None              2.0  \n",
       "1           1           0     Accountants              2.0  \n",
       "2           0           0            None              2.0  \n",
       "3           0           0     Sales staff              4.0  \n",
       "4           0           0            None              2.0  "
      ]
     },
     "execution_count": 7,
     "metadata": {},
     "output_type": "execute_result"
    }
   ],
   "source": [
    "X_train.head()"
   ]
  },
  {
   "cell_type": "code",
   "execution_count": 8,
   "id": "3824d3c7-3cdc-41ad-98de-b668c05bb42e",
   "metadata": {},
   "outputs": [],
   "source": [
    "excluded_features = []"
   ]
  },
  {
   "cell_type": "code",
   "execution_count": 9,
   "id": "11dc070b-43b6-4135-b0bd-8318f907cf06",
   "metadata": {},
   "outputs": [],
   "source": [
    "special_features = []"
   ]
  },
  {
   "cell_type": "code",
   "execution_count": 10,
   "id": "d4e121ae-1e42-4f99-a063-14b2c9a34a8a",
   "metadata": {},
   "outputs": [],
   "source": [
    "numeric_features = [\n",
    "    \"CNT_CHILDREN\",\n",
    "    \"AMT_INCOME_TOTAL\",\n",
    "    \"DAYS_BIRTH\",\n",
    "    \"DAYS_EMPLOYED\",\n",
    "    \"CNT_FAM_MEMBERS\",\n",
    "]"
   ]
  },
  {
   "cell_type": "code",
   "execution_count": 11,
   "id": "51f0242d-d00d-41a2-98f0-6a78b0328ebd",
   "metadata": {},
   "outputs": [],
   "source": [
    "categorical_features = [\n",
    "    \"CODE_GENDER\",\n",
    "    \"FLAG_OWN_CAR\",\n",
    "    \"FLAG_OWN_REALTY\",\n",
    "    \"NAME_INCOME_TYPE\",\n",
    "    \"NAME_EDUCATION_TYPE\",\n",
    "    \"NAME_FAMILY_STATUS\",\n",
    "    \"NAME_HOUSING_TYPE\",\n",
    "    \"FLAG_MOBIL\",    \n",
    "    \"FLAG_WORK_PHONE\",\n",
    "    \"FLAG_PHONE\",\n",
    "    \"FLAG_EMAIL\",\n",
    "]"
   ]
  },
  {
   "cell_type": "code",
   "execution_count": 12,
   "id": "9b8ad3af-c23f-4ae2-9c15-42c8618b3b6f",
   "metadata": {},
   "outputs": [
    {
     "name": "stdout",
     "output_type": "stream",
     "text": [
      "CNT_CHILDREN: True\n",
      "AMT_INCOME_TOTAL: True\n",
      "DAYS_BIRTH: True\n",
      "DAYS_EMPLOYED: True\n",
      "CNT_FAM_MEMBERS: True\n"
     ]
    }
   ],
   "source": [
    "for numeric_feature in numeric_features:\n",
    "    print(f\"{numeric_feature}: {numeric_feature in X_train.select_dtypes(exclude=['object']).columns}\")"
   ]
  },
  {
   "cell_type": "code",
   "execution_count": 13,
   "id": "2d397e10-98a7-4224-8065-2fa15bdcaf89",
   "metadata": {},
   "outputs": [
    {
     "name": "stdout",
     "output_type": "stream",
     "text": [
      "CODE_GENDER:True\n",
      "FLAG_OWN_CAR:True\n",
      "FLAG_OWN_REALTY:True\n",
      "NAME_INCOME_TYPE:True\n",
      "NAME_EDUCATION_TYPE:True\n",
      "NAME_FAMILY_STATUS:True\n",
      "NAME_HOUSING_TYPE:True\n",
      "FLAG_MOBIL:False\n",
      "FLAG_WORK_PHONE:False\n",
      "FLAG_PHONE:False\n",
      "FLAG_EMAIL:False\n"
     ]
    }
   ],
   "source": [
    "for categorical_feature in categorical_features:\n",
    "    print(f\"{categorical_feature}:{categorical_feature in X_train.select_dtypes(include=['object']).columns}\")"
   ]
  },
  {
   "cell_type": "markdown",
   "id": "c2acf36a-1104-4761-94f9-0813e00bdf5b",
   "metadata": {},
   "source": [
    "## Pipeline"
   ]
  },
  {
   "cell_type": "code",
   "execution_count": 14,
   "id": "8088226f-e716-43d8-bff5-43982d553714",
   "metadata": {},
   "outputs": [
    {
     "name": "stderr",
     "output_type": "stream",
     "text": [
      "<ipython-input-14-cb27ffeb604a>:16: UserWarning: 2021-09-05 18:38:52.831266 INFO: Hard mode for the ModifiedColumnTransformer set to True: The initial features are going to be enforced during transformation and fit steps\n",
      "  preprocessor = ModifiedColumnTransformer(\n"
     ]
    }
   ],
   "source": [
    "categorical_transformer = Pipeline(\n",
    "    steps = [\n",
    "        (\"imputer\", SimpleImputer(strategy=\"constant\",missing_values=np.nan, fill_value=np.nan)),\n",
    "        (\"encoder\", WOEEncoder()),\n",
    "    ]\n",
    ")\n",
    "\n",
    "numeric_transformer = Pipeline(\n",
    "    steps = [\n",
    "        (\"imputer\", SimpleImputer(strategy=\"constant\", missing_values=np.nan, fill_value=np.nan)),\n",
    "        (\"scaler\", RobustScaler()),\n",
    "    ]\n",
    ")\n",
    "\n",
    "\n",
    "preprocessor = ModifiedColumnTransformer(\n",
    "    transformers=[\n",
    "        (\"categorical\", categorical_transformer, categorical_features),\n",
    "        (\"numeric\", numeric_transformer, numeric_features),\n",
    "    ],\n",
    "    numeric_features=numeric_features,\n",
    "    categorical_features=categorical_features,\n",
    ")"
   ]
  },
  {
   "cell_type": "code",
   "execution_count": 15,
   "id": "87711be5-1798-4498-85a6-2f4eb6885699",
   "metadata": {},
   "outputs": [
    {
     "data": {
      "text/html": [
       "<style>#sk-a0464f0f-f4c3-43c5-9549-48f438700a21 {color: black;background-color: white;}#sk-a0464f0f-f4c3-43c5-9549-48f438700a21 pre{padding: 0;}#sk-a0464f0f-f4c3-43c5-9549-48f438700a21 div.sk-toggleable {background-color: white;}#sk-a0464f0f-f4c3-43c5-9549-48f438700a21 label.sk-toggleable__label {cursor: pointer;display: block;width: 100%;margin-bottom: 0;padding: 0.2em 0.3em;box-sizing: border-box;text-align: center;}#sk-a0464f0f-f4c3-43c5-9549-48f438700a21 div.sk-toggleable__content {max-height: 0;max-width: 0;overflow: hidden;text-align: left;background-color: #f0f8ff;}#sk-a0464f0f-f4c3-43c5-9549-48f438700a21 div.sk-toggleable__content pre {margin: 0.2em;color: black;border-radius: 0.25em;background-color: #f0f8ff;}#sk-a0464f0f-f4c3-43c5-9549-48f438700a21 input.sk-toggleable__control:checked~div.sk-toggleable__content {max-height: 200px;max-width: 100%;overflow: auto;}#sk-a0464f0f-f4c3-43c5-9549-48f438700a21 div.sk-estimator input.sk-toggleable__control:checked~label.sk-toggleable__label {background-color: #d4ebff;}#sk-a0464f0f-f4c3-43c5-9549-48f438700a21 div.sk-label input.sk-toggleable__control:checked~label.sk-toggleable__label {background-color: #d4ebff;}#sk-a0464f0f-f4c3-43c5-9549-48f438700a21 input.sk-hidden--visually {border: 0;clip: rect(1px 1px 1px 1px);clip: rect(1px, 1px, 1px, 1px);height: 1px;margin: -1px;overflow: hidden;padding: 0;position: absolute;width: 1px;}#sk-a0464f0f-f4c3-43c5-9549-48f438700a21 div.sk-estimator {font-family: monospace;background-color: #f0f8ff;margin: 0.25em 0.25em;border: 1px dotted black;border-radius: 0.25em;box-sizing: border-box;}#sk-a0464f0f-f4c3-43c5-9549-48f438700a21 div.sk-estimator:hover {background-color: #d4ebff;}#sk-a0464f0f-f4c3-43c5-9549-48f438700a21 div.sk-parallel-item::after {content: \"\";width: 100%;border-bottom: 1px solid gray;flex-grow: 1;}#sk-a0464f0f-f4c3-43c5-9549-48f438700a21 div.sk-label:hover label.sk-toggleable__label {background-color: #d4ebff;}#sk-a0464f0f-f4c3-43c5-9549-48f438700a21 div.sk-serial::before {content: \"\";position: absolute;border-left: 1px solid gray;box-sizing: border-box;top: 2em;bottom: 0;left: 50%;}#sk-a0464f0f-f4c3-43c5-9549-48f438700a21 div.sk-serial {display: flex;flex-direction: column;align-items: center;background-color: white;}#sk-a0464f0f-f4c3-43c5-9549-48f438700a21 div.sk-item {z-index: 1;}#sk-a0464f0f-f4c3-43c5-9549-48f438700a21 div.sk-parallel {display: flex;align-items: stretch;justify-content: center;background-color: white;}#sk-a0464f0f-f4c3-43c5-9549-48f438700a21 div.sk-parallel-item {display: flex;flex-direction: column;position: relative;background-color: white;}#sk-a0464f0f-f4c3-43c5-9549-48f438700a21 div.sk-parallel-item:first-child::after {align-self: flex-end;width: 50%;}#sk-a0464f0f-f4c3-43c5-9549-48f438700a21 div.sk-parallel-item:last-child::after {align-self: flex-start;width: 50%;}#sk-a0464f0f-f4c3-43c5-9549-48f438700a21 div.sk-parallel-item:only-child::after {width: 0;}#sk-a0464f0f-f4c3-43c5-9549-48f438700a21 div.sk-dashed-wrapped {border: 1px dashed gray;margin: 0.2em;box-sizing: border-box;padding-bottom: 0.1em;background-color: white;position: relative;}#sk-a0464f0f-f4c3-43c5-9549-48f438700a21 div.sk-label label {font-family: monospace;font-weight: bold;background-color: white;display: inline-block;line-height: 1.2em;}#sk-a0464f0f-f4c3-43c5-9549-48f438700a21 div.sk-label-container {position: relative;z-index: 2;text-align: center;}#sk-a0464f0f-f4c3-43c5-9549-48f438700a21 div.sk-container {display: inline-block;position: relative;}</style><div id=\"sk-a0464f0f-f4c3-43c5-9549-48f438700a21\" class\"sk-top-container\"><div class=\"sk-container\"><div class=\"sk-item sk-dashed-wrapped\"><div class=\"sk-label-container\"><div class=\"sk-label sk-toggleable\"><input class=\"sk-toggleable__control sk-hidden--visually\" id=\"45fc7f0a-8f64-4dc0-b111-da4fc8a76187\" type=\"checkbox\" ><label class=\"sk-toggleable__label\" for=\"45fc7f0a-8f64-4dc0-b111-da4fc8a76187\">ModifiedColumnTransformer</label><div class=\"sk-toggleable__content\"><pre>ModifiedColumnTransformer(categorical_features=['CODE_GENDER', 'FLAG_OWN_CAR',\n",
       "                                                'FLAG_OWN_REALTY',\n",
       "                                                'NAME_INCOME_TYPE',\n",
       "                                                'NAME_EDUCATION_TYPE',\n",
       "                                                'NAME_FAMILY_STATUS',\n",
       "                                                'NAME_HOUSING_TYPE',\n",
       "                                                'FLAG_MOBIL', 'FLAG_WORK_PHONE',\n",
       "                                                'FLAG_PHONE', 'FLAG_EMAIL'],\n",
       "                          numeric_features=['CNT_CHILDREN', 'AMT_INCOME_TOTAL',\n",
       "                                            'DAYS_BIRTH', 'DAYS_EMPLOYED',\n",
       "                                            'CNT_FAM_MEMBERS'],\n",
       "                          transformers=[(...\n",
       "                                          'FLAG_OWN_REALTY', 'NAME_INCOME_TYPE',\n",
       "                                          'NAME_EDUCATION_TYPE',\n",
       "                                          'NAME_FAMILY_STATUS',\n",
       "                                          'NAME_HOUSING_TYPE', 'FLAG_MOBIL',\n",
       "                                          'FLAG_WORK_PHONE', 'FLAG_PHONE',\n",
       "                                          'FLAG_EMAIL']),\n",
       "                                        ('numeric',\n",
       "                                         Pipeline(steps=[('imputer',\n",
       "                                                          SimpleImputer(fill_value=nan,\n",
       "                                                                        strategy='constant')),\n",
       "                                                         ('scaler',\n",
       "                                                          RobustScaler())]),\n",
       "                                         ['CNT_CHILDREN', 'AMT_INCOME_TOTAL',\n",
       "                                          'DAYS_BIRTH', 'DAYS_EMPLOYED',\n",
       "                                          'CNT_FAM_MEMBERS'])])</pre></div></div></div><div class=\"sk-parallel\"><div class=\"sk-parallel-item\"><div class=\"sk-item\"><div class=\"sk-label-container\"><div class=\"sk-label sk-toggleable\"><input class=\"sk-toggleable__control sk-hidden--visually\" id=\"3fc9e2c1-d2e8-4248-989f-08b709ad5441\" type=\"checkbox\" ><label class=\"sk-toggleable__label\" for=\"3fc9e2c1-d2e8-4248-989f-08b709ad5441\">categorical</label><div class=\"sk-toggleable__content\"><pre>['CODE_GENDER', 'FLAG_OWN_CAR', 'FLAG_OWN_REALTY', 'NAME_INCOME_TYPE', 'NAME_EDUCATION_TYPE', 'NAME_FAMILY_STATUS', 'NAME_HOUSING_TYPE', 'FLAG_MOBIL', 'FLAG_WORK_PHONE', 'FLAG_PHONE', 'FLAG_EMAIL']</pre></div></div></div><div class=\"sk-serial\"><div class=\"sk-item\"><div class=\"sk-serial\"><div class=\"sk-item\"><div class=\"sk-estimator sk-toggleable\"><input class=\"sk-toggleable__control sk-hidden--visually\" id=\"a8ddc7d2-916f-4309-b01a-76f5e440417b\" type=\"checkbox\" ><label class=\"sk-toggleable__label\" for=\"a8ddc7d2-916f-4309-b01a-76f5e440417b\">SimpleImputer</label><div class=\"sk-toggleable__content\"><pre>SimpleImputer(fill_value=nan, strategy='constant')</pre></div></div></div><div class=\"sk-item\"><div class=\"sk-estimator sk-toggleable\"><input class=\"sk-toggleable__control sk-hidden--visually\" id=\"4d927cb9-f335-4339-8b05-7fe3993ae48e\" type=\"checkbox\" ><label class=\"sk-toggleable__label\" for=\"4d927cb9-f335-4339-8b05-7fe3993ae48e\">WOEEncoder</label><div class=\"sk-toggleable__content\"><pre>WOEEncoder()</pre></div></div></div></div></div></div></div></div><div class=\"sk-parallel-item\"><div class=\"sk-item\"><div class=\"sk-label-container\"><div class=\"sk-label sk-toggleable\"><input class=\"sk-toggleable__control sk-hidden--visually\" id=\"d0905217-cfc4-4cc2-a07c-651be973bb9b\" type=\"checkbox\" ><label class=\"sk-toggleable__label\" for=\"d0905217-cfc4-4cc2-a07c-651be973bb9b\">numeric</label><div class=\"sk-toggleable__content\"><pre>['CNT_CHILDREN', 'AMT_INCOME_TOTAL', 'DAYS_BIRTH', 'DAYS_EMPLOYED', 'CNT_FAM_MEMBERS']</pre></div></div></div><div class=\"sk-serial\"><div class=\"sk-item\"><div class=\"sk-serial\"><div class=\"sk-item\"><div class=\"sk-estimator sk-toggleable\"><input class=\"sk-toggleable__control sk-hidden--visually\" id=\"aad0dccc-e8ce-4ac7-8103-27d8f5231e19\" type=\"checkbox\" ><label class=\"sk-toggleable__label\" for=\"aad0dccc-e8ce-4ac7-8103-27d8f5231e19\">SimpleImputer</label><div class=\"sk-toggleable__content\"><pre>SimpleImputer(fill_value=nan, strategy='constant')</pre></div></div></div><div class=\"sk-item\"><div class=\"sk-estimator sk-toggleable\"><input class=\"sk-toggleable__control sk-hidden--visually\" id=\"c835a50d-a42f-4ea9-ae71-97af2a607aaa\" type=\"checkbox\" ><label class=\"sk-toggleable__label\" for=\"c835a50d-a42f-4ea9-ae71-97af2a607aaa\">RobustScaler</label><div class=\"sk-toggleable__content\"><pre>RobustScaler()</pre></div></div></div></div></div></div></div></div></div></div></div></div>"
      ],
      "text/plain": [
       "ModifiedColumnTransformer(categorical_features=['CODE_GENDER', 'FLAG_OWN_CAR',\n",
       "                                                'FLAG_OWN_REALTY',\n",
       "                                                'NAME_INCOME_TYPE',\n",
       "                                                'NAME_EDUCATION_TYPE',\n",
       "                                                'NAME_FAMILY_STATUS',\n",
       "                                                'NAME_HOUSING_TYPE',\n",
       "                                                'FLAG_MOBIL', 'FLAG_WORK_PHONE',\n",
       "                                                'FLAG_PHONE', 'FLAG_EMAIL'],\n",
       "                          numeric_features=['CNT_CHILDREN', 'AMT_INCOME_TOTAL',\n",
       "                                            'DAYS_BIRTH', 'DAYS_EMPLOYED',\n",
       "                                            'CNT_FAM_MEMBERS'],\n",
       "                          transformers=[(...\n",
       "                                          'FLAG_OWN_REALTY', 'NAME_INCOME_TYPE',\n",
       "                                          'NAME_EDUCATION_TYPE',\n",
       "                                          'NAME_FAMILY_STATUS',\n",
       "                                          'NAME_HOUSING_TYPE', 'FLAG_MOBIL',\n",
       "                                          'FLAG_WORK_PHONE', 'FLAG_PHONE',\n",
       "                                          'FLAG_EMAIL']),\n",
       "                                        ('numeric',\n",
       "                                         Pipeline(steps=[('imputer',\n",
       "                                                          SimpleImputer(fill_value=nan,\n",
       "                                                                        strategy='constant')),\n",
       "                                                         ('scaler',\n",
       "                                                          RobustScaler())]),\n",
       "                                         ['CNT_CHILDREN', 'AMT_INCOME_TOTAL',\n",
       "                                          'DAYS_BIRTH', 'DAYS_EMPLOYED',\n",
       "                                          'CNT_FAM_MEMBERS'])])"
      ]
     },
     "execution_count": 15,
     "metadata": {},
     "output_type": "execute_result"
    }
   ],
   "source": [
    "preprocessor"
   ]
  },
  {
   "cell_type": "markdown",
   "id": "f9fc5210-ff74-4ee8-9d39-9dc88bc4e153",
   "metadata": {},
   "source": [
    "## Dump preprocessor"
   ]
  },
  {
   "cell_type": "code",
   "execution_count": 16,
   "id": "1da0eafb-9dcd-4923-af12-e1be7206ecfe",
   "metadata": {},
   "outputs": [],
   "source": [
    "with open(f\"artifacts/{sts.PREPROCESSOR_FILENAME}\",\"wb\") as file:\n",
    "    pickle.dump(preprocessor, file)"
   ]
  },
  {
   "cell_type": "code",
   "execution_count": null,
   "id": "dac62be3-621d-4ebf-83d5-a860b12c392a",
   "metadata": {},
   "outputs": [],
   "source": []
  }
 ],
 "metadata": {
  "kernelspec": {
   "display_name": "Python 3",
   "language": "python",
   "name": "python3"
  },
  "language_info": {
   "codemirror_mode": {
    "name": "ipython",
    "version": 3
   },
   "file_extension": ".py",
   "mimetype": "text/x-python",
   "name": "python",
   "nbconvert_exporter": "python",
   "pygments_lexer": "ipython3",
   "version": "3.8.8"
  }
 },
 "nbformat": 4,
 "nbformat_minor": 5
}
