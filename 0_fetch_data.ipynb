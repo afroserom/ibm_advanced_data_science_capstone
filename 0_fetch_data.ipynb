{
 "cells": [
  {
   "cell_type": "code",
   "execution_count": 1,
   "id": "6e32a220-0955-47e7-8dcb-c950b66edf81",
   "metadata": {},
   "outputs": [],
   "source": [
    "# ! pip install pyarrow"
   ]
  },
  {
   "cell_type": "markdown",
   "id": "2c6d4665-4782-4a4a-8f11-fb6026d46421",
   "metadata": {},
   "source": [
    "# Fetch data"
   ]
  },
  {
   "cell_type": "markdown",
   "id": "d0b915d5-9195-42fc-872b-5e4dc98677d7",
   "metadata": {},
   "source": [
    "I chose data coming from credit card applications and records. The data is downloaded from Kaggle and can be found at https://www.kaggle.com/rikdifos/credit-card-approval-prediction"
   ]
  },
  {
   "cell_type": "markdown",
   "id": "c589d4b7-e5fa-4fe4-a049-39df431bb471",
   "metadata": {},
   "source": [
    "## <font>Download files</font>\n",
    "\n",
    "<font color=\"red\"> You must first install the Kaggle API CLI by running 'pip install kaggle' and also have the Kaggle credentials (kaggle.json) in the same folder of this NB</font>"
   ]
  },
  {
   "cell_type": "code",
   "execution_count": 2,
   "id": "c6b4033a-9dd0-4f2e-ba63-425694e36413",
   "metadata": {},
   "outputs": [
    {
     "name": "stdout",
     "output_type": "stream",
     "text": [
      "kaggle.json\n",
      "/Users/arosero/afroserom/coursera/IBM_advanced_DS\n",
      "Requirement already satisfied: kaggle in /opt/anaconda3/lib/python3.8/site-packages (1.5.12)\n",
      "Requirement already satisfied: certifi in /opt/anaconda3/lib/python3.8/site-packages (from kaggle) (2020.12.5)\n",
      "Requirement already satisfied: six>=1.10 in /opt/anaconda3/lib/python3.8/site-packages (from kaggle) (1.15.0)\n",
      "Requirement already satisfied: urllib3 in /opt/anaconda3/lib/python3.8/site-packages (from kaggle) (1.26.4)\n",
      "Requirement already satisfied: tqdm in /opt/anaconda3/lib/python3.8/site-packages (from kaggle) (4.59.0)\n",
      "Requirement already satisfied: python-slugify in /opt/anaconda3/lib/python3.8/site-packages (from kaggle) (5.0.2)\n",
      "Requirement already satisfied: python-dateutil in /opt/anaconda3/lib/python3.8/site-packages (from kaggle) (2.8.1)\n",
      "Requirement already satisfied: requests in /opt/anaconda3/lib/python3.8/site-packages (from kaggle) (2.25.1)\n",
      "Requirement already satisfied: text-unidecode>=1.3 in /opt/anaconda3/lib/python3.8/site-packages (from python-slugify->kaggle) (1.3)\n",
      "Requirement already satisfied: idna<3,>=2.5 in /opt/anaconda3/lib/python3.8/site-packages (from requests->kaggle) (2.10)\n",
      "Requirement already satisfied: chardet<5,>=3.0.2 in /opt/anaconda3/lib/python3.8/site-packages (from requests->kaggle) (4.0.0)\n",
      "Downloading credit-card-approval-prediction.zip to /Users/arosero/afroserom/coursera/IBM_advanced_DS/data\n",
      " 94%|███████████████████████████████████▋  | 5.00M/5.32M [00:00<00:00, 10.0MB/s]\n",
      "100%|██████████████████████████████████████| 5.32M/5.32M [00:00<00:00, 8.69MB/s]\n",
      "Archive:  data/credit-card-approval-prediction.zip\n",
      "  inflating: data/application_record.csv  \n",
      "  inflating: data/credit_record.csv  \n"
     ]
    }
   ],
   "source": [
    "# set up the Kaggle credentials\n",
    "!mkdir -p ~/.kaggle\n",
    "!cp kaggle.json ~/.kaggle/\n",
    "!ls ~/.kaggle\n",
    "!chmod 600 ~/.kaggle/kaggle.json\n",
    "\n",
    "!pwd\n",
    "# \n",
    "![ -f data/credit-card-approval-prediction.zip ] || pip install kaggle && cd data && kaggle datasets download rikdifos/credit-card-approval-prediction\n",
    "\n",
    "!unzip -o data/credit-card-approval-prediction.zip -d data"
   ]
  },
  {
   "cell_type": "markdown",
   "id": "341c7791-1c52-4621-9825-b38f1f0c5756",
   "metadata": {},
   "source": [
    "## Imports"
   ]
  },
  {
   "cell_type": "code",
   "execution_count": 3,
   "id": "4745d35a-314e-4ba2-859c-36457ed98a95",
   "metadata": {},
   "outputs": [],
   "source": [
    "import pandas as pd"
   ]
  },
  {
   "cell_type": "markdown",
   "id": "ad930fc8-13c1-4d43-8441-4a192637d6d5",
   "metadata": {},
   "source": [
    "## Format conversion\n",
    "\n",
    "Convert to parquet format for more flexible usage"
   ]
  },
  {
   "cell_type": "code",
   "execution_count": 4,
   "id": "e6caa4dc-fde2-4c30-ae66-b2732fa7d17b",
   "metadata": {},
   "outputs": [],
   "source": [
    "pd.read_csv(\"data/application_record.csv\").to_parquet(\"data/application.parquet\", index=False)\n",
    "pd.read_csv(\"data/credit_record.csv\").to_parquet(\"data/credit_record.parquet\", index=False)"
   ]
  },
  {
   "cell_type": "code",
   "execution_count": null,
   "id": "28cced7f-fd54-4c26-9725-8fb8df388c41",
   "metadata": {},
   "outputs": [],
   "source": []
  }
 ],
 "metadata": {
  "kernelspec": {
   "display_name": "Python 3",
   "language": "python",
   "name": "python3"
  },
  "language_info": {
   "codemirror_mode": {
    "name": "ipython",
    "version": 3
   },
   "file_extension": ".py",
   "mimetype": "text/x-python",
   "name": "python",
   "nbconvert_exporter": "python",
   "pygments_lexer": "ipython3",
   "version": "3.8.8"
  }
 },
 "nbformat": 4,
 "nbformat_minor": 5
}
