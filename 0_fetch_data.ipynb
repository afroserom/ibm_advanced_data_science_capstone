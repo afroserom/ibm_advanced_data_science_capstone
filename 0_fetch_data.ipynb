{
 "cells": [
  {
   "cell_type": "markdown",
   "id": "bf6dd1d0-6ab7-4571-a029-7ade44d3d8bf",
   "metadata": {},
   "source": [
    "# ETL"
   ]
  },
  {
   "cell_type": "code",
   "execution_count": 1,
   "id": "6e32a220-0955-47e7-8dcb-c950b66edf81",
   "metadata": {},
   "outputs": [],
   "source": [
    "# ! pip install pyarrow"
   ]
  },
  {
   "cell_type": "markdown",
   "id": "2c6d4665-4782-4a4a-8f11-fb6026d46421",
   "metadata": {},
   "source": [
    "# Fetch data"
   ]
  },
  {
   "cell_type": "markdown",
   "id": "d0b915d5-9195-42fc-872b-5e4dc98677d7",
   "metadata": {},
   "source": [
    "I chose data coming from credit card applications and records. The data is downloaded from Kaggle and can be found at https://www.kaggle.com/rikdifos/credit-card-approval-prediction"
   ]
  },
  {
   "cell_type": "markdown",
   "id": "c589d4b7-e5fa-4fe4-a049-39df431bb471",
   "metadata": {},
   "source": [
    "## <font>Download files</font>\n",
    "\n",
    "<font color=\"red\"> You must first install the Kaggle API CLI by running 'pip install kaggle' and also have the Kaggle credentials (kaggle.json) in the same folder of this NB</font>"
   ]
  },
  {
   "cell_type": "code",
   "execution_count": 2,
   "id": "c6b4033a-9dd0-4f2e-ba63-425694e36413",
   "metadata": {},
   "outputs": [
    {
     "name": "stdout",
     "output_type": "stream",
     "text": [
      "kaggle.json\n",
      "/Users/arosero/afroserom/coursera/IBM_advanced_DS\n",
      "credit-card-approval-prediction.zip: Skipping, found more recently modified local copy (use --force to force download)\n",
      "Archive:  data/credit-card-approval-prediction.zip\n",
      "  inflating: data/application_record.csv  \n",
      "  inflating: data/credit_record.csv  \n"
     ]
    }
   ],
   "source": [
    "# set up the Kaggle credentials\n",
    "!mkdir -p ~/.kaggle\n",
    "!cp kaggle.json ~/.kaggle/\n",
    "!ls ~/.kaggle\n",
    "!chmod 600 ~/.kaggle/kaggle.json\n",
    "\n",
    "!pwd\n",
    "# \n",
    "![ -f data/credit-card-approval-prediction.zip ] || pip install kaggle && cd data && kaggle datasets download rikdifos/credit-card-approval-prediction\n",
    "\n",
    "!unzip -o data/credit-card-approval-prediction.zip -d data"
   ]
  },
  {
   "cell_type": "markdown",
   "id": "39238b1d-238f-417f-8e67-c076bbb5851f",
   "metadata": {},
   "source": [
    "## Settings"
   ]
  },
  {
   "cell_type": "code",
   "execution_count": 3,
   "id": "6e6b1149-83c8-423a-a674-76215ba1db1b",
   "metadata": {},
   "outputs": [],
   "source": [
    "%load_ext autoreload"
   ]
  },
  {
   "cell_type": "code",
   "execution_count": 4,
   "id": "7703d12d-baed-49ab-8d92-4c233ae8aac7",
   "metadata": {},
   "outputs": [],
   "source": [
    "%autoreload 2"
   ]
  },
  {
   "cell_type": "code",
   "execution_count": 5,
   "id": "d445438c-e91a-4119-b54f-d33a5c7b160a",
   "metadata": {},
   "outputs": [
    {
     "name": "stdout",
     "output_type": "stream",
     "text": [
      "\u001b[1m\u001b[91mBEST_ESTIMATOR_FILENAME : best_estimator_0.0.1.pkl\n",
      "\u001b[1m\u001b[91mDATASET_TRAIN_FILENAME : dataset_train.parquet\n",
      "\u001b[1m\u001b[91mDATASET_VALIDATION_FILENAME : dataset_validation.parquet\n",
      "\u001b[1m\u001b[91mETL_VERSION : 0.0.1\n",
      "\u001b[1m\u001b[91mMODEL_FILENAME : model.pkl\n",
      "\u001b[1m\u001b[91mMODEL_VERSION : 0.0.1\n",
      "\u001b[1m\u001b[91mPREPROCESSOR_FILENAME : preprocessor_0.0.1.pkl\n",
      "\u001b[1m\u001b[91mTRAINED_BEST_ESTIMATOR_FILENAME : trained_best_estimator_0.0.1.pkl\n",
      "\u001b[1m\u001b[91mcolor : <class 'helpers.settings.color'>\n",
      "\u001b[1m\u001b[91mprint_settings : <function print_settings at 0x7ff0f8500280>\n",
      "\u001b[0m\n"
     ]
    }
   ],
   "source": [
    "import helpers.settings as sts\n",
    "sts.print_settings(sts)"
   ]
  },
  {
   "cell_type": "markdown",
   "id": "341c7791-1c52-4621-9825-b38f1f0c5756",
   "metadata": {},
   "source": [
    "## Imports"
   ]
  },
  {
   "cell_type": "code",
   "execution_count": 6,
   "id": "4745d35a-314e-4ba2-859c-36457ed98a95",
   "metadata": {},
   "outputs": [],
   "source": [
    "import pandas as pd\n",
    "from sklearn.model_selection import train_test_split\n",
    "from sklearn.model_selection import cross_validate\n",
    "from sklearn.preprocessing import RobustScaler, FunctionTransformer\n",
    "from sklearn.pipeline import Pipeline\n",
    "from sklearn.compose import ColumnTransformer\n",
    "from sklearn.linear_model import LogisticRegression\n",
    "from sklearn.model_selection import RandomizedSearchCV\n",
    "from sklearn.preprocessing import OneHotEncoder\n",
    "from sklearn.impute import SimpleImputer\n",
    "from sklearn.metrics import (\n",
    "    classification_report,\n",
    "    plot_precision_recall_curve,\n",
    "    precision_recall_curve,\n",
    "    average_precision_score,\n",
    ")\n",
    "from xgboost import XGBClassifier\n",
    "from category_encoders.woe import WOEEncoder\n",
    "from sklearn.preprocessing import RobustScaler\n",
    "import numpy as np"
   ]
  },
  {
   "cell_type": "markdown",
   "id": "ad930fc8-13c1-4d43-8441-4a192637d6d5",
   "metadata": {},
   "source": [
    "## Format conversion\n",
    "\n",
    "Convert to parquet format for more flexible usage"
   ]
  },
  {
   "cell_type": "code",
   "execution_count": 7,
   "id": "e6caa4dc-fde2-4c30-ae66-b2732fa7d17b",
   "metadata": {},
   "outputs": [],
   "source": [
    "pd.read_csv(\"data/application_record.csv\").to_parquet(\"data/application.parquet\", index=False)\n",
    "pd.read_csv(\"data/credit_record.csv\").to_parquet(\"data/credit_record.parquet\", index=False)"
   ]
  },
  {
   "cell_type": "code",
   "execution_count": 8,
   "id": "61806287-571d-4438-9adf-c3006ae2e2d8",
   "metadata": {},
   "outputs": [],
   "source": [
    "application = pd.read_parquet(\"data/application.parquet\")\n",
    "credit_record = pd.read_parquet(\"data/credit_record.parquet\")"
   ]
  },
  {
   "cell_type": "markdown",
   "id": "a2675899-fb08-4cb7-a844-626430133ba9",
   "metadata": {},
   "source": [
    "## Creating label"
   ]
  },
  {
   "cell_type": "markdown",
   "id": "4bc83839-552a-42b1-a8f5-47d0f61d7e13",
   "metadata": {},
   "source": [
    "### Month balance & status\n",
    "\n",
    "Month balance: \n",
    "\n",
    "The month of the extracted data is the starting point, backwards, 0 is the current month, -1 is the previous month, and so on\n",
    "\n",
    "Status:\n",
    "\n",
    "0: 1-29 days past due 1: 30-59 days past due 2: 60-89 days overdue 3: 90-119 days overdue 4: 120-149 days overdue 5: Overdue or bad debts, write-offs for more than 150 days C: paid off that month X: No loan for the month\n",
    "\n",
    "<font color=\"red\">I will assume that any overdue of 60 or more days corresponds to a default</font>"
   ]
  },
  {
   "cell_type": "code",
   "execution_count": 9,
   "id": "3a2d97ab-8565-4c18-9cc3-fc739dc4059e",
   "metadata": {},
   "outputs": [],
   "source": [
    "defaulted_user_ids = credit_record.query(\"STATUS not in ['0','1','C','X']\")[\"ID\"].unique()"
   ]
  },
  {
   "cell_type": "code",
   "execution_count": 10,
   "id": "b08427f3-3921-47c2-8629-6a194efbe307",
   "metadata": {},
   "outputs": [],
   "source": [
    "credit_record_unique = credit_record.drop_duplicates(subset=[\"ID\"],keep=\"last\",ignore_index=True).copy()"
   ]
  },
  {
   "cell_type": "code",
   "execution_count": 11,
   "id": "d1c59c6b-9b0d-423b-9f49-5754622439f9",
   "metadata": {},
   "outputs": [],
   "source": [
    "credit_record_unique[\"LABEL\"] = credit_record[\"ID\"].apply(lambda x: 1 if x in defaulted_user_ids else 0)"
   ]
  },
  {
   "cell_type": "code",
   "execution_count": 12,
   "id": "0025583d-d60a-4eae-a5ed-c9838aa9e931",
   "metadata": {},
   "outputs": [
    {
     "data": {
      "text/plain": [
       "0    0.988583\n",
       "1    0.011417\n",
       "Name: LABEL, dtype: float64"
      ]
     },
     "execution_count": 12,
     "metadata": {},
     "output_type": "execute_result"
    }
   ],
   "source": [
    "credit_record_unique[\"LABEL\"].value_counts(normalize=True)"
   ]
  },
  {
   "cell_type": "markdown",
   "id": "e0efa883-9e93-4500-85c9-62c454d19d86",
   "metadata": {},
   "source": [
    "### Merge applications with credit records"
   ]
  },
  {
   "cell_type": "code",
   "execution_count": 13,
   "id": "8a558a7e-e26c-4407-8f0a-f02220b15129",
   "metadata": {},
   "outputs": [],
   "source": [
    "df = application.merge(credit_record_unique[[\"ID\",\"LABEL\"]], how=\"inner\", on=\"ID\")"
   ]
  },
  {
   "cell_type": "markdown",
   "id": "632bfb04-afd9-4887-aa72-ad83a760260f",
   "metadata": {},
   "source": [
    "### Drop duplicates"
   ]
  },
  {
   "cell_type": "code",
   "execution_count": 14,
   "id": "5a375850-0bdc-45b3-892b-46d74ca89edf",
   "metadata": {},
   "outputs": [],
   "source": [
    "df.drop_duplicates(subset=[\"ID\"], keep=\"first\", inplace=True)"
   ]
  },
  {
   "cell_type": "code",
   "execution_count": 15,
   "id": "6f29d2ef-6ca6-4d1e-b340-ebf6c43f82e7",
   "metadata": {},
   "outputs": [
    {
     "data": {
      "text/html": [
       "<div>\n",
       "<style scoped>\n",
       "    .dataframe tbody tr th:only-of-type {\n",
       "        vertical-align: middle;\n",
       "    }\n",
       "\n",
       "    .dataframe tbody tr th {\n",
       "        vertical-align: top;\n",
       "    }\n",
       "\n",
       "    .dataframe thead th {\n",
       "        text-align: right;\n",
       "    }\n",
       "</style>\n",
       "<table border=\"1\" class=\"dataframe\">\n",
       "  <thead>\n",
       "    <tr style=\"text-align: right;\">\n",
       "      <th></th>\n",
       "      <th>ID</th>\n",
       "      <th>CODE_GENDER</th>\n",
       "      <th>FLAG_OWN_CAR</th>\n",
       "      <th>FLAG_OWN_REALTY</th>\n",
       "      <th>CNT_CHILDREN</th>\n",
       "      <th>AMT_INCOME_TOTAL</th>\n",
       "      <th>NAME_INCOME_TYPE</th>\n",
       "      <th>NAME_EDUCATION_TYPE</th>\n",
       "      <th>NAME_FAMILY_STATUS</th>\n",
       "      <th>NAME_HOUSING_TYPE</th>\n",
       "      <th>DAYS_BIRTH</th>\n",
       "      <th>DAYS_EMPLOYED</th>\n",
       "      <th>FLAG_MOBIL</th>\n",
       "      <th>FLAG_WORK_PHONE</th>\n",
       "      <th>FLAG_PHONE</th>\n",
       "      <th>FLAG_EMAIL</th>\n",
       "      <th>OCCUPATION_TYPE</th>\n",
       "      <th>CNT_FAM_MEMBERS</th>\n",
       "      <th>LABEL</th>\n",
       "    </tr>\n",
       "  </thead>\n",
       "  <tbody>\n",
       "    <tr>\n",
       "      <th>0</th>\n",
       "      <td>5008804</td>\n",
       "      <td>M</td>\n",
       "      <td>Y</td>\n",
       "      <td>Y</td>\n",
       "      <td>0</td>\n",
       "      <td>427500.0</td>\n",
       "      <td>Working</td>\n",
       "      <td>Higher education</td>\n",
       "      <td>Civil marriage</td>\n",
       "      <td>Rented apartment</td>\n",
       "      <td>-12005</td>\n",
       "      <td>-4542</td>\n",
       "      <td>1</td>\n",
       "      <td>1</td>\n",
       "      <td>0</td>\n",
       "      <td>0</td>\n",
       "      <td>None</td>\n",
       "      <td>2.0</td>\n",
       "      <td>0</td>\n",
       "    </tr>\n",
       "    <tr>\n",
       "      <th>1</th>\n",
       "      <td>5008805</td>\n",
       "      <td>M</td>\n",
       "      <td>Y</td>\n",
       "      <td>Y</td>\n",
       "      <td>0</td>\n",
       "      <td>427500.0</td>\n",
       "      <td>Working</td>\n",
       "      <td>Higher education</td>\n",
       "      <td>Civil marriage</td>\n",
       "      <td>Rented apartment</td>\n",
       "      <td>-12005</td>\n",
       "      <td>-4542</td>\n",
       "      <td>1</td>\n",
       "      <td>1</td>\n",
       "      <td>0</td>\n",
       "      <td>0</td>\n",
       "      <td>None</td>\n",
       "      <td>2.0</td>\n",
       "      <td>0</td>\n",
       "    </tr>\n",
       "    <tr>\n",
       "      <th>2</th>\n",
       "      <td>5008806</td>\n",
       "      <td>M</td>\n",
       "      <td>Y</td>\n",
       "      <td>Y</td>\n",
       "      <td>0</td>\n",
       "      <td>112500.0</td>\n",
       "      <td>Working</td>\n",
       "      <td>Secondary / secondary special</td>\n",
       "      <td>Married</td>\n",
       "      <td>House / apartment</td>\n",
       "      <td>-21474</td>\n",
       "      <td>-1134</td>\n",
       "      <td>1</td>\n",
       "      <td>0</td>\n",
       "      <td>0</td>\n",
       "      <td>0</td>\n",
       "      <td>Security staff</td>\n",
       "      <td>2.0</td>\n",
       "      <td>0</td>\n",
       "    </tr>\n",
       "    <tr>\n",
       "      <th>3</th>\n",
       "      <td>5008808</td>\n",
       "      <td>F</td>\n",
       "      <td>N</td>\n",
       "      <td>Y</td>\n",
       "      <td>0</td>\n",
       "      <td>270000.0</td>\n",
       "      <td>Commercial associate</td>\n",
       "      <td>Secondary / secondary special</td>\n",
       "      <td>Single / not married</td>\n",
       "      <td>House / apartment</td>\n",
       "      <td>-19110</td>\n",
       "      <td>-3051</td>\n",
       "      <td>1</td>\n",
       "      <td>0</td>\n",
       "      <td>1</td>\n",
       "      <td>1</td>\n",
       "      <td>Sales staff</td>\n",
       "      <td>1.0</td>\n",
       "      <td>0</td>\n",
       "    </tr>\n",
       "    <tr>\n",
       "      <th>4</th>\n",
       "      <td>5008809</td>\n",
       "      <td>F</td>\n",
       "      <td>N</td>\n",
       "      <td>Y</td>\n",
       "      <td>0</td>\n",
       "      <td>270000.0</td>\n",
       "      <td>Commercial associate</td>\n",
       "      <td>Secondary / secondary special</td>\n",
       "      <td>Single / not married</td>\n",
       "      <td>House / apartment</td>\n",
       "      <td>-19110</td>\n",
       "      <td>-3051</td>\n",
       "      <td>1</td>\n",
       "      <td>0</td>\n",
       "      <td>1</td>\n",
       "      <td>1</td>\n",
       "      <td>Sales staff</td>\n",
       "      <td>1.0</td>\n",
       "      <td>0</td>\n",
       "    </tr>\n",
       "  </tbody>\n",
       "</table>\n",
       "</div>"
      ],
      "text/plain": [
       "        ID CODE_GENDER FLAG_OWN_CAR FLAG_OWN_REALTY  CNT_CHILDREN  \\\n",
       "0  5008804           M            Y               Y             0   \n",
       "1  5008805           M            Y               Y             0   \n",
       "2  5008806           M            Y               Y             0   \n",
       "3  5008808           F            N               Y             0   \n",
       "4  5008809           F            N               Y             0   \n",
       "\n",
       "   AMT_INCOME_TOTAL      NAME_INCOME_TYPE            NAME_EDUCATION_TYPE  \\\n",
       "0          427500.0               Working               Higher education   \n",
       "1          427500.0               Working               Higher education   \n",
       "2          112500.0               Working  Secondary / secondary special   \n",
       "3          270000.0  Commercial associate  Secondary / secondary special   \n",
       "4          270000.0  Commercial associate  Secondary / secondary special   \n",
       "\n",
       "     NAME_FAMILY_STATUS  NAME_HOUSING_TYPE  DAYS_BIRTH  DAYS_EMPLOYED  \\\n",
       "0        Civil marriage   Rented apartment      -12005          -4542   \n",
       "1        Civil marriage   Rented apartment      -12005          -4542   \n",
       "2               Married  House / apartment      -21474          -1134   \n",
       "3  Single / not married  House / apartment      -19110          -3051   \n",
       "4  Single / not married  House / apartment      -19110          -3051   \n",
       "\n",
       "   FLAG_MOBIL  FLAG_WORK_PHONE  FLAG_PHONE  FLAG_EMAIL OCCUPATION_TYPE  \\\n",
       "0           1                1           0           0            None   \n",
       "1           1                1           0           0            None   \n",
       "2           1                0           0           0  Security staff   \n",
       "3           1                0           1           1     Sales staff   \n",
       "4           1                0           1           1     Sales staff   \n",
       "\n",
       "   CNT_FAM_MEMBERS  LABEL  \n",
       "0              2.0      0  \n",
       "1              2.0      0  \n",
       "2              2.0      0  \n",
       "3              1.0      0  \n",
       "4              1.0      0  "
      ]
     },
     "execution_count": 15,
     "metadata": {},
     "output_type": "execute_result"
    }
   ],
   "source": [
    "df.head()"
   ]
  },
  {
   "cell_type": "markdown",
   "id": "89a37768-983f-4550-a25a-4b69bb931159",
   "metadata": {},
   "source": [
    "## Split datasets"
   ]
  },
  {
   "cell_type": "code",
   "execution_count": 16,
   "id": "c1826bf0-5b60-47b1-9f75-251a8551d277",
   "metadata": {},
   "outputs": [],
   "source": [
    "X = df.iloc[:,1:-1] \n",
    "y = df.iloc[:,-1] "
   ]
  },
  {
   "cell_type": "code",
   "execution_count": 17,
   "id": "9bb287a6-eecd-43a8-b2c9-d5a611027948",
   "metadata": {},
   "outputs": [],
   "source": [
    "X_train, X_test, y_train, y_test = train_test_split( X, y, test_size=0.15, random_state=42)"
   ]
  },
  {
   "cell_type": "code",
   "execution_count": 18,
   "id": "e6b07b4d-ce22-4122-bf41-779e13097329",
   "metadata": {},
   "outputs": [
    {
     "data": {
      "text/plain": [
       "0    0.986963\n",
       "1    0.013037\n",
       "Name: LABEL, dtype: float64"
      ]
     },
     "execution_count": 18,
     "metadata": {},
     "output_type": "execute_result"
    }
   ],
   "source": [
    "y_train.value_counts(normalize=True)"
   ]
  },
  {
   "cell_type": "markdown",
   "id": "7263f581-3423-4d9c-acfe-4b8e58ebeda0",
   "metadata": {},
   "source": [
    "## Dump datasets"
   ]
  },
  {
   "cell_type": "code",
   "execution_count": 19,
   "id": "cb743f70-7084-448b-9a5e-47768f9387c0",
   "metadata": {},
   "outputs": [],
   "source": [
    "pd.concat([X_train, y_train], axis=1).to_parquet(f\"data/{sts.DATASET_TRAIN_FILENAME}\", index=False)\n",
    "pd.concat([X_test, y_test], axis=1).to_parquet(f\"data/{sts.DATASET_VALIDATION_FILENAME}\", index=False)"
   ]
  }
 ],
 "metadata": {
  "kernelspec": {
   "display_name": "Python 3",
   "language": "python",
   "name": "python3"
  },
  "language_info": {
   "codemirror_mode": {
    "name": "ipython",
    "version": 3
   },
   "file_extension": ".py",
   "mimetype": "text/x-python",
   "name": "python",
   "nbconvert_exporter": "python",
   "pygments_lexer": "ipython3",
   "version": "3.8.8"
  }
 },
 "nbformat": 4,
 "nbformat_minor": 5
}
