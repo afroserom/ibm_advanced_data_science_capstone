{
 "cells": [
  {
   "cell_type": "markdown",
   "id": "add89552-5890-4117-82b3-e8edbcd2496c",
   "metadata": {},
   "source": [
    "# EDA"
   ]
  },
  {
   "cell_type": "markdown",
   "id": "ece31beb-bc85-4924-9bad-9dbcf52ec7b9",
   "metadata": {},
   "source": [
    "I will follow the IBM Garage Method for Data Science approach to solve the suggested task of <font color=\"red\">building a model to predict if an applicant is 'good' or 'bad' client, the definition of 'good' or 'bad' is not given</font>. The model will be developed in a local Jupyter Notebook for simplicity and later transferred to an IBM Data Platform notebook to train it and serialize it. Finally, I will deploy the model in the Google Cloud ML managed service.  "
   ]
  },
  {
   "cell_type": "code",
   "execution_count": 2,
   "id": "b35dc6cb-e4e6-4adb-8465-4b7216db912b",
   "metadata": {},
   "outputs": [],
   "source": [
    "import pandas as pd\n",
    "import seaborn as sns"
   ]
  },
  {
   "cell_type": "code",
   "execution_count": null,
   "id": "ff080249-6ce1-405b-ba61-a3f202c03aa0",
   "metadata": {},
   "outputs": [],
   "source": []
  }
 ],
 "metadata": {
  "kernelspec": {
   "display_name": "Python 3",
   "language": "python",
   "name": "python3"
  },
  "language_info": {
   "codemirror_mode": {
    "name": "ipython",
    "version": 3
   },
   "file_extension": ".py",
   "mimetype": "text/x-python",
   "name": "python",
   "nbconvert_exporter": "python",
   "pygments_lexer": "ipython3",
   "version": "3.8.8"
  }
 },
 "nbformat": 4,
 "nbformat_minor": 5
}
