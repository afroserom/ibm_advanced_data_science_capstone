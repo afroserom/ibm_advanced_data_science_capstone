{
 "cells": [
  {
   "cell_type": "code",
   "execution_count": null,
   "id": "6e32a220-0955-47e7-8dcb-c950b66edf81",
   "metadata": {},
   "outputs": [],
   "source": [
    "# ! pip install pyarrow"
   ]
  },
  {
   "cell_type": "markdown",
   "id": "2c6d4665-4782-4a4a-8f11-fb6026d46421",
   "metadata": {},
   "source": [
    "# ETL"
   ]
  },
  {
   "cell_type": "markdown",
   "id": "d0b915d5-9195-42fc-872b-5e4dc98677d7",
   "metadata": {},
   "source": [
    "I chose data coming from credit card applications and records. The data is downloaded from Kaggle and can be found at https://www.kaggle.com/rikdifos/credit-card-approval-prediction"
   ]
  },
  {
   "cell_type": "markdown",
   "id": "c589d4b7-e5fa-4fe4-a049-39df431bb471",
   "metadata": {},
   "source": [
    "## <font>Download files</font>\n",
    "\n",
    "<font color=\"red\"> You must first install the Kaggle API CLI by running 'pip install kaggle' and also have the Kaggle credentials (kaggle.json) in the same folder of this NB</font>"
   ]
  },
  {
   "cell_type": "code",
   "execution_count": null,
   "id": "c6b4033a-9dd0-4f2e-ba63-425694e36413",
   "metadata": {},
   "outputs": [],
   "source": [
    "# set up the Kaggle credentials\n",
    "!mkdir -p ~/.kaggle\n",
    "!cp kaggle.json ~/.kaggle/\n",
    "!ls ~/.kaggle\n",
    "!chmod 600 ~/.kaggle/kaggle.json\n",
    "\n",
    "!pwd\n",
    "# \n",
    "![ -f data/credit-card-approval-prediction.zip ] || pip install kaggle && cd data && kaggle datasets download rikdifos/credit-card-approval-prediction\n",
    "\n",
    "!unzip -o data/credit-card-approval-prediction.zip -d data"
   ]
  },
  {
   "cell_type": "markdown",
   "id": "341c7791-1c52-4621-9825-b38f1f0c5756",
   "metadata": {},
   "source": [
    "## Imports"
   ]
  },
  {
   "cell_type": "code",
   "execution_count": null,
   "id": "4745d35a-314e-4ba2-859c-36457ed98a95",
   "metadata": {},
   "outputs": [],
   "source": [
    "import pandas as pd"
   ]
  },
  {
   "cell_type": "markdown",
   "id": "ad930fc8-13c1-4d43-8441-4a192637d6d5",
   "metadata": {},
   "source": [
    "## Format conversion"
   ]
  },
  {
   "cell_type": "code",
   "execution_count": null,
   "id": "e6caa4dc-fde2-4c30-ae66-b2732fa7d17b",
   "metadata": {},
   "outputs": [],
   "source": [
    "pd.read_csv(\"data/application_record.csv\").to_parquet(\"data/application.parquet\", index=False)\n",
    "pd.read_csv(\"data/credit_record.csv\").to_parquet(\"data/credit_record.parquet\", index=False)"
   ]
  },
  {
   "cell_type": "code",
   "execution_count": null,
   "id": "28cced7f-fd54-4c26-9725-8fb8df388c41",
   "metadata": {},
   "outputs": [],
   "source": []
  }
 ],
 "metadata": {
  "kernelspec": {
   "display_name": "Python 3",
   "language": "python",
   "name": "python3"
  },
  "language_info": {
   "codemirror_mode": {
    "name": "ipython",
    "version": 3
   },
   "file_extension": ".py",
   "mimetype": "text/x-python",
   "name": "python",
   "nbconvert_exporter": "python",
   "pygments_lexer": "ipython3",
   "version": "3.8.8"
  }
 },
 "nbformat": 4,
 "nbformat_minor": 5
}
