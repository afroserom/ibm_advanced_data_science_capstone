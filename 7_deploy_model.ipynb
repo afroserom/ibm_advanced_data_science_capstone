{
 "cells": [
  {
   "cell_type": "markdown",
   "id": "ad985576-65dc-475c-abce-b4e185dde76f",
   "metadata": {},
   "source": [
    "# Deploy model"
   ]
  },
  {
   "cell_type": "markdown",
   "id": "58e4a90e-b408-4a0a-ba8a-a1ba11873d0d",
   "metadata": {},
   "source": [
    "## Settings"
   ]
  },
  {
   "cell_type": "code",
   "execution_count": 1,
   "id": "d91e8e05-e80e-4c1a-8955-53647aa820fe",
   "metadata": {},
   "outputs": [],
   "source": [
    "%load_ext autoreload"
   ]
  },
  {
   "cell_type": "code",
   "execution_count": 2,
   "id": "28a2aed0-4d89-4597-bd7b-92cad3459727",
   "metadata": {},
   "outputs": [],
   "source": [
    "%autoreload 2"
   ]
  },
  {
   "cell_type": "code",
   "execution_count": 3,
   "id": "e86e77b7-9ce7-451f-ac81-b5e4a7fa3bf5",
   "metadata": {},
   "outputs": [
    {
     "name": "stdout",
     "output_type": "stream",
     "text": [
      "\u001b[1m\u001b[91mBEST_ESTIMATOR_FILENAME : best_estimator_0.0.1.pkl\n",
      "\u001b[1m\u001b[91mDATASET_TRAIN_FILENAME : dataset_train.parquet\n",
      "\u001b[1m\u001b[91mDATASET_VALIDATION_FILENAME : dataset_validation.parquet\n",
      "\u001b[1m\u001b[91mETL_VERSION : 0.0.1\n",
      "\u001b[1m\u001b[91mMODEL_FILENAME : model.pkl\n",
      "\u001b[1m\u001b[91mMODEL_VERSION : 0.0.1\n",
      "\u001b[1m\u001b[91mPREPROCESSOR_FILENAME : preprocessor_0.0.1.pkl\n",
      "\u001b[1m\u001b[91mTRAINED_BEST_ESTIMATOR_FILENAME : trained_best_estimator_0.0.1.pkl\n",
      "\u001b[1m\u001b[91mcolor : <class 'helpers.settings.color'>\n",
      "\u001b[1m\u001b[91mprint_settings : <function print_settings at 0x7ff7ceaaab80>\n",
      "\u001b[0m\n"
     ]
    }
   ],
   "source": [
    "import helpers.settings as sts\n",
    "sts.print_settings(sts)"
   ]
  },
  {
   "cell_type": "markdown",
   "id": "f560443f-9f21-4710-b694-463681b84658",
   "metadata": {},
   "source": [
    "## Imports"
   ]
  },
  {
   "cell_type": "code",
   "execution_count": 4,
   "id": "93b88ff1-944f-4bed-934b-1827fdf54c8c",
   "metadata": {},
   "outputs": [],
   "source": [
    "import pickle\n",
    "import pandas as pd\n",
    "import numpy as np"
   ]
  },
  {
   "cell_type": "markdown",
   "id": "e3e0fe60-e181-4f47-b0aa-dd35a6864bce",
   "metadata": {},
   "source": [
    "## Load trained best estimator"
   ]
  },
  {
   "cell_type": "code",
   "execution_count": 5,
   "id": "c599587b-d978-49c9-bf75-3791b476998f",
   "metadata": {},
   "outputs": [],
   "source": [
    "with open(f\"artifacts/{sts.TRAINED_BEST_ESTIMATOR_FILENAME}\",\"rb\") as file:\n",
    "    best_estimator = pickle.load(file)    "
   ]
  },
  {
   "cell_type": "markdown",
   "id": "2220be14-ff3d-4feb-b494-ebe9e7c467f2",
   "metadata": {},
   "source": [
    "## Dump final model"
   ]
  },
  {
   "cell_type": "code",
   "execution_count": 6,
   "id": "57be6960-fdf3-4165-9761-fadbf466313b",
   "metadata": {},
   "outputs": [],
   "source": [
    "with open(f\"artifacts/{sts.MODEL_FILENAME}\",\"wb\") as file:\n",
    "    pickle.dump(best_estimator, file)"
   ]
  },
  {
   "cell_type": "code",
   "execution_count": null,
   "id": "fc46d789-f45f-4bc2-8472-2b0a3a062453",
   "metadata": {},
   "outputs": [],
   "source": []
  }
 ],
 "metadata": {
  "kernelspec": {
   "display_name": "Python 3",
   "language": "python",
   "name": "python3"
  },
  "language_info": {
   "codemirror_mode": {
    "name": "ipython",
    "version": 3
   },
   "file_extension": ".py",
   "mimetype": "text/x-python",
   "name": "python",
   "nbconvert_exporter": "python",
   "pygments_lexer": "ipython3",
   "version": "3.8.8"
  }
 },
 "nbformat": 4,
 "nbformat_minor": 5
}
