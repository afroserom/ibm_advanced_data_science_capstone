{
 "cells": [
  {
   "cell_type": "code",
   "execution_count": 1,
   "id": "d3072fce-3df2-4110-b082-c630f876525b",
   "metadata": {},
   "outputs": [],
   "source": [
    "# ! pip install shap"
   ]
  },
  {
   "cell_type": "markdown",
   "id": "6337a8ae-98e5-4674-a15d-6e8b5c25e9c0",
   "metadata": {},
   "source": [
    "# Model definition"
   ]
  },
  {
   "cell_type": "markdown",
   "id": "6b29bb8a-8ed5-4005-add0-1d9b0e518d5f",
   "metadata": {},
   "source": [
    "## Settings"
   ]
  },
  {
   "cell_type": "code",
   "execution_count": 2,
   "id": "8039703a-e2ac-4d34-ae5d-9e628d965e54",
   "metadata": {},
   "outputs": [],
   "source": [
    "%load_ext autoreload"
   ]
  },
  {
   "cell_type": "code",
   "execution_count": 3,
   "id": "6396f481-c6e8-41e5-8452-1be6740e6f8b",
   "metadata": {},
   "outputs": [],
   "source": [
    "%autoreload 2"
   ]
  },
  {
   "cell_type": "code",
   "execution_count": 4,
   "id": "1482db4b-4bf2-40aa-82da-e1ac53cc5cb0",
   "metadata": {},
   "outputs": [
    {
     "name": "stdout",
     "output_type": "stream",
     "text": [
      "\u001b[1m\u001b[91mBEST_ESTIMATOR_FILENAME : best_estimator_0.0.1.pkl\n",
      "\u001b[1m\u001b[91mDATASET_TRAIN_FILENAME : dataset_train.parquet\n",
      "\u001b[1m\u001b[91mDATASET_VALIDATION_FILENAME : dataset_validation.parquet\n",
      "\u001b[1m\u001b[91mETL_VERSION : 0.0.1\n",
      "\u001b[1m\u001b[91mMODEL_FILENAME : model_0.0.1.pkl\n",
      "\u001b[1m\u001b[91mMODEL_VERSION : 0.0.1\n",
      "\u001b[1m\u001b[91mPREPROCESSOR_FILENAME : preprocessor_0.0.1.pkl\n",
      "\u001b[1m\u001b[91mTRAINED_BEST_ESTIMATOR_FILENAME : trained_best_estimator_0.0.1.pkl\n",
      "\u001b[1m\u001b[91mcolor : <class 'helpers.settings.color'>\n",
      "\u001b[1m\u001b[91mprint_settings : <function print_settings at 0x7fd4e50b18b0>\n",
      "\u001b[0m\n"
     ]
    }
   ],
   "source": [
    "import helpers.settings as sts\n",
    "sts.print_settings(sts)"
   ]
  },
  {
   "cell_type": "markdown",
   "id": "a1d4e0ce-1a7a-4a3b-9959-64c7eef6adcf",
   "metadata": {},
   "source": [
    "## Imports"
   ]
  },
  {
   "cell_type": "code",
   "execution_count": 5,
   "id": "b0571530-d9bb-43c1-8c89-b01a939a3553",
   "metadata": {},
   "outputs": [],
   "source": [
    "import pandas as pd\n",
    "from sklearn.linear_model import LogisticRegression\n",
    "from sklearn.model_selection import RandomizedSearchCV\n",
    "from sklearn.metrics import (\n",
    "    classification_report,\n",
    "    plot_precision_recall_curve,\n",
    "    precision_recall_curve,\n",
    "    average_precision_score,\n",
    "    plot_confusion_matrix,\n",
    ")\n",
    "import re\n",
    "from xgboost import XGBClassifier\n",
    "from lightgbm import LGBMClassifier\n",
    "from sklearn.pipeline import Pipeline\n",
    "import numpy as np\n",
    "import pickle\n",
    "from sklearn.model_selection import GridSearchCV\n",
    "from sklearn.svm import SVC\n",
    "from sklearn.ensemble import RandomForestClassifier, AdaBoostClassifier\n",
    "from sklearn.neural_network import MLPClassifier\n",
    "import shap\n",
    "import matplotlib.pyplot as plt  \n",
    "import warnings\n",
    "warnings.filterwarnings(\"ignore\")"
   ]
  },
  {
   "cell_type": "markdown",
   "id": "b362fe65-1254-4823-a3ef-d935cf0789fa",
   "metadata": {},
   "source": [
    "##  Load dataset"
   ]
  },
  {
   "cell_type": "code",
   "execution_count": 6,
   "id": "0967dc48-0f4d-4187-85f7-3056356ce43e",
   "metadata": {},
   "outputs": [],
   "source": [
    "df_train = pd.read_parquet(f\"data/{sts.DATASET_TRAIN_FILENAME}\")"
   ]
  },
  {
   "cell_type": "code",
   "execution_count": 7,
   "id": "7df4b9c7-b757-4306-9f42-77e76ef7b9cb",
   "metadata": {},
   "outputs": [],
   "source": [
    "X_train = df_train.iloc[:,:-1]\n",
    "y_train = df_train.iloc[:,-1]"
   ]
  },
  {
   "cell_type": "markdown",
   "id": "79ab1c5c-80e0-4691-969d-038d37762ca2",
   "metadata": {},
   "source": [
    "## Load preprocessor"
   ]
  },
  {
   "cell_type": "code",
   "execution_count": 8,
   "id": "961752cd-b202-437b-9840-5a6cffba18c8",
   "metadata": {},
   "outputs": [],
   "source": [
    "with open(f\"artifacts/{sts.PREPROCESSOR_FILENAME}\",\"rb\") as file:\n",
    "    preprocessor = pickle.load(file)"
   ]
  },
  {
   "cell_type": "code",
   "execution_count": 9,
   "id": "165f0906-62a1-4cda-abc2-f6513c379e62",
   "metadata": {},
   "outputs": [],
   "source": [
    "estimators = [\n",
    "    {\n",
    "        \"clf\": [XGBClassifier()],\n",
    "    },\n",
    "    {\n",
    "        \"clf\": [LGBMClassifier()],\n",
    "    },\n",
    "    {\n",
    "        \"clf\": [SVC()],\n",
    "    },\n",
    "    {\n",
    "        \"clf\": [RandomForestClassifier()],\n",
    "    },\n",
    "    {\n",
    "        \"clf\": [AdaBoostClassifier()],\n",
    "    },\n",
    "    {\n",
    "        \"clf\": [MLPClassifier()],\n",
    "    },\n",
    "]"
   ]
  },
  {
   "cell_type": "code",
   "execution_count": 10,
   "id": "0732f99a-fd7c-41dd-9098-f8ea4c276f76",
   "metadata": {},
   "outputs": [],
   "source": [
    "clf = Pipeline(\n",
    "    steps=[\n",
    "        (\"preprocessor\", preprocessor),\n",
    "        (\"clf\", XGBClassifier()),\n",
    "    ],\n",
    ")"
   ]
  },
  {
   "cell_type": "code",
   "execution_count": 11,
   "id": "21fee097-794e-483d-88d4-86670b27bab3",
   "metadata": {},
   "outputs": [],
   "source": [
    "gs = GridSearchCV(\n",
    "    clf,\n",
    "    estimators,\n",
    "    scoring=\"average_precision\",\n",
    "    cv=5,\n",
    "    n_jobs=1, \n",
    "    verbose=0,\n",
    ")"
   ]
  },
  {
   "cell_type": "code",
   "execution_count": 12,
   "id": "a3a668c5-a123-47a8-8b5c-d2cf0d4a1ff7",
   "metadata": {},
   "outputs": [
    {
     "name": "stdout",
     "output_type": "stream",
     "text": [
      "[05:54:04] WARNING: /Users/travis/build/dmlc/xgboost/src/learner.cc:1095: Starting in XGBoost 1.3.0, the default evaluation metric used with the objective 'binary:logistic' was changed from 'error' to 'logloss'. Explicitly set eval_metric if you'd like to restore the old behavior.\n",
      "[05:54:05] WARNING: /Users/travis/build/dmlc/xgboost/src/learner.cc:1095: Starting in XGBoost 1.3.0, the default evaluation metric used with the objective 'binary:logistic' was changed from 'error' to 'logloss'. Explicitly set eval_metric if you'd like to restore the old behavior.\n",
      "[05:54:06] WARNING: /Users/travis/build/dmlc/xgboost/src/learner.cc:1095: Starting in XGBoost 1.3.0, the default evaluation metric used with the objective 'binary:logistic' was changed from 'error' to 'logloss'. Explicitly set eval_metric if you'd like to restore the old behavior.\n",
      "[05:54:07] WARNING: /Users/travis/build/dmlc/xgboost/src/learner.cc:1095: Starting in XGBoost 1.3.0, the default evaluation metric used with the objective 'binary:logistic' was changed from 'error' to 'logloss'. Explicitly set eval_metric if you'd like to restore the old behavior.\n",
      "[05:54:08] WARNING: /Users/travis/build/dmlc/xgboost/src/learner.cc:1095: Starting in XGBoost 1.3.0, the default evaluation metric used with the objective 'binary:logistic' was changed from 'error' to 'logloss'. Explicitly set eval_metric if you'd like to restore the old behavior.\n"
     ]
    },
    {
     "data": {
      "text/plain": [
       "GridSearchCV(cv=5,\n",
       "             estimator=Pipeline(steps=[('preprocessor',\n",
       "                                        ModifiedColumnTransformer(categorical_features=['CODE_GENDER',\n",
       "                                                                                        'FLAG_OWN_CAR',\n",
       "                                                                                        'FLAG_OWN_REALTY',\n",
       "                                                                                        'NAME_INCOME_TYPE',\n",
       "                                                                                        'NAME_EDUCATION_TYPE',\n",
       "                                                                                        'NAME_FAMILY_STATUS',\n",
       "                                                                                        'NAME_HOUSING_TYPE',\n",
       "                                                                                        'FLAG_MOBIL',\n",
       "                                                                                        'FLAG_WORK_PHONE',\n",
       "                                                                                        'FLAG_PHONE',\n",
       "                                                                                        'FLAG_EMAIL'],\n",
       "                                                                  numeric_features=['CNT_CHILDREN',\n",
       "                                                                                    'AMT_INCOME_TOTAL',\n",
       "                                                                                    'DA...\n",
       "                                                n_estimators=100, n_jobs=None,\n",
       "                                                num_parallel_tree=None,\n",
       "                                                random_state=None,\n",
       "                                                reg_alpha=None, reg_lambda=None,\n",
       "                                                scale_pos_weight=None,\n",
       "                                                subsample=None,\n",
       "                                                tree_method=None,\n",
       "                                                validate_parameters=None,\n",
       "                                                verbosity=None)]},\n",
       "                         {'clf': [LGBMClassifier()]}, {'clf': [SVC()]},\n",
       "                         {'clf': [RandomForestClassifier()]},\n",
       "                         {'clf': [AdaBoostClassifier()]},\n",
       "                         {'clf': [MLPClassifier()]}],\n",
       "             scoring='average_precision')"
      ]
     },
     "execution_count": 12,
     "metadata": {},
     "output_type": "execute_result"
    }
   ],
   "source": [
    "gs.fit(X_train, y_train)"
   ]
  },
  {
   "cell_type": "code",
   "execution_count": 13,
   "id": "4ffdcf0c-bd6a-4439-9baf-71d6cbd9478f",
   "metadata": {},
   "outputs": [
    {
     "data": {
      "text/html": [
       "<div>\n",
       "<style scoped>\n",
       "    .dataframe tbody tr th:only-of-type {\n",
       "        vertical-align: middle;\n",
       "    }\n",
       "\n",
       "    .dataframe tbody tr th {\n",
       "        vertical-align: top;\n",
       "    }\n",
       "\n",
       "    .dataframe thead th {\n",
       "        text-align: right;\n",
       "    }\n",
       "</style>\n",
       "<table border=\"1\" class=\"dataframe\">\n",
       "  <thead>\n",
       "    <tr style=\"text-align: right;\">\n",
       "      <th></th>\n",
       "      <th>mean_fit_time</th>\n",
       "      <th>std_fit_time</th>\n",
       "      <th>mean_score_time</th>\n",
       "      <th>std_score_time</th>\n",
       "      <th>param_clf</th>\n",
       "      <th>params</th>\n",
       "      <th>split0_test_score</th>\n",
       "      <th>split1_test_score</th>\n",
       "      <th>split2_test_score</th>\n",
       "      <th>split3_test_score</th>\n",
       "      <th>split4_test_score</th>\n",
       "      <th>mean_test_score</th>\n",
       "      <th>std_test_score</th>\n",
       "      <th>rank_test_score</th>\n",
       "    </tr>\n",
       "    <tr>\n",
       "      <th>param_clf</th>\n",
       "      <th></th>\n",
       "      <th></th>\n",
       "      <th></th>\n",
       "      <th></th>\n",
       "      <th></th>\n",
       "      <th></th>\n",
       "      <th></th>\n",
       "      <th></th>\n",
       "      <th></th>\n",
       "      <th></th>\n",
       "      <th></th>\n",
       "      <th></th>\n",
       "      <th></th>\n",
       "      <th></th>\n",
       "    </tr>\n",
       "  </thead>\n",
       "  <tbody>\n",
       "    <tr>\n",
       "      <th>XGBClas</th>\n",
       "      <td>0.983930</td>\n",
       "      <td>0.020727</td>\n",
       "      <td>0.045058</td>\n",
       "      <td>0.000589</td>\n",
       "      <td>XGBClassifier(base_score=None, booster=None, c...</td>\n",
       "      <td>{'clf': XGBClassifier(base_score=None, booster...</td>\n",
       "      <td>0.876223</td>\n",
       "      <td>0.888291</td>\n",
       "      <td>0.818307</td>\n",
       "      <td>0.869002</td>\n",
       "      <td>0.899438</td>\n",
       "      <td>0.870252</td>\n",
       "      <td>0.027974</td>\n",
       "      <td>2</td>\n",
       "    </tr>\n",
       "    <tr>\n",
       "      <th>LGBMCla</th>\n",
       "      <td>0.418552</td>\n",
       "      <td>0.004631</td>\n",
       "      <td>0.047156</td>\n",
       "      <td>0.000887</td>\n",
       "      <td>LGBMClassifier()</td>\n",
       "      <td>{'clf': LGBMClassifier()}</td>\n",
       "      <td>0.868911</td>\n",
       "      <td>0.865323</td>\n",
       "      <td>0.823691</td>\n",
       "      <td>0.878466</td>\n",
       "      <td>0.881940</td>\n",
       "      <td>0.863666</td>\n",
       "      <td>0.020887</td>\n",
       "      <td>3</td>\n",
       "    </tr>\n",
       "    <tr>\n",
       "      <th>SVC()</th>\n",
       "      <td>0.776248</td>\n",
       "      <td>0.032998</td>\n",
       "      <td>0.119390</td>\n",
       "      <td>0.004758</td>\n",
       "      <td>SVC()</td>\n",
       "      <td>{'clf': SVC()}</td>\n",
       "      <td>0.012952</td>\n",
       "      <td>0.016935</td>\n",
       "      <td>0.010371</td>\n",
       "      <td>0.015351</td>\n",
       "      <td>0.015957</td>\n",
       "      <td>0.014313</td>\n",
       "      <td>0.002368</td>\n",
       "      <td>6</td>\n",
       "    </tr>\n",
       "    <tr>\n",
       "      <th>RandomF</th>\n",
       "      <td>1.453023</td>\n",
       "      <td>0.026211</td>\n",
       "      <td>0.081559</td>\n",
       "      <td>0.001825</td>\n",
       "      <td>RandomForestClassifier()</td>\n",
       "      <td>{'clf': RandomForestClassifier()}</td>\n",
       "      <td>0.898605</td>\n",
       "      <td>0.916170</td>\n",
       "      <td>0.853057</td>\n",
       "      <td>0.884705</td>\n",
       "      <td>0.924371</td>\n",
       "      <td>0.895382</td>\n",
       "      <td>0.025252</td>\n",
       "      <td>1</td>\n",
       "    </tr>\n",
       "    <tr>\n",
       "      <th>AdaBoos</th>\n",
       "      <td>0.748476</td>\n",
       "      <td>0.007734</td>\n",
       "      <td>0.055669</td>\n",
       "      <td>0.000298</td>\n",
       "      <td>AdaBoostClassifier()</td>\n",
       "      <td>{'clf': AdaBoostClassifier()}</td>\n",
       "      <td>0.049564</td>\n",
       "      <td>0.041454</td>\n",
       "      <td>0.043948</td>\n",
       "      <td>0.080117</td>\n",
       "      <td>0.044713</td>\n",
       "      <td>0.051959</td>\n",
       "      <td>0.014322</td>\n",
       "      <td>5</td>\n",
       "    </tr>\n",
       "    <tr>\n",
       "      <th>MLPClas</th>\n",
       "      <td>14.066109</td>\n",
       "      <td>2.813506</td>\n",
       "      <td>0.048401</td>\n",
       "      <td>0.003766</td>\n",
       "      <td>MLPClassifier()</td>\n",
       "      <td>{'clf': MLPClassifier()}</td>\n",
       "      <td>0.251886</td>\n",
       "      <td>0.160887</td>\n",
       "      <td>0.217413</td>\n",
       "      <td>0.232822</td>\n",
       "      <td>0.217664</td>\n",
       "      <td>0.216134</td>\n",
       "      <td>0.030374</td>\n",
       "      <td>4</td>\n",
       "    </tr>\n",
       "  </tbody>\n",
       "</table>\n",
       "</div>"
      ],
      "text/plain": [
       "           mean_fit_time  std_fit_time  mean_score_time  std_score_time  \\\n",
       "param_clf                                                                 \n",
       "XGBClas         0.983930      0.020727         0.045058        0.000589   \n",
       "LGBMCla         0.418552      0.004631         0.047156        0.000887   \n",
       "SVC()           0.776248      0.032998         0.119390        0.004758   \n",
       "RandomF         1.453023      0.026211         0.081559        0.001825   \n",
       "AdaBoos         0.748476      0.007734         0.055669        0.000298   \n",
       "MLPClas        14.066109      2.813506         0.048401        0.003766   \n",
       "\n",
       "                                                   param_clf  \\\n",
       "param_clf                                                      \n",
       "XGBClas    XGBClassifier(base_score=None, booster=None, c...   \n",
       "LGBMCla                                     LGBMClassifier()   \n",
       "SVC()                                                  SVC()   \n",
       "RandomF                             RandomForestClassifier()   \n",
       "AdaBoos                                 AdaBoostClassifier()   \n",
       "MLPClas                                      MLPClassifier()   \n",
       "\n",
       "                                                      params  \\\n",
       "param_clf                                                      \n",
       "XGBClas    {'clf': XGBClassifier(base_score=None, booster...   \n",
       "LGBMCla                            {'clf': LGBMClassifier()}   \n",
       "SVC()                                         {'clf': SVC()}   \n",
       "RandomF                    {'clf': RandomForestClassifier()}   \n",
       "AdaBoos                        {'clf': AdaBoostClassifier()}   \n",
       "MLPClas                             {'clf': MLPClassifier()}   \n",
       "\n",
       "           split0_test_score  split1_test_score  split2_test_score  \\\n",
       "param_clf                                                            \n",
       "XGBClas             0.876223           0.888291           0.818307   \n",
       "LGBMCla             0.868911           0.865323           0.823691   \n",
       "SVC()               0.012952           0.016935           0.010371   \n",
       "RandomF             0.898605           0.916170           0.853057   \n",
       "AdaBoos             0.049564           0.041454           0.043948   \n",
       "MLPClas             0.251886           0.160887           0.217413   \n",
       "\n",
       "           split3_test_score  split4_test_score  mean_test_score  \\\n",
       "param_clf                                                          \n",
       "XGBClas             0.869002           0.899438         0.870252   \n",
       "LGBMCla             0.878466           0.881940         0.863666   \n",
       "SVC()               0.015351           0.015957         0.014313   \n",
       "RandomF             0.884705           0.924371         0.895382   \n",
       "AdaBoos             0.080117           0.044713         0.051959   \n",
       "MLPClas             0.232822           0.217664         0.216134   \n",
       "\n",
       "           std_test_score  rank_test_score  \n",
       "param_clf                                   \n",
       "XGBClas          0.027974                2  \n",
       "LGBMCla          0.020887                3  \n",
       "SVC()            0.002368                6  \n",
       "RandomF          0.025252                1  \n",
       "AdaBoos          0.014322                5  \n",
       "MLPClas          0.030374                4  "
      ]
     },
     "execution_count": 13,
     "metadata": {},
     "output_type": "execute_result"
    }
   ],
   "source": [
    "cv_results = pd.DataFrame(gs.cv_results_)\n",
    "cv_results.set_index(cv_results[\"param_clf\"].apply(lambda x: f\"{x}\"[:7]), inplace=True)\n",
    "cv_results"
   ]
  },
  {
   "cell_type": "code",
   "execution_count": 14,
   "id": "46ec832e-c1ba-42e1-9f13-e87c73a9ef5f",
   "metadata": {},
   "outputs": [
    {
     "data": {
      "text/plain": [
       "<AxesSubplot:>"
      ]
     },
     "execution_count": 14,
     "metadata": {},
     "output_type": "execute_result"
    },
    {
     "data": {
      "image/png": "[encoded data removed]",
      "text/plain": [
       "<Figure size 432x288 with 1 Axes>"
      ]
     },
     "metadata": {
      "needs_background": "light"
     },
     "output_type": "display_data"
    }
   ],
   "source": [
    "cv_results_splits = cv_results[[col for col in cv_results.columns if \"split\" in col]]\n",
    "cv_results_splits.columns = [re.sub(\"[^0-9]\", \"\", col) if \"split\" in col else col for col in cv_results_splits.columns]\n",
    "cv_results_splits.T.plot()"
   ]
  },
  {
   "cell_type": "code",
   "execution_count": 15,
   "id": "a1f797b4-71bc-4741-8ed6-29c1d6befbc3",
   "metadata": {},
   "outputs": [],
   "source": [
    "y_proba = gs.best_estimator_.predict_proba(X_train)[:,1]\n",
    "y_pred = np.where(y_proba >= 0.5, 1, 0)"
   ]
  },
  {
   "cell_type": "code",
   "execution_count": 16,
   "id": "f8412c0f-d445-4c18-899a-32926e3e8130",
   "metadata": {},
   "outputs": [
    {
     "name": "stdout",
     "output_type": "stream",
     "text": [
      "              precision    recall  f1-score   support\n",
      "\n",
      "           0       1.00      1.00      1.00     30584\n",
      "           1       0.96      0.96      0.96       404\n",
      "\n",
      "    accuracy                           1.00     30988\n",
      "   macro avg       0.98      0.98      0.98     30988\n",
      "weighted avg       1.00      1.00      1.00     30988\n",
      "\n"
     ]
    }
   ],
   "source": [
    "print(classification_report(y_train, y_pred))"
   ]
  },
  {
   "cell_type": "code",
   "execution_count": 17,
   "id": "4e16df08-653c-401c-933e-ec20e424dcfc",
   "metadata": {},
   "outputs": [
    {
     "data": {
      "text/plain": [
       "<sklearn.metrics._plot.confusion_matrix.ConfusionMatrixDisplay at 0x7fd4ce1f7520>"
      ]
     },
     "execution_count": 17,
     "metadata": {},
     "output_type": "execute_result"
    },
    {
     "data": {
      "image/png": "[encoded data removed]",
      "text/plain": [
       "<Figure size 432x288 with 2 Axes>"
      ]
     },
     "metadata": {
      "needs_background": "light"
     },
     "output_type": "display_data"
    }
   ],
   "source": [
    "plot_confusion_matrix(gs.best_estimator_, X_train, y_train)"
   ]
  },
  {
   "cell_type": "markdown",
   "id": "d1a2f9c8-a661-46ae-af10-a392a7c93d15",
   "metadata": {},
   "source": [
    "## Dump best estimator"
   ]
  },
  {
   "cell_type": "code",
   "execution_count": 18,
   "id": "a8f2d705-d2b9-4a28-96c7-9802bbb5264a",
   "metadata": {},
   "outputs": [],
   "source": [
    "with open(f\"artifacts/{sts.BEST_ESTIMATOR_FILENAME}\",\"wb\") as file:\n",
    "    pickle.dump(gs.best_estimator_, file)"
   ]
  },
  {
   "cell_type": "code",
   "execution_count": null,
   "id": "5e7fdd38-7b70-4bdd-8d1e-43c20ffcce4d",
   "metadata": {},
   "outputs": [],
   "source": []
  }
 ],
 "metadata": {
  "kernelspec": {
   "display_name": "Python 3",
   "language": "python",
   "name": "python3"
  },
  "language_info": {
   "codemirror_mode": {
    "name": "ipython",
    "version": 3
   },
   "file_extension": ".py",
   "mimetype": "text/x-python",
   "name": "python",
   "nbconvert_exporter": "python",
   "pygments_lexer": "ipython3",
   "version": "3.8.8"
  }
 },
 "nbformat": 4,
 "nbformat_minor": 5
}
