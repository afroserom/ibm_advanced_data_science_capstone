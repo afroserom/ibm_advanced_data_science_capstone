{
 "cells": [
  {
   "cell_type": "code",
   "execution_count": 1,
   "id": "d3072fce-3df2-4110-b082-c630f876525b",
   "metadata": {},
   "outputs": [],
   "source": [
    "# ! pip install shap"
   ]
  },
  {
   "cell_type": "markdown",
   "id": "6337a8ae-98e5-4674-a15d-6e8b5c25e9c0",
   "metadata": {},
   "source": [
    "# ETL"
   ]
  },
  {
   "cell_type": "markdown",
   "id": "6b29bb8a-8ed5-4005-add0-1d9b0e518d5f",
   "metadata": {},
   "source": [
    "## Settings"
   ]
  },
  {
   "cell_type": "code",
   "execution_count": 2,
   "id": "8039703a-e2ac-4d34-ae5d-9e628d965e54",
   "metadata": {},
   "outputs": [],
   "source": [
    "%load_ext autoreload"
   ]
  },
  {
   "cell_type": "code",
   "execution_count": 3,
   "id": "6396f481-c6e8-41e5-8452-1be6740e6f8b",
   "metadata": {},
   "outputs": [],
   "source": [
    "%autoreload 2"
   ]
  },
  {
   "cell_type": "code",
   "execution_count": 4,
   "id": "1482db4b-4bf2-40aa-82da-e1ac53cc5cb0",
   "metadata": {},
   "outputs": [
    {
     "name": "stdout",
     "output_type": "stream",
     "text": [
      "\u001b[1m\u001b[91mDATASET_TRAIN_FILENAME : dataset_train.parquet\n",
      "\u001b[1m\u001b[91mDATASET_VALIDATION_FILENAME : dataset_validation.parquet\n",
      "\u001b[1m\u001b[91mETL_VERSION : 0.0.1\n",
      "\u001b[1m\u001b[91mMODEL_FILENAME : model_0.0.1.pkl\n",
      "\u001b[1m\u001b[91mMODEL_VERSION : 0.0.1\n",
      "\u001b[1m\u001b[91mPREPROCESSOR_FILENAME : preprocessor_0.0.1.pkl\n",
      "\u001b[1m\u001b[91mcolor : <class 'helpers.settings.color'>\n",
      "\u001b[1m\u001b[91mprint_settings : <function print_settings at 0x7febd61b1ca0>\n",
      "\u001b[0m\n"
     ]
    }
   ],
   "source": [
    "import helpers.settings as sts\n",
    "sts.print_settings(sts)"
   ]
  },
  {
   "cell_type": "markdown",
   "id": "a1d4e0ce-1a7a-4a3b-9959-64c7eef6adcf",
   "metadata": {},
   "source": [
    "## Imports"
   ]
  },
  {
   "cell_type": "code",
   "execution_count": 5,
   "id": "b0571530-d9bb-43c1-8c89-b01a939a3553",
   "metadata": {},
   "outputs": [],
   "source": [
    "import pandas as pd\n",
    "from sklearn.linear_model import LogisticRegression\n",
    "from sklearn.model_selection import RandomizedSearchCV\n",
    "from sklearn.metrics import (\n",
    "    classification_report,\n",
    "    plot_precision_recall_curve,\n",
    "    precision_recall_curve,\n",
    "    average_precision_score,\n",
    ")\n",
    "from xgboost import XGBClassifier\n",
    "from lightgbm import LGBMClassifier\n",
    "from sklearn.pipeline import Pipeline\n",
    "import numpy as np\n",
    "import pickle\n",
    "from sklearn.model_selection import GridSearchCV\n",
    "from sklearn.svm import SVC\n",
    "from sklearn.ensemble import RandomForestClassifier, AdaBoostClassifier\n",
    "from sklearn.neural_network import MLPClassifier\n",
    "import shap\n",
    "import warnings\n",
    "warnings.filterwarnings(\"ignore\")"
   ]
  },
  {
   "cell_type": "markdown",
   "id": "b362fe65-1254-4823-a3ef-d935cf0789fa",
   "metadata": {},
   "source": [
    "##  Load dataset"
   ]
  },
  {
   "cell_type": "code",
   "execution_count": 6,
   "id": "0967dc48-0f4d-4187-85f7-3056356ce43e",
   "metadata": {},
   "outputs": [],
   "source": [
    "df_train = pd.read_parquet(f\"data/{sts.DATASET_TRAIN_FILENAME}\")"
   ]
  },
  {
   "cell_type": "code",
   "execution_count": 7,
   "id": "7df4b9c7-b757-4306-9f42-77e76ef7b9cb",
   "metadata": {},
   "outputs": [],
   "source": [
    "X_train = df_train.iloc[:,:-1]\n",
    "y_train = df_train.iloc[:,-1]"
   ]
  },
  {
   "cell_type": "markdown",
   "id": "79ab1c5c-80e0-4691-969d-038d37762ca2",
   "metadata": {},
   "source": [
    "## Load preprocessor"
   ]
  },
  {
   "cell_type": "code",
   "execution_count": 8,
   "id": "961752cd-b202-437b-9840-5a6cffba18c8",
   "metadata": {},
   "outputs": [],
   "source": [
    "with open(f\"data/{sts.PREPROCESSOR_FILENAME}\",\"rb\") as file:\n",
    "    preprocessor = pickle.load(file)"
   ]
  },
  {
   "cell_type": "code",
   "execution_count": 9,
   "id": "165f0906-62a1-4cda-abc2-f6513c379e62",
   "metadata": {},
   "outputs": [],
   "source": [
    "estimators = [\n",
    "    {\n",
    "        \"clf\": [XGBClassifier()],\n",
    "    },\n",
    "    {\n",
    "        \"clf\": [LGBMClassifier()],\n",
    "    },\n",
    "    {\n",
    "        \"clf\": [SVC()],\n",
    "    },\n",
    "    {\n",
    "        \"clf\": [RandomForestClassifier()],\n",
    "    },\n",
    "    {\n",
    "        \"clf\": [AdaBoostClassifier()],\n",
    "    },\n",
    "    {\n",
    "        \"clf\": [MLPClassifier()],\n",
    "    },\n",
    "]"
   ]
  },
  {
   "cell_type": "code",
   "execution_count": 10,
   "id": "0732f99a-fd7c-41dd-9098-f8ea4c276f76",
   "metadata": {},
   "outputs": [],
   "source": [
    "clf = Pipeline(\n",
    "    steps=[\n",
    "        (\"preprocessor\", preprocessor),\n",
    "        (\"clf\", XGBClassifier()),\n",
    "    ],\n",
    ")"
   ]
  },
  {
   "cell_type": "code",
   "execution_count": 11,
   "id": "21fee097-794e-483d-88d4-86670b27bab3",
   "metadata": {},
   "outputs": [],
   "source": [
    "gs = GridSearchCV(\n",
    "    clf,\n",
    "    estimators,\n",
    "    scoring=\"average_precision\",\n",
    "    cv=5,\n",
    "    n_jobs=1, \n",
    "    verbose=0,\n",
    ")"
   ]
  },
  {
   "cell_type": "code",
   "execution_count": 12,
   "id": "a3a668c5-a123-47a8-8b5c-d2cf0d4a1ff7",
   "metadata": {},
   "outputs": [
    {
     "name": "stdout",
     "output_type": "stream",
     "text": [
      "[00:19:50] WARNING: /Users/travis/build/dmlc/xgboost/src/learner.cc:1095: Starting in XGBoost 1.3.0, the default evaluation metric used with the objective 'binary:logistic' was changed from 'error' to 'logloss'. Explicitly set eval_metric if you'd like to restore the old behavior.\n",
      "[00:19:51] WARNING: /Users/travis/build/dmlc/xgboost/src/learner.cc:1095: Starting in XGBoost 1.3.0, the default evaluation metric used with the objective 'binary:logistic' was changed from 'error' to 'logloss'. Explicitly set eval_metric if you'd like to restore the old behavior.\n",
      "[00:19:52] WARNING: /Users/travis/build/dmlc/xgboost/src/learner.cc:1095: Starting in XGBoost 1.3.0, the default evaluation metric used with the objective 'binary:logistic' was changed from 'error' to 'logloss'. Explicitly set eval_metric if you'd like to restore the old behavior.\n",
      "[00:19:53] WARNING: /Users/travis/build/dmlc/xgboost/src/learner.cc:1095: Starting in XGBoost 1.3.0, the default evaluation metric used with the objective 'binary:logistic' was changed from 'error' to 'logloss'. Explicitly set eval_metric if you'd like to restore the old behavior.\n",
      "[00:19:54] WARNING: /Users/travis/build/dmlc/xgboost/src/learner.cc:1095: Starting in XGBoost 1.3.0, the default evaluation metric used with the objective 'binary:logistic' was changed from 'error' to 'logloss'. Explicitly set eval_metric if you'd like to restore the old behavior.\n"
     ]
    },
    {
     "data": {
      "text/plain": [
       "GridSearchCV(cv=5,\n",
       "             estimator=Pipeline(steps=[('preprocessor',\n",
       "                                        ModifiedColumnTransformer(categorical_features=['CODE_GENDER',\n",
       "                                                                                        'FLAG_OWN_CAR',\n",
       "                                                                                        'FLAG_OWN_REALTY',\n",
       "                                                                                        'NAME_INCOME_TYPE',\n",
       "                                                                                        'NAME_EDUCATION_TYPE',\n",
       "                                                                                        'NAME_FAMILY_STATUS',\n",
       "                                                                                        'NAME_HOUSING_TYPE',\n",
       "                                                                                        'FLAG_MOBIL',\n",
       "                                                                                        'FLAG_WORK_PHONE',\n",
       "                                                                                        'FLAG_PHONE',\n",
       "                                                                                        'FLAG_EMAIL',\n",
       "                                                                                        'OCCUPATION_TYPE'],\n",
       "                                                                  numeric_features=['CNT_CHILDREN',\n",
       "                                                                                    'AMT...\n",
       "                                                n_estimators=100, n_jobs=None,\n",
       "                                                num_parallel_tree=None,\n",
       "                                                random_state=None,\n",
       "                                                reg_alpha=None, reg_lambda=None,\n",
       "                                                scale_pos_weight=None,\n",
       "                                                subsample=None,\n",
       "                                                tree_method=None,\n",
       "                                                validate_parameters=None,\n",
       "                                                verbosity=None)]},\n",
       "                         {'clf': [LGBMClassifier()]}, {'clf': [SVC()]},\n",
       "                         {'clf': [RandomForestClassifier()]},\n",
       "                         {'clf': [AdaBoostClassifier()]},\n",
       "                         {'clf': [MLPClassifier()]}],\n",
       "             scoring='average_precision')"
      ]
     },
     "execution_count": 12,
     "metadata": {},
     "output_type": "execute_result"
    }
   ],
   "source": [
    "gs.fit(X_train, y_train)"
   ]
  },
  {
   "cell_type": "code",
   "execution_count": 13,
   "id": "4ffdcf0c-bd6a-4439-9baf-71d6cbd9478f",
   "metadata": {},
   "outputs": [
    {
     "data": {
      "text/html": [
       "<div>\n",
       "<style scoped>\n",
       "    .dataframe tbody tr th:only-of-type {\n",
       "        vertical-align: middle;\n",
       "    }\n",
       "\n",
       "    .dataframe tbody tr th {\n",
       "        vertical-align: top;\n",
       "    }\n",
       "\n",
       "    .dataframe thead th {\n",
       "        text-align: right;\n",
       "    }\n",
       "</style>\n",
       "<table border=\"1\" class=\"dataframe\">\n",
       "  <thead>\n",
       "    <tr style=\"text-align: right;\">\n",
       "      <th></th>\n",
       "      <th>mean_fit_time</th>\n",
       "      <th>std_fit_time</th>\n",
       "      <th>mean_score_time</th>\n",
       "      <th>std_score_time</th>\n",
       "      <th>param_clf</th>\n",
       "      <th>params</th>\n",
       "      <th>split0_test_score</th>\n",
       "      <th>split1_test_score</th>\n",
       "      <th>split2_test_score</th>\n",
       "      <th>split3_test_score</th>\n",
       "      <th>split4_test_score</th>\n",
       "      <th>mean_test_score</th>\n",
       "      <th>std_test_score</th>\n",
       "      <th>rank_test_score</th>\n",
       "    </tr>\n",
       "  </thead>\n",
       "  <tbody>\n",
       "    <tr>\n",
       "      <th>0</th>\n",
       "      <td>0.993318</td>\n",
       "      <td>0.009956</td>\n",
       "      <td>0.047042</td>\n",
       "      <td>0.000360</td>\n",
       "      <td>XGBClassifier(base_score=None, booster=None, c...</td>\n",
       "      <td>{'clf': XGBClassifier(base_score=None, booster...</td>\n",
       "      <td>0.880113</td>\n",
       "      <td>0.878140</td>\n",
       "      <td>0.821364</td>\n",
       "      <td>0.869512</td>\n",
       "      <td>0.891586</td>\n",
       "      <td>0.868143</td>\n",
       "      <td>0.024425</td>\n",
       "      <td>2</td>\n",
       "    </tr>\n",
       "    <tr>\n",
       "      <th>1</th>\n",
       "      <td>0.473597</td>\n",
       "      <td>0.030684</td>\n",
       "      <td>0.051169</td>\n",
       "      <td>0.002884</td>\n",
       "      <td>LGBMClassifier()</td>\n",
       "      <td>{'clf': LGBMClassifier()}</td>\n",
       "      <td>0.871112</td>\n",
       "      <td>0.875338</td>\n",
       "      <td>0.830932</td>\n",
       "      <td>0.889061</td>\n",
       "      <td>0.865114</td>\n",
       "      <td>0.866311</td>\n",
       "      <td>0.019366</td>\n",
       "      <td>3</td>\n",
       "    </tr>\n",
       "    <tr>\n",
       "      <th>2</th>\n",
       "      <td>0.911109</td>\n",
       "      <td>0.063444</td>\n",
       "      <td>0.143738</td>\n",
       "      <td>0.004942</td>\n",
       "      <td>SVC()</td>\n",
       "      <td>{'clf': SVC()}</td>\n",
       "      <td>0.015911</td>\n",
       "      <td>0.022607</td>\n",
       "      <td>0.015487</td>\n",
       "      <td>0.012837</td>\n",
       "      <td>0.011918</td>\n",
       "      <td>0.015752</td>\n",
       "      <td>0.003749</td>\n",
       "      <td>6</td>\n",
       "    </tr>\n",
       "    <tr>\n",
       "      <th>3</th>\n",
       "      <td>1.569232</td>\n",
       "      <td>0.032929</td>\n",
       "      <td>0.089043</td>\n",
       "      <td>0.003647</td>\n",
       "      <td>RandomForestClassifier()</td>\n",
       "      <td>{'clf': RandomForestClassifier()}</td>\n",
       "      <td>0.895618</td>\n",
       "      <td>0.915581</td>\n",
       "      <td>0.854639</td>\n",
       "      <td>0.883772</td>\n",
       "      <td>0.915247</td>\n",
       "      <td>0.892971</td>\n",
       "      <td>0.022665</td>\n",
       "      <td>1</td>\n",
       "    </tr>\n",
       "    <tr>\n",
       "      <th>4</th>\n",
       "      <td>0.831478</td>\n",
       "      <td>0.041934</td>\n",
       "      <td>0.060107</td>\n",
       "      <td>0.002801</td>\n",
       "      <td>AdaBoostClassifier()</td>\n",
       "      <td>{'clf': AdaBoostClassifier()}</td>\n",
       "      <td>0.042438</td>\n",
       "      <td>0.047477</td>\n",
       "      <td>0.045694</td>\n",
       "      <td>0.075366</td>\n",
       "      <td>0.046556</td>\n",
       "      <td>0.051506</td>\n",
       "      <td>0.012050</td>\n",
       "      <td>5</td>\n",
       "    </tr>\n",
       "    <tr>\n",
       "      <th>5</th>\n",
       "      <td>16.489649</td>\n",
       "      <td>2.089038</td>\n",
       "      <td>0.048660</td>\n",
       "      <td>0.002642</td>\n",
       "      <td>MLPClassifier()</td>\n",
       "      <td>{'clf': MLPClassifier()}</td>\n",
       "      <td>0.326658</td>\n",
       "      <td>0.319375</td>\n",
       "      <td>0.177722</td>\n",
       "      <td>0.377290</td>\n",
       "      <td>0.391507</td>\n",
       "      <td>0.318510</td>\n",
       "      <td>0.075726</td>\n",
       "      <td>4</td>\n",
       "    </tr>\n",
       "  </tbody>\n",
       "</table>\n",
       "</div>"
      ],
      "text/plain": [
       "   mean_fit_time  std_fit_time  mean_score_time  std_score_time  \\\n",
       "0       0.993318      0.009956         0.047042        0.000360   \n",
       "1       0.473597      0.030684         0.051169        0.002884   \n",
       "2       0.911109      0.063444         0.143738        0.004942   \n",
       "3       1.569232      0.032929         0.089043        0.003647   \n",
       "4       0.831478      0.041934         0.060107        0.002801   \n",
       "5      16.489649      2.089038         0.048660        0.002642   \n",
       "\n",
       "                                           param_clf  \\\n",
       "0  XGBClassifier(base_score=None, booster=None, c...   \n",
       "1                                   LGBMClassifier()   \n",
       "2                                              SVC()   \n",
       "3                           RandomForestClassifier()   \n",
       "4                               AdaBoostClassifier()   \n",
       "5                                    MLPClassifier()   \n",
       "\n",
       "                                              params  split0_test_score  \\\n",
       "0  {'clf': XGBClassifier(base_score=None, booster...           0.880113   \n",
       "1                          {'clf': LGBMClassifier()}           0.871112   \n",
       "2                                     {'clf': SVC()}           0.015911   \n",
       "3                  {'clf': RandomForestClassifier()}           0.895618   \n",
       "4                      {'clf': AdaBoostClassifier()}           0.042438   \n",
       "5                           {'clf': MLPClassifier()}           0.326658   \n",
       "\n",
       "   split1_test_score  split2_test_score  split3_test_score  split4_test_score  \\\n",
       "0           0.878140           0.821364           0.869512           0.891586   \n",
       "1           0.875338           0.830932           0.889061           0.865114   \n",
       "2           0.022607           0.015487           0.012837           0.011918   \n",
       "3           0.915581           0.854639           0.883772           0.915247   \n",
       "4           0.047477           0.045694           0.075366           0.046556   \n",
       "5           0.319375           0.177722           0.377290           0.391507   \n",
       "\n",
       "   mean_test_score  std_test_score  rank_test_score  \n",
       "0         0.868143        0.024425                2  \n",
       "1         0.866311        0.019366                3  \n",
       "2         0.015752        0.003749                6  \n",
       "3         0.892971        0.022665                1  \n",
       "4         0.051506        0.012050                5  \n",
       "5         0.318510        0.075726                4  "
      ]
     },
     "execution_count": 13,
     "metadata": {},
     "output_type": "execute_result"
    }
   ],
   "source": [
    "pd.DataFrame(gs.cv_results_)"
   ]
  },
  {
   "cell_type": "code",
   "execution_count": 14,
   "id": "a1f797b4-71bc-4741-8ed6-29c1d6befbc3",
   "metadata": {},
   "outputs": [],
   "source": [
    "y_proba = gs.predict_proba(X_train)[:,1]\n",
    "y_pred = np.where(y_proba >= 0.5, 1, 0)"
   ]
  },
  {
   "cell_type": "code",
   "execution_count": 15,
   "id": "f8412c0f-d445-4c18-899a-32926e3e8130",
   "metadata": {},
   "outputs": [
    {
     "name": "stdout",
     "output_type": "stream",
     "text": [
      "              precision    recall  f1-score   support\n",
      "\n",
      "           0       1.00      1.00      1.00     30584\n",
      "           1       0.96      0.96      0.96       404\n",
      "\n",
      "    accuracy                           1.00     30988\n",
      "   macro avg       0.98      0.98      0.98     30988\n",
      "weighted avg       1.00      1.00      1.00     30988\n",
      "\n"
     ]
    }
   ],
   "source": [
    "print(classification_report(y_train, y_pred))"
   ]
  },
  {
   "cell_type": "code",
   "execution_count": null,
   "id": "9227ad50-0cde-44c0-a689-854ebea1df83",
   "metadata": {},
   "outputs": [],
   "source": []
  }
 ],
 "metadata": {
  "kernelspec": {
   "display_name": "Python 3",
   "language": "python",
   "name": "python3"
  },
  "language_info": {
   "codemirror_mode": {
    "name": "ipython",
    "version": 3
   },
   "file_extension": ".py",
   "mimetype": "text/x-python",
   "name": "python",
   "nbconvert_exporter": "python",
   "pygments_lexer": "ipython3",
   "version": "3.8.8"
  }
 },
 "nbformat": 4,
 "nbformat_minor": 5
}
