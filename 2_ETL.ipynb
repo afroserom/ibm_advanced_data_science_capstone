{
 "cells": [
  {
   "cell_type": "code",
   "execution_count": 1,
   "id": "eb5e1fb1-ab5d-417c-b9fd-156254fb68a3",
   "metadata": {},
   "outputs": [],
   "source": [
    "# ! pip install xgboost category_encoders"
   ]
  },
  {
   "cell_type": "markdown",
   "id": "a1d4e0ce-1a7a-4a3b-9959-64c7eef6adcf",
   "metadata": {},
   "source": [
    "# ETL"
   ]
  },
  {
   "cell_type": "markdown",
   "id": "d940ed16-5c24-4725-b6c5-d112ee1d5127",
   "metadata": {},
   "source": [
    "## Settings"
   ]
  },
  {
   "cell_type": "code",
   "execution_count": 2,
   "id": "0212faa8-e9a1-42af-ad02-da825a378ebe",
   "metadata": {},
   "outputs": [],
   "source": [
    "%load_ext autoreload"
   ]
  },
  {
   "cell_type": "code",
   "execution_count": 3,
   "id": "cd1b7ab9-65a0-43d0-84ee-9733bc0ef0e4",
   "metadata": {},
   "outputs": [],
   "source": [
    "%autoreload 2"
   ]
  },
  {
   "cell_type": "code",
   "execution_count": 4,
   "id": "bc05f16a-d7c5-4c2c-b7d6-7b3be786bd7f",
   "metadata": {},
   "outputs": [
    {
     "name": "stdout",
     "output_type": "stream",
     "text": [
      "\u001b[1m\u001b[91mBEST_ESTIMATOR_FILENAME : best_estimator_0.0.1.pkl\n",
      "\u001b[1m\u001b[91mDATASET_TRAIN_FILENAME : dataset_train.parquet\n",
      "\u001b[1m\u001b[91mDATASET_VALIDATION_FILENAME : dataset_validation.parquet\n",
      "\u001b[1m\u001b[91mETL_VERSION : 0.0.1\n",
      "\u001b[1m\u001b[91mMODEL_FILENAME : model_0.0.1.pkl\n",
      "\u001b[1m\u001b[91mMODEL_VERSION : 0.0.1\n",
      "\u001b[1m\u001b[91mPREPROCESSOR_FILENAME : preprocessor_0.0.1.pkl\n",
      "\u001b[1m\u001b[91mTRAINED_BEST_ESTIMATOR_FILENAME : trained_best_estimator_0.0.1.pkl\n",
      "\u001b[1m\u001b[91mcolor : <class 'helpers.settings.color'>\n",
      "\u001b[1m\u001b[91mprint_settings : <function print_settings at 0x7fc9732af5e0>\n",
      "\u001b[0m\n"
     ]
    }
   ],
   "source": [
    "import helpers.settings as sts\n",
    "sts.print_settings(sts)"
   ]
  },
  {
   "cell_type": "markdown",
   "id": "6bd50499-1bdc-46a8-9837-2bbb1787367e",
   "metadata": {},
   "source": [
    "## Imports"
   ]
  },
  {
   "cell_type": "code",
   "execution_count": 5,
   "id": "b0571530-d9bb-43c1-8c89-b01a939a3553",
   "metadata": {},
   "outputs": [],
   "source": [
    "import pandas as pd\n",
    "from sklearn.model_selection import train_test_split\n",
    "from sklearn.model_selection import cross_validate\n",
    "from sklearn.preprocessing import RobustScaler, FunctionTransformer\n",
    "from sklearn.pipeline import Pipeline\n",
    "from sklearn.compose import ColumnTransformer\n",
    "from sklearn.linear_model import LogisticRegression\n",
    "from sklearn.model_selection import RandomizedSearchCV\n",
    "from sklearn.preprocessing import OneHotEncoder\n",
    "from sklearn.impute import SimpleImputer\n",
    "from sklearn.metrics import (\n",
    "    classification_report,\n",
    "    plot_precision_recall_curve,\n",
    "    precision_recall_curve,\n",
    "    average_precision_score,\n",
    ")\n",
    "from xgboost import XGBClassifier\n",
    "from category_encoders.woe import WOEEncoder\n",
    "from sklearn.preprocessing import RobustScaler\n",
    "import numpy as np"
   ]
  },
  {
   "cell_type": "code",
   "execution_count": 6,
   "id": "0967dc48-0f4d-4187-85f7-3056356ce43e",
   "metadata": {},
   "outputs": [],
   "source": [
    "application = pd.read_parquet(\"data/application.parquet\")\n",
    "credit_record = pd.read_parquet(\"data/credit_record.parquet\")"
   ]
  },
  {
   "cell_type": "markdown",
   "id": "79ab1c5c-80e0-4691-969d-038d37762ca2",
   "metadata": {},
   "source": [
    "## Creating label"
   ]
  },
  {
   "cell_type": "markdown",
   "id": "e491b189-7474-4518-9924-4e20e9e5bd61",
   "metadata": {},
   "source": [
    "### Month balance & status\n",
    "\n",
    "Month balance: \n",
    "\n",
    "The month of the extracted data is the starting point, backwards, 0 is the current month, -1 is the previous month, and so on\n",
    "\n",
    "Status:\n",
    "\n",
    "0: 1-29 days past due 1: 30-59 days past due 2: 60-89 days overdue 3: 90-119 days overdue 4: 120-149 days overdue 5: Overdue or bad debts, write-offs for more than 150 days C: paid off that month X: No loan for the month\n",
    "\n",
    "<font color=\"red\">I will assume that any overdue of 60 or more days corresponds to a default</font>"
   ]
  },
  {
   "cell_type": "code",
   "execution_count": 7,
   "id": "d3f1c1b8-6ea5-4523-9af9-385938126a98",
   "metadata": {},
   "outputs": [],
   "source": [
    "defaulted_user_ids = credit_record.query(\"STATUS not in ['0','1','C','X']\")[\"ID\"].unique()"
   ]
  },
  {
   "cell_type": "code",
   "execution_count": 8,
   "id": "33a24413-2eca-4fce-81bd-6f930c0eda6d",
   "metadata": {},
   "outputs": [],
   "source": [
    "credit_record_unique = credit_record.drop_duplicates(subset=[\"ID\"],keep=\"last\",ignore_index=True).copy()"
   ]
  },
  {
   "cell_type": "code",
   "execution_count": 9,
   "id": "dfea7ee2-469b-4bc1-9f2a-e9e08aecb683",
   "metadata": {},
   "outputs": [],
   "source": [
    "credit_record_unique[\"LABEL\"] = credit_record[\"ID\"].apply(lambda x: 1 if x in defaulted_user_ids else 0)"
   ]
  },
  {
   "cell_type": "code",
   "execution_count": 10,
   "id": "226e6378-6637-410b-bd5b-7697fa5ad323",
   "metadata": {},
   "outputs": [
    {
     "data": {
      "text/plain": [
       "0    0.988583\n",
       "1    0.011417\n",
       "Name: LABEL, dtype: float64"
      ]
     },
     "execution_count": 10,
     "metadata": {},
     "output_type": "execute_result"
    }
   ],
   "source": [
    "credit_record_unique[\"LABEL\"].value_counts(normalize=True)"
   ]
  },
  {
   "cell_type": "markdown",
   "id": "92443af5-2adc-4c06-a307-9d0d2d712144",
   "metadata": {},
   "source": [
    "### Merge applications with credit records"
   ]
  },
  {
   "cell_type": "code",
   "execution_count": 11,
   "id": "a0baf324-82b5-4583-b22b-c1a4dfc70654",
   "metadata": {},
   "outputs": [],
   "source": [
    "df = application.merge(credit_record_unique[[\"ID\",\"LABEL\"]], how=\"inner\", on=\"ID\")"
   ]
  },
  {
   "cell_type": "markdown",
   "id": "17199b52-a3f8-4108-b6ae-a278c639d2c6",
   "metadata": {},
   "source": [
    "### Drop duplicates"
   ]
  },
  {
   "cell_type": "code",
   "execution_count": 12,
   "id": "b9629fe5-95ca-4063-8ac0-d8551ac313c0",
   "metadata": {},
   "outputs": [],
   "source": [
    "df.drop_duplicates(subset=[\"ID\"], keep=\"first\", inplace=True)"
   ]
  },
  {
   "cell_type": "code",
   "execution_count": 13,
   "id": "1b448684-de18-486a-b67c-83069ec4f65d",
   "metadata": {},
   "outputs": [
    {
     "data": {
      "text/html": [
       "<div>\n",
       "<style scoped>\n",
       "    .dataframe tbody tr th:only-of-type {\n",
       "        vertical-align: middle;\n",
       "    }\n",
       "\n",
       "    .dataframe tbody tr th {\n",
       "        vertical-align: top;\n",
       "    }\n",
       "\n",
       "    .dataframe thead th {\n",
       "        text-align: right;\n",
       "    }\n",
       "</style>\n",
       "<table border=\"1\" class=\"dataframe\">\n",
       "  <thead>\n",
       "    <tr style=\"text-align: right;\">\n",
       "      <th></th>\n",
       "      <th>ID</th>\n",
       "      <th>CODE_GENDER</th>\n",
       "      <th>FLAG_OWN_CAR</th>\n",
       "      <th>FLAG_OWN_REALTY</th>\n",
       "      <th>CNT_CHILDREN</th>\n",
       "      <th>AMT_INCOME_TOTAL</th>\n",
       "      <th>NAME_INCOME_TYPE</th>\n",
       "      <th>NAME_EDUCATION_TYPE</th>\n",
       "      <th>NAME_FAMILY_STATUS</th>\n",
       "      <th>NAME_HOUSING_TYPE</th>\n",
       "      <th>DAYS_BIRTH</th>\n",
       "      <th>DAYS_EMPLOYED</th>\n",
       "      <th>FLAG_MOBIL</th>\n",
       "      <th>FLAG_WORK_PHONE</th>\n",
       "      <th>FLAG_PHONE</th>\n",
       "      <th>FLAG_EMAIL</th>\n",
       "      <th>OCCUPATION_TYPE</th>\n",
       "      <th>CNT_FAM_MEMBERS</th>\n",
       "      <th>LABEL</th>\n",
       "    </tr>\n",
       "  </thead>\n",
       "  <tbody>\n",
       "    <tr>\n",
       "      <th>0</th>\n",
       "      <td>5008804</td>\n",
       "      <td>M</td>\n",
       "      <td>Y</td>\n",
       "      <td>Y</td>\n",
       "      <td>0</td>\n",
       "      <td>427500.0</td>\n",
       "      <td>Working</td>\n",
       "      <td>Higher education</td>\n",
       "      <td>Civil marriage</td>\n",
       "      <td>Rented apartment</td>\n",
       "      <td>-12005</td>\n",
       "      <td>-4542</td>\n",
       "      <td>1</td>\n",
       "      <td>1</td>\n",
       "      <td>0</td>\n",
       "      <td>0</td>\n",
       "      <td>None</td>\n",
       "      <td>2.0</td>\n",
       "      <td>0</td>\n",
       "    </tr>\n",
       "    <tr>\n",
       "      <th>1</th>\n",
       "      <td>5008805</td>\n",
       "      <td>M</td>\n",
       "      <td>Y</td>\n",
       "      <td>Y</td>\n",
       "      <td>0</td>\n",
       "      <td>427500.0</td>\n",
       "      <td>Working</td>\n",
       "      <td>Higher education</td>\n",
       "      <td>Civil marriage</td>\n",
       "      <td>Rented apartment</td>\n",
       "      <td>-12005</td>\n",
       "      <td>-4542</td>\n",
       "      <td>1</td>\n",
       "      <td>1</td>\n",
       "      <td>0</td>\n",
       "      <td>0</td>\n",
       "      <td>None</td>\n",
       "      <td>2.0</td>\n",
       "      <td>0</td>\n",
       "    </tr>\n",
       "    <tr>\n",
       "      <th>2</th>\n",
       "      <td>5008806</td>\n",
       "      <td>M</td>\n",
       "      <td>Y</td>\n",
       "      <td>Y</td>\n",
       "      <td>0</td>\n",
       "      <td>112500.0</td>\n",
       "      <td>Working</td>\n",
       "      <td>Secondary / secondary special</td>\n",
       "      <td>Married</td>\n",
       "      <td>House / apartment</td>\n",
       "      <td>-21474</td>\n",
       "      <td>-1134</td>\n",
       "      <td>1</td>\n",
       "      <td>0</td>\n",
       "      <td>0</td>\n",
       "      <td>0</td>\n",
       "      <td>Security staff</td>\n",
       "      <td>2.0</td>\n",
       "      <td>0</td>\n",
       "    </tr>\n",
       "    <tr>\n",
       "      <th>3</th>\n",
       "      <td>5008808</td>\n",
       "      <td>F</td>\n",
       "      <td>N</td>\n",
       "      <td>Y</td>\n",
       "      <td>0</td>\n",
       "      <td>270000.0</td>\n",
       "      <td>Commercial associate</td>\n",
       "      <td>Secondary / secondary special</td>\n",
       "      <td>Single / not married</td>\n",
       "      <td>House / apartment</td>\n",
       "      <td>-19110</td>\n",
       "      <td>-3051</td>\n",
       "      <td>1</td>\n",
       "      <td>0</td>\n",
       "      <td>1</td>\n",
       "      <td>1</td>\n",
       "      <td>Sales staff</td>\n",
       "      <td>1.0</td>\n",
       "      <td>0</td>\n",
       "    </tr>\n",
       "    <tr>\n",
       "      <th>4</th>\n",
       "      <td>5008809</td>\n",
       "      <td>F</td>\n",
       "      <td>N</td>\n",
       "      <td>Y</td>\n",
       "      <td>0</td>\n",
       "      <td>270000.0</td>\n",
       "      <td>Commercial associate</td>\n",
       "      <td>Secondary / secondary special</td>\n",
       "      <td>Single / not married</td>\n",
       "      <td>House / apartment</td>\n",
       "      <td>-19110</td>\n",
       "      <td>-3051</td>\n",
       "      <td>1</td>\n",
       "      <td>0</td>\n",
       "      <td>1</td>\n",
       "      <td>1</td>\n",
       "      <td>Sales staff</td>\n",
       "      <td>1.0</td>\n",
       "      <td>0</td>\n",
       "    </tr>\n",
       "  </tbody>\n",
       "</table>\n",
       "</div>"
      ],
      "text/plain": [
       "        ID CODE_GENDER FLAG_OWN_CAR FLAG_OWN_REALTY  CNT_CHILDREN  \\\n",
       "0  5008804           M            Y               Y             0   \n",
       "1  5008805           M            Y               Y             0   \n",
       "2  5008806           M            Y               Y             0   \n",
       "3  5008808           F            N               Y             0   \n",
       "4  5008809           F            N               Y             0   \n",
       "\n",
       "   AMT_INCOME_TOTAL      NAME_INCOME_TYPE            NAME_EDUCATION_TYPE  \\\n",
       "0          427500.0               Working               Higher education   \n",
       "1          427500.0               Working               Higher education   \n",
       "2          112500.0               Working  Secondary / secondary special   \n",
       "3          270000.0  Commercial associate  Secondary / secondary special   \n",
       "4          270000.0  Commercial associate  Secondary / secondary special   \n",
       "\n",
       "     NAME_FAMILY_STATUS  NAME_HOUSING_TYPE  DAYS_BIRTH  DAYS_EMPLOYED  \\\n",
       "0        Civil marriage   Rented apartment      -12005          -4542   \n",
       "1        Civil marriage   Rented apartment      -12005          -4542   \n",
       "2               Married  House / apartment      -21474          -1134   \n",
       "3  Single / not married  House / apartment      -19110          -3051   \n",
       "4  Single / not married  House / apartment      -19110          -3051   \n",
       "\n",
       "   FLAG_MOBIL  FLAG_WORK_PHONE  FLAG_PHONE  FLAG_EMAIL OCCUPATION_TYPE  \\\n",
       "0           1                1           0           0            None   \n",
       "1           1                1           0           0            None   \n",
       "2           1                0           0           0  Security staff   \n",
       "3           1                0           1           1     Sales staff   \n",
       "4           1                0           1           1     Sales staff   \n",
       "\n",
       "   CNT_FAM_MEMBERS  LABEL  \n",
       "0              2.0      0  \n",
       "1              2.0      0  \n",
       "2              2.0      0  \n",
       "3              1.0      0  \n",
       "4              1.0      0  "
      ]
     },
     "execution_count": 13,
     "metadata": {},
     "output_type": "execute_result"
    }
   ],
   "source": [
    "df.head()"
   ]
  },
  {
   "cell_type": "markdown",
   "id": "08933ae1-a167-4dca-843d-051dcc4c7b3e",
   "metadata": {},
   "source": [
    "## Split datasets"
   ]
  },
  {
   "cell_type": "code",
   "execution_count": 14,
   "id": "1fec78fd-e6d5-4158-9f4d-be8610beab30",
   "metadata": {},
   "outputs": [],
   "source": [
    "X = df.iloc[:,1:-1] \n",
    "y = df.iloc[:,-1] "
   ]
  },
  {
   "cell_type": "code",
   "execution_count": 15,
   "id": "088588f6-b465-47d7-b5df-ad87018b065d",
   "metadata": {},
   "outputs": [],
   "source": [
    "X_train, X_test, y_train, y_test = train_test_split( X, y, test_size=0.15, random_state=42)"
   ]
  },
  {
   "cell_type": "code",
   "execution_count": 16,
   "id": "d6e31008-0ad9-42fa-8312-593caa8e7fd7",
   "metadata": {},
   "outputs": [
    {
     "data": {
      "text/plain": [
       "0    0.986963\n",
       "1    0.013037\n",
       "Name: LABEL, dtype: float64"
      ]
     },
     "execution_count": 16,
     "metadata": {},
     "output_type": "execute_result"
    }
   ],
   "source": [
    "y_train.value_counts(normalize=True)"
   ]
  },
  {
   "cell_type": "markdown",
   "id": "f62c059a-6c22-4f40-884e-f01fc746218c",
   "metadata": {},
   "source": [
    "## Dump datasets"
   ]
  },
  {
   "cell_type": "code",
   "execution_count": 17,
   "id": "90dbd378-ca15-4bc5-acb6-8d2b16054a05",
   "metadata": {},
   "outputs": [],
   "source": [
    "pd.concat([X_train, y_train], axis=1).to_parquet(f\"data/{sts.DATASET_TRAIN_FILENAME}\", index=False)\n",
    "pd.concat([X_test, y_test], axis=1).to_parquet(f\"data/{sts.DATASET_VALIDATION_FILENAME}\", index=False)"
   ]
  },
  {
   "cell_type": "code",
   "execution_count": null,
   "id": "4195ad12-e2fc-438f-97d7-b638fce56590",
   "metadata": {},
   "outputs": [],
   "source": []
  }
 ],
 "metadata": {
  "kernelspec": {
   "display_name": "Python 3",
   "language": "python",
   "name": "python3"
  },
  "language_info": {
   "codemirror_mode": {
    "name": "ipython",
    "version": 3
   },
   "file_extension": ".py",
   "mimetype": "text/x-python",
   "name": "python",
   "nbconvert_exporter": "python",
   "pygments_lexer": "ipython3",
   "version": "3.8.8"
  }
 },
 "nbformat": 4,
 "nbformat_minor": 5
}
