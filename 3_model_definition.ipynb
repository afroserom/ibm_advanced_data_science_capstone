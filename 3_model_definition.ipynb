{
 "cells": [
  {
   "cell_type": "markdown",
   "id": "6337a8ae-98e5-4674-a15d-6e8b5c25e9c0",
   "metadata": {},
   "source": [
    "# Model definition"
   ]
  },
  {
   "cell_type": "markdown",
   "id": "6b29bb8a-8ed5-4005-add0-1d9b0e518d5f",
   "metadata": {},
   "source": [
    "## Settings"
   ]
  },
  {
   "cell_type": "code",
   "execution_count": 2,
   "id": "8039703a-e2ac-4d34-ae5d-9e628d965e54",
   "metadata": {},
   "outputs": [],
   "source": [
    "%load_ext autoreload"
   ]
  },
  {
   "cell_type": "code",
   "execution_count": 3,
   "id": "6396f481-c6e8-41e5-8452-1be6740e6f8b",
   "metadata": {},
   "outputs": [],
   "source": [
    "%autoreload 2"
   ]
  },
  {
   "cell_type": "code",
   "execution_count": 4,
   "id": "1482db4b-4bf2-40aa-82da-e1ac53cc5cb0",
   "metadata": {},
   "outputs": [
    {
     "name": "stdout",
     "output_type": "stream",
     "text": [
      "\u001b[1m\u001b[91mBEST_ESTIMATOR_FILENAME : best_estimator_0.0.1.pkl\n",
      "\u001b[1m\u001b[91mDATASET_TRAIN_FILENAME : dataset_train.parquet\n",
      "\u001b[1m\u001b[91mDATASET_VALIDATION_FILENAME : dataset_validation.parquet\n",
      "\u001b[1m\u001b[91mETL_VERSION : 0.0.1\n",
      "\u001b[1m\u001b[91mMODEL_FILENAME : model.pkl\n",
      "\u001b[1m\u001b[91mMODEL_VERSION : 0.0.1\n",
      "\u001b[1m\u001b[91mPREPROCESSOR_FILENAME : preprocessor_0.0.1.pkl\n",
      "\u001b[1m\u001b[91mTRAINED_BEST_ESTIMATOR_FILENAME : trained_best_estimator_0.0.1.pkl\n",
      "\u001b[1m\u001b[91mcolor : <class 'helpers.settings.color'>\n",
      "\u001b[1m\u001b[91mprint_settings : <function print_settings at 0x7fe183ab3ee0>\n",
      "\u001b[0m\n"
     ]
    }
   ],
   "source": [
    "import helpers.settings as sts\n",
    "sts.print_settings(sts)"
   ]
  },
  {
   "cell_type": "markdown",
   "id": "a1d4e0ce-1a7a-4a3b-9959-64c7eef6adcf",
   "metadata": {},
   "source": [
    "## Imports"
   ]
  },
  {
   "cell_type": "code",
   "execution_count": 5,
   "id": "b0571530-d9bb-43c1-8c89-b01a939a3553",
   "metadata": {},
   "outputs": [],
   "source": [
    "import pandas as pd\n",
    "from sklearn.linear_model import LogisticRegression\n",
    "from sklearn.impute import SimpleImputer\n",
    "from sklearn.metrics import average_precision_score\n",
    "from sklearn.preprocessing import StandardScaler\n",
    "from sklearn.model_selection import RandomizedSearchCV\n",
    "from sklearn.metrics import (\n",
    "    classification_report,\n",
    "    plot_precision_recall_curve,\n",
    "    precision_recall_curve,\n",
    "    average_precision_score,\n",
    "    plot_confusion_matrix,\n",
    ")\n",
    "import re\n",
    "from xgboost import XGBClassifier\n",
    "from lightgbm import LGBMClassifier\n",
    "from sklearn.pipeline import Pipeline\n",
    "import numpy as np\n",
    "import pickle\n",
    "from sklearn.model_selection import GridSearchCV\n",
    "from sklearn.svm import SVC\n",
    "from sklearn.ensemble import RandomForestClassifier, AdaBoostClassifier\n",
    "from sklearn.neural_network import MLPClassifier\n",
    "import shap\n",
    "import matplotlib.pyplot as plt  \n",
    "from numpy import loadtxt\n",
    "from keras.models import Sequential\n",
    "from keras.layers import Dense\n",
    "from keras.wrappers.scikit_learn import KerasClassifier\n",
    "import tensorflow as tf\n",
    "import warnings\n",
    "warnings.filterwarnings(\"ignore\")"
   ]
  },
  {
   "cell_type": "markdown",
   "id": "b362fe65-1254-4823-a3ef-d935cf0789fa",
   "metadata": {},
   "source": [
    "##  Load dataset"
   ]
  },
  {
   "cell_type": "code",
   "execution_count": 6,
   "id": "0967dc48-0f4d-4187-85f7-3056356ce43e",
   "metadata": {},
   "outputs": [],
   "source": [
    "df_train = pd.read_parquet(f\"data/{sts.DATASET_TRAIN_FILENAME}\")"
   ]
  },
  {
   "cell_type": "code",
   "execution_count": 7,
   "id": "7df4b9c7-b757-4306-9f42-77e76ef7b9cb",
   "metadata": {},
   "outputs": [],
   "source": [
    "X_train = df_train.iloc[:,:-1]\n",
    "y_train = df_train.iloc[:,-1]"
   ]
  },
  {
   "cell_type": "markdown",
   "id": "79ab1c5c-80e0-4691-969d-038d37762ca2",
   "metadata": {},
   "source": [
    "## Load preprocessor"
   ]
  },
  {
   "cell_type": "code",
   "execution_count": 8,
   "id": "961752cd-b202-437b-9840-5a6cffba18c8",
   "metadata": {},
   "outputs": [],
   "source": [
    "with open(f\"artifacts/{sts.PREPROCESSOR_FILENAME}\",\"rb\") as file:\n",
    "    preprocessor = pickle.load(file)"
   ]
  },
  {
   "cell_type": "markdown",
   "id": "b90a2327-58ea-4c94-b07b-12c75ac40197",
   "metadata": {},
   "source": [
    "## Model testing"
   ]
  },
  {
   "cell_type": "markdown",
   "id": "f84e08cf-27aa-46a8-8764-fb0253af4507",
   "metadata": {},
   "source": [
    "### Deep Learning"
   ]
  },
  {
   "cell_type": "code",
   "execution_count": 9,
   "id": "1d4a65c6-f61b-4cc6-b05c-a54c8241ef59",
   "metadata": {},
   "outputs": [],
   "source": [
    "def create_model():\n",
    "    # create model\n",
    "    model = Sequential()\n",
    "    model.add(Dense(12, input_dim=16, activation='relu'))\n",
    "    model.add(Dense(1, activation='sigmoid'))\n",
    "    # Compile model\n",
    "    model.compile(loss='binary_crossentropy', optimizer='adam', metrics=[tf.keras.metrics.AUC(curve='PR')])\n",
    "    return model"
   ]
  },
  {
   "cell_type": "code",
   "execution_count": 10,
   "id": "cfa01752-4d50-45a2-b967-e01aa8e79424",
   "metadata": {},
   "outputs": [],
   "source": [
    "model = KerasClassifier(build_fn=create_model, epochs=6, batch_size=20, verbose=1)"
   ]
  },
  {
   "cell_type": "code",
   "execution_count": 11,
   "id": "5364ef96-9d60-4cb0-a16c-e4d0b95ad7de",
   "metadata": {},
   "outputs": [],
   "source": [
    "clf_deep_learning = Pipeline(\n",
    "    steps=[\n",
    "        (\"preprocessor\", preprocessor),\n",
    "        (\"imputer\", SimpleImputer(fill_value=0)),\n",
    "        (\"scaler\", StandardScaler()),\n",
    "        (\"clf\", model),\n",
    "    ]\n",
    ")"
   ]
  },
  {
   "cell_type": "code",
   "execution_count": 12,
   "id": "2da2cc83-bf6e-4b4b-a17c-6a8548684166",
   "metadata": {},
   "outputs": [
    {
     "name": "stdout",
     "output_type": "stream",
     "text": [
      "Epoch 1/6\n",
      "1550/1550 [==============================] - 1s 558us/step - loss: 0.1220 - auc: 0.0142\n",
      "Epoch 2/6\n",
      "1550/1550 [==============================] - 1s 656us/step - loss: 0.0688 - auc: 0.0262\n",
      "Epoch 3/6\n",
      "1550/1550 [==============================] - 1s 570us/step - loss: 0.0659 - auc: 0.0505\n",
      "Epoch 4/6\n",
      "1550/1550 [==============================] - 1s 547us/step - loss: 0.0640 - auc: 0.0710\n",
      "Epoch 5/6\n",
      "1550/1550 [==============================] - 1s 542us/step - loss: 0.0627 - auc: 0.0842\n",
      "Epoch 6/6\n",
      "1550/1550 [==============================] - 1s 541us/step - loss: 0.0618 - auc: 0.0934\n"
     ]
    },
    {
     "data": {
      "text/plain": [
       "Pipeline(steps=[('preprocessor',\n",
       "                 ModifiedColumnTransformer(categorical_features=['CODE_GENDER',\n",
       "                                                                 'FLAG_OWN_CAR',\n",
       "                                                                 'FLAG_OWN_REALTY',\n",
       "                                                                 'NAME_INCOME_TYPE',\n",
       "                                                                 'NAME_EDUCATION_TYPE',\n",
       "                                                                 'NAME_FAMILY_STATUS',\n",
       "                                                                 'NAME_HOUSING_TYPE',\n",
       "                                                                 'FLAG_MOBIL',\n",
       "                                                                 'FLAG_WORK_PHONE',\n",
       "                                                                 'FLAG_PHONE',\n",
       "                                                                 'FLAG_EMAIL'],\n",
       "                                           numeric_features=['CNT_CHILDREN',\n",
       "                                                             'AMT_INCOME_TOTAL',\n",
       "                                                             'DAYS_BIRTH',\n",
       "                                                             'DAYS_EMPLOYED',\n",
       "                                                             'C...\n",
       "                                                           'NAME_HOUSING_TYPE',\n",
       "                                                           'FLAG_MOBIL',\n",
       "                                                           'FLAG_WORK_PHONE',\n",
       "                                                           'FLAG_PHONE',\n",
       "                                                           'FLAG_EMAIL']),\n",
       "                                                         ('numeric',\n",
       "                                                          Pipeline(steps=[('scaler',\n",
       "                                                                           RobustScaler())]),\n",
       "                                                          ['CNT_CHILDREN',\n",
       "                                                           'AMT_INCOME_TOTAL',\n",
       "                                                           'DAYS_BIRTH',\n",
       "                                                           'DAYS_EMPLOYED',\n",
       "                                                           'CNT_FAM_MEMBERS'])])),\n",
       "                ('imputer', SimpleImputer(fill_value=0)),\n",
       "                ('scaler', StandardScaler()),\n",
       "                ('clf',\n",
       "                 <keras.wrappers.scikit_learn.KerasClassifier object at 0x7fe183c0a940>)])"
      ]
     },
     "execution_count": 12,
     "metadata": {},
     "output_type": "execute_result"
    }
   ],
   "source": [
    "clf_deep_learning.fit(X_train, y_train)"
   ]
  },
  {
   "cell_type": "code",
   "execution_count": 13,
   "id": "a04eaaf3-9d59-4421-a7f8-95ada78f6ab4",
   "metadata": {},
   "outputs": [],
   "source": [
    "y_proba = clf_deep_learning.predict_proba(X_train)[:,1]\n",
    "y_pred = np.where(y_proba >= 0.5, 1, 0)"
   ]
  },
  {
   "cell_type": "code",
   "execution_count": 14,
   "id": "ee93bced-0db5-4464-a7de-2bc9167190c7",
   "metadata": {},
   "outputs": [
    {
     "name": "stdout",
     "output_type": "stream",
     "text": [
      "              precision    recall  f1-score   support\n",
      "\n",
      "           0       0.99      1.00      0.99     30584\n",
      "           1       0.00      0.00      0.00       404\n",
      "\n",
      "    accuracy                           0.99     30988\n",
      "   macro avg       0.49      0.50      0.50     30988\n",
      "weighted avg       0.97      0.99      0.98     30988\n",
      "\n"
     ]
    }
   ],
   "source": [
    "print(classification_report(y_train, y_pred))"
   ]
  },
  {
   "cell_type": "markdown",
   "id": "29e93154-cb37-493d-b267-7f23b6bba44a",
   "metadata": {},
   "source": [
    "### Others"
   ]
  },
  {
   "cell_type": "code",
   "execution_count": 15,
   "id": "165f0906-62a1-4cda-abc2-f6513c379e62",
   "metadata": {},
   "outputs": [],
   "source": [
    "estimators = [\n",
    "    {\n",
    "        \"clf\": [XGBClassifier()],\n",
    "    },\n",
    "    {\n",
    "        \"clf\": [LGBMClassifier()],\n",
    "    },\n",
    "    {\n",
    "        \"clf\": [SVC()],\n",
    "    },\n",
    "    {\n",
    "        \"clf\": [RandomForestClassifier()],\n",
    "    },\n",
    "    {\n",
    "        \"clf\": [AdaBoostClassifier()],\n",
    "    },\n",
    "]"
   ]
  },
  {
   "cell_type": "code",
   "execution_count": 16,
   "id": "0732f99a-fd7c-41dd-9098-f8ea4c276f76",
   "metadata": {},
   "outputs": [],
   "source": [
    "clf = Pipeline(\n",
    "    steps=[\n",
    "        (\"preprocessor\", preprocessor),\n",
    "        (\"clf\", XGBClassifier()),\n",
    "    ],\n",
    ")"
   ]
  },
  {
   "cell_type": "code",
   "execution_count": 17,
   "id": "21fee097-794e-483d-88d4-86670b27bab3",
   "metadata": {},
   "outputs": [],
   "source": [
    "gs = GridSearchCV(\n",
    "    clf,\n",
    "    estimators,\n",
    "    scoring=\"average_precision\",\n",
    "    cv=5,\n",
    "    n_jobs=1, \n",
    "    verbose=0,\n",
    ")"
   ]
  },
  {
   "cell_type": "code",
   "execution_count": 18,
   "id": "a3a668c5-a123-47a8-8b5c-d2cf0d4a1ff7",
   "metadata": {},
   "outputs": [
    {
     "name": "stdout",
     "output_type": "stream",
     "text": [
      "[21:05:26] WARNING: /Users/travis/build/dmlc/xgboost/src/learner.cc:1095: Starting in XGBoost 1.3.0, the default evaluation metric used with the objective 'binary:logistic' was changed from 'error' to 'logloss'. Explicitly set eval_metric if you'd like to restore the old behavior.\n",
      "[21:05:27] WARNING: /Users/travis/build/dmlc/xgboost/src/learner.cc:1095: Starting in XGBoost 1.3.0, the default evaluation metric used with the objective 'binary:logistic' was changed from 'error' to 'logloss'. Explicitly set eval_metric if you'd like to restore the old behavior.\n",
      "[21:05:28] WARNING: /Users/travis/build/dmlc/xgboost/src/learner.cc:1095: Starting in XGBoost 1.3.0, the default evaluation metric used with the objective 'binary:logistic' was changed from 'error' to 'logloss'. Explicitly set eval_metric if you'd like to restore the old behavior.\n",
      "[21:05:29] WARNING: /Users/travis/build/dmlc/xgboost/src/learner.cc:1095: Starting in XGBoost 1.3.0, the default evaluation metric used with the objective 'binary:logistic' was changed from 'error' to 'logloss'. Explicitly set eval_metric if you'd like to restore the old behavior.\n",
      "[21:05:30] WARNING: /Users/travis/build/dmlc/xgboost/src/learner.cc:1095: Starting in XGBoost 1.3.0, the default evaluation metric used with the objective 'binary:logistic' was changed from 'error' to 'logloss'. Explicitly set eval_metric if you'd like to restore the old behavior.\n"
     ]
    },
    {
     "data": {
      "text/plain": [
       "GridSearchCV(cv=5,\n",
       "             estimator=Pipeline(steps=[('preprocessor',\n",
       "                                        ModifiedColumnTransformer(categorical_features=['CODE_GENDER',\n",
       "                                                                                        'FLAG_OWN_CAR',\n",
       "                                                                                        'FLAG_OWN_REALTY',\n",
       "                                                                                        'NAME_INCOME_TYPE',\n",
       "                                                                                        'NAME_EDUCATION_TYPE',\n",
       "                                                                                        'NAME_FAMILY_STATUS',\n",
       "                                                                                        'NAME_HOUSING_TYPE',\n",
       "                                                                                        'FLAG_MOBIL',\n",
       "                                                                                        'FLAG_WORK_PHONE',\n",
       "                                                                                        'FLAG_PHONE',\n",
       "                                                                                        'FLAG_EMAIL'],\n",
       "                                                                  numeric_features=['CNT_CHILDREN',\n",
       "                                                                                    'AMT_INCOME_TOTAL',\n",
       "                                                                                    'DA...\n",
       "                                                monotone_constraints=None,\n",
       "                                                n_estimators=100, n_jobs=None,\n",
       "                                                num_parallel_tree=None,\n",
       "                                                random_state=None,\n",
       "                                                reg_alpha=None, reg_lambda=None,\n",
       "                                                scale_pos_weight=None,\n",
       "                                                subsample=None,\n",
       "                                                tree_method=None,\n",
       "                                                validate_parameters=None,\n",
       "                                                verbosity=None)]},\n",
       "                         {'clf': [LGBMClassifier()]}, {'clf': [SVC()]},\n",
       "                         {'clf': [RandomForestClassifier()]},\n",
       "                         {'clf': [AdaBoostClassifier()]}],\n",
       "             scoring='average_precision')"
      ]
     },
     "execution_count": 18,
     "metadata": {},
     "output_type": "execute_result"
    }
   ],
   "source": [
    "gs.fit(X_train, y_train)"
   ]
  },
  {
   "cell_type": "code",
   "execution_count": 19,
   "id": "4ffdcf0c-bd6a-4439-9baf-71d6cbd9478f",
   "metadata": {},
   "outputs": [
    {
     "data": {
      "text/html": [
       "<div>\n",
       "<style scoped>\n",
       "    .dataframe tbody tr th:only-of-type {\n",
       "        vertical-align: middle;\n",
       "    }\n",
       "\n",
       "    .dataframe tbody tr th {\n",
       "        vertical-align: top;\n",
       "    }\n",
       "\n",
       "    .dataframe thead th {\n",
       "        text-align: right;\n",
       "    }\n",
       "</style>\n",
       "<table border=\"1\" class=\"dataframe\">\n",
       "  <thead>\n",
       "    <tr style=\"text-align: right;\">\n",
       "      <th></th>\n",
       "      <th>mean_fit_time</th>\n",
       "      <th>std_fit_time</th>\n",
       "      <th>mean_score_time</th>\n",
       "      <th>std_score_time</th>\n",
       "      <th>param_clf</th>\n",
       "      <th>params</th>\n",
       "      <th>split0_test_score</th>\n",
       "      <th>split1_test_score</th>\n",
       "      <th>split2_test_score</th>\n",
       "      <th>split3_test_score</th>\n",
       "      <th>split4_test_score</th>\n",
       "      <th>mean_test_score</th>\n",
       "      <th>std_test_score</th>\n",
       "      <th>rank_test_score</th>\n",
       "    </tr>\n",
       "    <tr>\n",
       "      <th>param_clf</th>\n",
       "      <th></th>\n",
       "      <th></th>\n",
       "      <th></th>\n",
       "      <th></th>\n",
       "      <th></th>\n",
       "      <th></th>\n",
       "      <th></th>\n",
       "      <th></th>\n",
       "      <th></th>\n",
       "      <th></th>\n",
       "      <th></th>\n",
       "      <th></th>\n",
       "      <th></th>\n",
       "      <th></th>\n",
       "    </tr>\n",
       "  </thead>\n",
       "  <tbody>\n",
       "    <tr>\n",
       "      <th>XGBClas</th>\n",
       "      <td>0.866030</td>\n",
       "      <td>0.020059</td>\n",
       "      <td>0.024485</td>\n",
       "      <td>0.000577</td>\n",
       "      <td>XGBClassifier(base_score=None, booster=None, c...</td>\n",
       "      <td>{'clf': XGBClassifier(base_score=None, booster...</td>\n",
       "      <td>0.873880</td>\n",
       "      <td>0.877768</td>\n",
       "      <td>0.817824</td>\n",
       "      <td>0.864884</td>\n",
       "      <td>0.899438</td>\n",
       "      <td>0.866759</td>\n",
       "      <td>0.026974</td>\n",
       "      <td>3</td>\n",
       "    </tr>\n",
       "    <tr>\n",
       "      <th>LGBMCla</th>\n",
       "      <td>0.285837</td>\n",
       "      <td>0.004124</td>\n",
       "      <td>0.027633</td>\n",
       "      <td>0.000950</td>\n",
       "      <td>LGBMClassifier()</td>\n",
       "      <td>{'clf': LGBMClassifier()}</td>\n",
       "      <td>0.879147</td>\n",
       "      <td>0.901096</td>\n",
       "      <td>0.830885</td>\n",
       "      <td>0.897531</td>\n",
       "      <td>0.894564</td>\n",
       "      <td>0.880645</td>\n",
       "      <td>0.025983</td>\n",
       "      <td>2</td>\n",
       "    </tr>\n",
       "    <tr>\n",
       "      <th>SVC()</th>\n",
       "      <td>0.808972</td>\n",
       "      <td>0.058834</td>\n",
       "      <td>0.436364</td>\n",
       "      <td>0.023062</td>\n",
       "      <td>SVC()</td>\n",
       "      <td>{'clf': SVC()}</td>\n",
       "      <td>0.016283</td>\n",
       "      <td>0.021956</td>\n",
       "      <td>0.011286</td>\n",
       "      <td>0.013137</td>\n",
       "      <td>0.015117</td>\n",
       "      <td>0.015556</td>\n",
       "      <td>0.003627</td>\n",
       "      <td>5</td>\n",
       "    </tr>\n",
       "    <tr>\n",
       "      <th>RandomF</th>\n",
       "      <td>1.317934</td>\n",
       "      <td>0.017149</td>\n",
       "      <td>0.070382</td>\n",
       "      <td>0.000435</td>\n",
       "      <td>RandomForestClassifier()</td>\n",
       "      <td>{'clf': RandomForestClassifier()}</td>\n",
       "      <td>0.892291</td>\n",
       "      <td>0.919193</td>\n",
       "      <td>0.843101</td>\n",
       "      <td>0.879864</td>\n",
       "      <td>0.918098</td>\n",
       "      <td>0.890509</td>\n",
       "      <td>0.028100</td>\n",
       "      <td>1</td>\n",
       "    </tr>\n",
       "    <tr>\n",
       "      <th>AdaBoos</th>\n",
       "      <td>0.633628</td>\n",
       "      <td>0.005375</td>\n",
       "      <td>0.042082</td>\n",
       "      <td>0.000305</td>\n",
       "      <td>AdaBoostClassifier()</td>\n",
       "      <td>{'clf': AdaBoostClassifier()}</td>\n",
       "      <td>0.060729</td>\n",
       "      <td>0.041393</td>\n",
       "      <td>0.049174</td>\n",
       "      <td>0.054473</td>\n",
       "      <td>0.044713</td>\n",
       "      <td>0.050096</td>\n",
       "      <td>0.006896</td>\n",
       "      <td>4</td>\n",
       "    </tr>\n",
       "  </tbody>\n",
       "</table>\n",
       "</div>"
      ],
      "text/plain": [
       "           mean_fit_time  std_fit_time  mean_score_time  std_score_time  \\\n",
       "param_clf                                                                 \n",
       "XGBClas         0.866030      0.020059         0.024485        0.000577   \n",
       "LGBMCla         0.285837      0.004124         0.027633        0.000950   \n",
       "SVC()           0.808972      0.058834         0.436364        0.023062   \n",
       "RandomF         1.317934      0.017149         0.070382        0.000435   \n",
       "AdaBoos         0.633628      0.005375         0.042082        0.000305   \n",
       "\n",
       "                                                   param_clf  \\\n",
       "param_clf                                                      \n",
       "XGBClas    XGBClassifier(base_score=None, booster=None, c...   \n",
       "LGBMCla                                     LGBMClassifier()   \n",
       "SVC()                                                  SVC()   \n",
       "RandomF                             RandomForestClassifier()   \n",
       "AdaBoos                                 AdaBoostClassifier()   \n",
       "\n",
       "                                                      params  \\\n",
       "param_clf                                                      \n",
       "XGBClas    {'clf': XGBClassifier(base_score=None, booster...   \n",
       "LGBMCla                            {'clf': LGBMClassifier()}   \n",
       "SVC()                                         {'clf': SVC()}   \n",
       "RandomF                    {'clf': RandomForestClassifier()}   \n",
       "AdaBoos                        {'clf': AdaBoostClassifier()}   \n",
       "\n",
       "           split0_test_score  split1_test_score  split2_test_score  \\\n",
       "param_clf                                                            \n",
       "XGBClas             0.873880           0.877768           0.817824   \n",
       "LGBMCla             0.879147           0.901096           0.830885   \n",
       "SVC()               0.016283           0.021956           0.011286   \n",
       "RandomF             0.892291           0.919193           0.843101   \n",
       "AdaBoos             0.060729           0.041393           0.049174   \n",
       "\n",
       "           split3_test_score  split4_test_score  mean_test_score  \\\n",
       "param_clf                                                          \n",
       "XGBClas             0.864884           0.899438         0.866759   \n",
       "LGBMCla             0.897531           0.894564         0.880645   \n",
       "SVC()               0.013137           0.015117         0.015556   \n",
       "RandomF             0.879864           0.918098         0.890509   \n",
       "AdaBoos             0.054473           0.044713         0.050096   \n",
       "\n",
       "           std_test_score  rank_test_score  \n",
       "param_clf                                   \n",
       "XGBClas          0.026974                3  \n",
       "LGBMCla          0.025983                2  \n",
       "SVC()            0.003627                5  \n",
       "RandomF          0.028100                1  \n",
       "AdaBoos          0.006896                4  "
      ]
     },
     "execution_count": 19,
     "metadata": {},
     "output_type": "execute_result"
    }
   ],
   "source": [
    "cv_results = pd.DataFrame(gs.cv_results_)\n",
    "cv_results.set_index(cv_results[\"param_clf\"].apply(lambda x: f\"{x}\"[:7]), inplace=True)\n",
    "cv_results"
   ]
  },
  {
   "cell_type": "code",
   "execution_count": 20,
   "id": "46ec832e-c1ba-42e1-9f13-e87c73a9ef5f",
   "metadata": {},
   "outputs": [
    {
     "data": {
      "text/plain": [
       "<AxesSubplot:>"
      ]
     },
     "execution_count": 20,
     "metadata": {},
     "output_type": "execute_result"
    },
    {
     "data": {
      "image/png": "[encoded data removed]",
      "text/plain": [
       "<Figure size 432x288 with 1 Axes>"
      ]
     },
     "metadata": {
      "needs_background": "light"
     },
     "output_type": "display_data"
    }
   ],
   "source": [
    "cv_results_splits = cv_results[[col for col in cv_results.columns if \"split\" in col]]\n",
    "cv_results_splits.columns = [re.sub(\"[^0-9]\", \"\", col) if \"split\" in col else col for col in cv_results_splits.columns]\n",
    "cv_results_splits.T.plot()"
   ]
  },
  {
   "cell_type": "code",
   "execution_count": 21,
   "id": "a1f797b4-71bc-4741-8ed6-29c1d6befbc3",
   "metadata": {},
   "outputs": [],
   "source": [
    "y_proba = gs.best_estimator_.predict_proba(X_train)[:,1]\n",
    "y_pred = np.where(y_proba >= 0.5, 1, 0)"
   ]
  },
  {
   "cell_type": "code",
   "execution_count": 22,
   "id": "f8412c0f-d445-4c18-899a-32926e3e8130",
   "metadata": {},
   "outputs": [
    {
     "name": "stdout",
     "output_type": "stream",
     "text": [
      "              precision    recall  f1-score   support\n",
      "\n",
      "           0       1.00      1.00      1.00     30584\n",
      "           1       0.96      0.96      0.96       404\n",
      "\n",
      "    accuracy                           1.00     30988\n",
      "   macro avg       0.98      0.98      0.98     30988\n",
      "weighted avg       1.00      1.00      1.00     30988\n",
      "\n"
     ]
    }
   ],
   "source": [
    "print(classification_report(y_train, y_pred))"
   ]
  },
  {
   "cell_type": "code",
   "execution_count": 23,
   "id": "4e16df08-653c-401c-933e-ec20e424dcfc",
   "metadata": {},
   "outputs": [
    {
     "data": {
      "text/plain": [
       "<sklearn.metrics._plot.confusion_matrix.ConfusionMatrixDisplay at 0x7fe17371bd60>"
      ]
     },
     "execution_count": 23,
     "metadata": {},
     "output_type": "execute_result"
    },
    {
     "data": {
      "image/png": "[encoded data removed]",
      "text/plain": [
       "<Figure size 432x288 with 2 Axes>"
      ]
     },
     "metadata": {
      "needs_background": "light"
     },
     "output_type": "display_data"
    }
   ],
   "source": [
    "plot_confusion_matrix(gs.best_estimator_, X_train, y_train)"
   ]
  },
  {
   "cell_type": "markdown",
   "id": "d1a2f9c8-a661-46ae-af10-a392a7c93d15",
   "metadata": {},
   "source": [
    "## Dump best estimator"
   ]
  },
  {
   "cell_type": "code",
   "execution_count": 24,
   "id": "a8f2d705-d2b9-4a28-96c7-9802bbb5264a",
   "metadata": {},
   "outputs": [],
   "source": [
    "with open(f\"artifacts/{sts.BEST_ESTIMATOR_FILENAME}\",\"wb\") as file:\n",
    "    pickle.dump(gs.best_estimator_, file)"
   ]
  },
  {
   "cell_type": "code",
   "execution_count": null,
   "id": "5e7fdd38-7b70-4bdd-8d1e-43c20ffcce4d",
   "metadata": {},
   "outputs": [],
   "source": []
  }
 ],
 "metadata": {
  "kernelspec": {
   "display_name": "Python 3",
   "language": "python",
   "name": "python3"
  },
  "language_info": {
   "codemirror_mode": {
    "name": "ipython",
    "version": 3
   },
   "file_extension": ".py",
   "mimetype": "text/x-python",
   "name": "python",
   "nbconvert_exporter": "python",
   "pygments_lexer": "ipython3",
   "version": "3.8.8"
  }
 },
 "nbformat": 4,
 "nbformat_minor": 5
}
