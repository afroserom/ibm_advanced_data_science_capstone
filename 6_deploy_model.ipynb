{
 "cells": [
  {
   "cell_type": "markdown",
   "id": "ad985576-65dc-475c-abce-b4e185dde76f",
   "metadata": {},
   "source": [
    "# Deploy model"
   ]
  },
  {
   "cell_type": "markdown",
   "id": "58e4a90e-b408-4a0a-ba8a-a1ba11873d0d",
   "metadata": {},
   "source": [
    "## Settings"
   ]
  },
  {
   "cell_type": "code",
   "execution_count": 1,
   "id": "d91e8e05-e80e-4c1a-8955-53647aa820fe",
   "metadata": {},
   "outputs": [],
   "source": [
    "%load_ext autoreload"
   ]
  },
  {
   "cell_type": "code",
   "execution_count": 2,
   "id": "28a2aed0-4d89-4597-bd7b-92cad3459727",
   "metadata": {},
   "outputs": [],
   "source": [
    "%autoreload 2"
   ]
  },
  {
   "cell_type": "code",
   "execution_count": 3,
   "id": "e86e77b7-9ce7-451f-ac81-b5e4a7fa3bf5",
   "metadata": {},
   "outputs": [
    {
     "name": "stdout",
     "output_type": "stream",
     "text": [
      "\u001b[1m\u001b[91mBEST_ESTIMATOR_FILENAME : best_estimator_0.0.1.pkl\n",
      "\u001b[1m\u001b[91mDATASET_TRAIN_FILENAME : dataset_train.parquet\n",
      "\u001b[1m\u001b[91mDATASET_VALIDATION_FILENAME : dataset_validation.parquet\n",
      "\u001b[1m\u001b[91mETL_VERSION : 0.0.1\n",
      "\u001b[1m\u001b[91mMODEL_FILENAME : model.pkl\n",
      "\u001b[1m\u001b[91mMODEL_VERSION : 0.0.1\n",
      "\u001b[1m\u001b[91mPREPROCESSOR_FILENAME : preprocessor_0.0.1.pkl\n",
      "\u001b[1m\u001b[91mTRAINED_BEST_ESTIMATOR_FILENAME : trained_best_estimator_0.0.1.pkl\n",
      "\u001b[1m\u001b[91mcolor : <class 'helpers.settings.color'>\n",
      "\u001b[1m\u001b[91mprint_settings : <function print_settings at 0x7f85017b0c10>\n",
      "\u001b[0m\n"
     ]
    }
   ],
   "source": [
    "import helpers.settings as sts\n",
    "sts.print_settings(sts)"
   ]
  },
  {
   "cell_type": "markdown",
   "id": "f560443f-9f21-4710-b694-463681b84658",
   "metadata": {},
   "source": [
    "## Imports"
   ]
  },
  {
   "cell_type": "code",
   "execution_count": 4,
   "id": "93b88ff1-944f-4bed-934b-1827fdf54c8c",
   "metadata": {},
   "outputs": [],
   "source": [
    "import pickle\n",
    "import pandas as pd\n",
    "import numpy as np\n",
    "import requests"
   ]
  },
  {
   "cell_type": "markdown",
   "id": "e3e0fe60-e181-4f47-b0aa-dd35a6864bce",
   "metadata": {},
   "source": [
    "## Load trained best estimator"
   ]
  },
  {
   "cell_type": "code",
   "execution_count": 5,
   "id": "c599587b-d978-49c9-bf75-3791b476998f",
   "metadata": {},
   "outputs": [],
   "source": [
    "with open(f\"artifacts/{sts.TRAINED_BEST_ESTIMATOR_FILENAME}\",\"rb\") as file:\n",
    "    best_estimator = pickle.load(file)    "
   ]
  },
  {
   "cell_type": "markdown",
   "id": "2220be14-ff3d-4feb-b494-ebe9e7c467f2",
   "metadata": {},
   "source": [
    "## Dump final model"
   ]
  },
  {
   "cell_type": "code",
   "execution_count": 6,
   "id": "57be6960-fdf3-4165-9761-fadbf466313b",
   "metadata": {},
   "outputs": [],
   "source": [
    "with open(f\"artifacts/{sts.MODEL_FILENAME}\",\"wb\") as file:\n",
    "    pickle.dump(best_estimator, file)"
   ]
  },
  {
   "cell_type": "markdown",
   "id": "dd2140ee-6ade-4a88-9861-4934be433f5b",
   "metadata": {},
   "source": [
    "## Load validation dataset"
   ]
  },
  {
   "cell_type": "code",
   "execution_count": 7,
   "id": "5e0f3d5f-1fd1-473a-b4aa-fb84c9641173",
   "metadata": {},
   "outputs": [],
   "source": [
    "df_validation = pd.read_parquet(f\"data/{sts.DATASET_VALIDATION_FILENAME}\")"
   ]
  },
  {
   "cell_type": "code",
   "execution_count": 8,
   "id": "fa36ba76-79fa-473f-8c9b-4fe8e8822138",
   "metadata": {},
   "outputs": [],
   "source": [
    "X_validation = df_validation.iloc[:,:-1]\n",
    "y_validation = df_validation.iloc[:,-1]"
   ]
  },
  {
   "cell_type": "markdown",
   "id": "2521d40d-b320-43a2-91ed-5e5acdfd1b6b",
   "metadata": {},
   "source": [
    "## Test deployment"
   ]
  },
  {
   "cell_type": "markdown",
   "id": "158ff576-4a86-4315-a418-f7266b55174d",
   "metadata": {},
   "source": [
    "### Batch"
   ]
  },
  {
   "cell_type": "code",
   "execution_count": 15,
   "id": "6e1baaff-c57b-437a-a8d7-fb1e5f910fc3",
   "metadata": {},
   "outputs": [],
   "source": [
    "complete_batch_json = {\n",
    "    \"instances\":X_validation.head(5).to_dict(orient=\"records\")\n",
    "}"
   ]
  },
  {
   "cell_type": "code",
   "execution_count": 17,
   "id": "c5cc0c29-78c6-4ccc-8dcb-11b3984337bb",
   "metadata": {},
   "outputs": [
    {
     "data": {
      "text/plain": [
       "({'prediction': [0.0, 0.01, 0.0, 0.0, 0.0]}, 0.36441)"
      ]
     },
     "execution_count": 17,
     "metadata": {},
     "output_type": "execute_result"
    }
   ],
   "source": [
    "response = requests.post(\"https://coursera-ds-capstone-dev.uc.r.appspot.com/v1/batch_predict\", json=complete_batch_json)\n",
    "response.json(), response.elapsed.total_seconds()"
   ]
  },
  {
   "cell_type": "markdown",
   "id": "f2cc740c-322d-40ee-9852-0067c6b5a42e",
   "metadata": {},
   "source": [
    "### Individual prediction"
   ]
  },
  {
   "cell_type": "code",
   "execution_count": 11,
   "id": "4c0c2334-d238-4105-b02c-d665814d7745",
   "metadata": {},
   "outputs": [],
   "source": [
    "json = {\n",
    "  \"CODE_GENDER\": \"M\",\n",
    "  \"FLAG_OWN_CAR\": \"Y\",\n",
    "  \"FLAG_OWN_REALTY\": \"Y\",\n",
    "  \"CNT_CHILDREN\": 0,\n",
    "  \"AMT_INCOME_TOTAL\": 0,\n",
    "  \"NAME_INCOME_TYPE\": \"string\",\n",
    "  \"NAME_EDUCATION_TYPE\": \"string\",\n",
    "  \"NAME_FAMILY_STATUS\": \"string\",\n",
    "  \"NAME_HOUSING_TYPE\": \"string\",\n",
    "  \"DAYS_BIRTH\": 0,\n",
    "  \"DAYS_EMPLOYED\": 0,\n",
    "  \"FLAG_MOBIL\": 1,\n",
    "  \"FLAG_WORK_PHONE\": 1,\n",
    "  \"FLAG_PHONE\": 1,\n",
    "  \"FLAG_EMAIL\": 1,\n",
    "  \"OCCUPATION_TYPE\": \"string\",\n",
    "  \"CNT_FAM_MEMBERS\": 0\n",
    "}"
   ]
  },
  {
   "cell_type": "code",
   "execution_count": 12,
   "id": "da3db45f-4804-4af9-9088-39c8f2fb4951",
   "metadata": {},
   "outputs": [
    {
     "data": {
      "text/plain": [
       "({'prediction': 0.058,\n",
       "  'features': {'CODE_GENDER': 'M',\n",
       "   'FLAG_OWN_CAR': 'Y',\n",
       "   'FLAG_OWN_REALTY': 'Y',\n",
       "   'CNT_CHILDREN': 0,\n",
       "   'AMT_INCOME_TOTAL': 0.0,\n",
       "   'NAME_INCOME_TYPE': 'string',\n",
       "   'NAME_EDUCATION_TYPE': 'string',\n",
       "   'NAME_FAMILY_STATUS': 'string',\n",
       "   'NAME_HOUSING_TYPE': 'string',\n",
       "   'DAYS_BIRTH': 0,\n",
       "   'DAYS_EMPLOYED': 0,\n",
       "   'FLAG_MOBIL': 1,\n",
       "   'FLAG_WORK_PHONE': 1,\n",
       "   'FLAG_PHONE': 1,\n",
       "   'FLAG_EMAIL': 1,\n",
       "   'OCCUPATION_TYPE': 'string',\n",
       "   'CNT_FAM_MEMBERS': 0}},\n",
       " 0.329931)"
      ]
     },
     "execution_count": 12,
     "metadata": {},
     "output_type": "execute_result"
    }
   ],
   "source": [
    "response = response = requests.post(\"https://coursera-ds-capstone-dev.uc.r.appspot.com/v1/predict\", json=json)\n",
    "response.json(), response.elapsed.total_seconds()"
   ]
  },
  {
   "cell_type": "code",
   "execution_count": null,
   "id": "a4439747-a68c-43c7-aab0-216c5e2a0612",
   "metadata": {},
   "outputs": [],
   "source": []
  }
 ],
 "metadata": {
  "kernelspec": {
   "display_name": "Python 3",
   "language": "python",
   "name": "python3"
  },
  "language_info": {
   "codemirror_mode": {
    "name": "ipython",
    "version": 3
   },
   "file_extension": ".py",
   "mimetype": "text/x-python",
   "name": "python",
   "nbconvert_exporter": "python",
   "pygments_lexer": "ipython3",
   "version": "3.8.8"
  }
 },
 "nbformat": 4,
 "nbformat_minor": 5
}
