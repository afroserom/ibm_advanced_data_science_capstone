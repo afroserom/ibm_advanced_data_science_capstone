{
 "cells": [
  {
   "cell_type": "markdown",
   "id": "ac232a18-4089-47eb-a483-b3613898fac3",
   "metadata": {},
   "source": [
    "# Model training"
   ]
  },
  {
   "cell_type": "markdown",
   "id": "1342f55f-d3e4-4724-a26f-94ebff2815b8",
   "metadata": {},
   "source": [
    "## Settings"
   ]
  },
  {
   "cell_type": "code",
   "execution_count": 1,
   "id": "b8f39fda-db9a-431d-a3ce-60e367efc696",
   "metadata": {},
   "outputs": [],
   "source": [
    "%load_ext autoreload"
   ]
  },
  {
   "cell_type": "code",
   "execution_count": 2,
   "id": "360119dd-8ede-4b4c-ae11-1b40d4a4bf4c",
   "metadata": {},
   "outputs": [],
   "source": [
    "%autoreload 2"
   ]
  },
  {
   "cell_type": "code",
   "execution_count": 3,
   "id": "3fb671fb-7c6e-4676-84d4-a6f9c4446ac0",
   "metadata": {},
   "outputs": [
    {
     "name": "stdout",
     "output_type": "stream",
     "text": [
      "\u001b[1m\u001b[91mBEST_ESTIMATOR_FILENAME : best_estimator_0.0.1.pkl\n",
      "\u001b[1m\u001b[91mDATASET_TRAIN_FILENAME : dataset_train.parquet\n",
      "\u001b[1m\u001b[91mDATASET_VALIDATION_FILENAME : dataset_validation.parquet\n",
      "\u001b[1m\u001b[91mETL_VERSION : 0.0.1\n",
      "\u001b[1m\u001b[91mMODEL_FILENAME : model_0.0.1.pkl\n",
      "\u001b[1m\u001b[91mMODEL_VERSION : 0.0.1\n",
      "\u001b[1m\u001b[91mPREPROCESSOR_FILENAME : preprocessor_0.0.1.pkl\n",
      "\u001b[1m\u001b[91mTRAINED_BEST_ESTIMATOR_FILENAME : trained_best_estimator_0.0.1.pkl\n",
      "\u001b[1m\u001b[91mcolor : <class 'helpers.settings.color'>\n",
      "\u001b[1m\u001b[91mprint_settings : <function print_settings at 0x7fa094aaac10>\n",
      "\u001b[0m\n"
     ]
    }
   ],
   "source": [
    "import helpers.settings as sts\n",
    "sts.print_settings(sts)"
   ]
  },
  {
   "cell_type": "markdown",
   "id": "c3735069-eae4-427e-9581-6ce501d812d6",
   "metadata": {},
   "source": [
    "## Imports"
   ]
  },
  {
   "cell_type": "code",
   "execution_count": 4,
   "id": "52a74b64-c835-41e7-8ee9-63fcf34a4d8c",
   "metadata": {},
   "outputs": [],
   "source": [
    "import pickle\n",
    "import pandas as pd\n",
    "import numpy as np\n",
    "from sklearn.metrics import (\n",
    "    classification_report,\n",
    "    plot_precision_recall_curve,\n",
    "    precision_recall_curve,\n",
    "    average_precision_score,\n",
    ")\n",
    "from sklearn.model_selection import RandomizedSearchCV\n",
    "from xgboost import XGBClassifier\n",
    "from lightgbm import LGBMClassifier\n",
    "from sklearn.pipeline import Pipeline\n",
    "from sklearn.ensemble import RandomForestClassifier\n",
    "from scipy.stats import randint as sp_randint\n",
    "import shap"
   ]
  },
  {
   "cell_type": "markdown",
   "id": "d1c10549-3efd-42dc-a8bb-47cbea4393d3",
   "metadata": {},
   "source": [
    "## Load train dataset"
   ]
  },
  {
   "cell_type": "code",
   "execution_count": 5,
   "id": "1003d402-34f8-4356-8414-875201236e25",
   "metadata": {},
   "outputs": [],
   "source": [
    "df_train = pd.read_parquet(f\"data/{sts.DATASET_TRAIN_FILENAME}\")"
   ]
  },
  {
   "cell_type": "code",
   "execution_count": 6,
   "id": "320dc690-206a-4270-ad77-e9963aa05de0",
   "metadata": {},
   "outputs": [],
   "source": [
    "X_train = df_train.iloc[:,:-1]\n",
    "y_train = df_train.iloc[:,-1]"
   ]
  },
  {
   "cell_type": "markdown",
   "id": "4bce86ab-9ddd-42a2-b322-c8d610fc212e",
   "metadata": {},
   "source": [
    "## Best estimator param grid"
   ]
  },
  {
   "cell_type": "code",
   "execution_count": 7,
   "id": "43a3c660-c0ce-4669-84ff-8f635163a983",
   "metadata": {},
   "outputs": [],
   "source": [
    "estimators = [\n",
    "    {\n",
    "        \"clf\": [RandomForestClassifier()],\n",
    "        \"clf__bootstrap\": [True, False],\n",
    "        \"clf__max_depth\": [10, 20, 30, 40, 50, 60, 70, 80, 90, 100, None],\n",
    "        \"clf__max_features\": [\"auto\", \"sqrt\"],\n",
    "        \"clf__min_samples_leaf\": [1, 2, 4],\n",
    "        \"clf__min_samples_split\": [2, 5, 10],\n",
    "        \"clf__n_estimators\": [100, 200, 400, 500]\n",
    "    },\n",
    "    {\n",
    "        \"clf\": [XGBClassifier()],\n",
    "        \"clf__objective\": [\"binary:logistic\"],\n",
    "        \"clf__use_label_encoder\": [False],\n",
    "        \"clf__eval_metric\": [\"logloss\"],\n",
    "        \"clf__learning_rate\": [0.0001, 0.001, 0.01, 0.1, 0.2, 0.3],\n",
    "        \"clf__min_child_weight\": [1, 2, 3, 4, 5, 6, 7, 8, 9, 10],\n",
    "        \"clf__gamma\": [0.5, 1, 1.5, 2, 5],\n",
    "        \"clf__subsample\": np.random.uniform(1, .7, 1),\n",
    "        \"clf__colsample_bytree\": [ 0.3, 0.4, 0.5 , 0.7 ],\n",
    "        \"clf__max_depth\": [3, 4, 5, 6, 7, 8],\n",
    "        \"clf__n_estimators\": np.arange(100, 500, 10),\n",
    "        \n",
    "    },\n",
    "    {\n",
    "        \"clf\": [LGBMClassifier()],\n",
    "        \"clf__num_leaves\": sp_randint(6, 50), \n",
    "        \"clf__min_child_samples\": sp_randint(100, 500), \n",
    "        \"clf__min_child_weight\": [1e-5, 1e-3, 1e-2, 1e-1, 1, 1e1, 1e2, 1e3, 1e4],\n",
    "        \"clf__subsample\": np.random.uniform(0.2, 0.8, 1), \n",
    "        \"clf__colsample_bytree\": np.random.uniform(0.4, 0.6, 1),\n",
    "        \"clf__reg_alpha\": [0, 1e-1, 1, 2, 5, 7, 10, 50, 100],\n",
    "        \"clf__reg_lambda\": [0, 1e-1, 1, 5, 10, 20, 50, 100],\n",
    "    },  \n",
    "]"
   ]
  },
  {
   "cell_type": "markdown",
   "id": "acf65eec-d3d6-463c-ab52-b1769aa5c962",
   "metadata": {},
   "source": [
    "## Load best estimator"
   ]
  },
  {
   "cell_type": "code",
   "execution_count": 8,
   "id": "d314d68b-b7bb-46f4-94c4-7bae9e1b5b3c",
   "metadata": {},
   "outputs": [],
   "source": [
    "with open(f\"artifacts/{sts.BEST_ESTIMATOR_FILENAME}\", \"rb\") as file:\n",
    "    best_estimator = pickle.load(file)"
   ]
  },
  {
   "cell_type": "code",
   "execution_count": 9,
   "id": "acdccc78-806b-49a1-8533-3516a1497653",
   "metadata": {},
   "outputs": [],
   "source": [
    "rs = RandomizedSearchCV(\n",
    "    best_estimator, \n",
    "    estimators, \n",
    "    cv=3,\n",
    "    scoring=\"average_precision\",\n",
    "    n_jobs=1, \n",
    "    verbose=3, \n",
    "    n_iter=20, \n",
    "    random_state=42,\n",
    ")"
   ]
  },
  {
   "cell_type": "code",
   "execution_count": 10,
   "id": "461c63fd-523b-44e9-9931-cf5910b01945",
   "metadata": {
    "tags": []
   },
   "outputs": [
    {
     "name": "stderr",
     "output_type": "stream",
     "text": [
      "2021-09-01 05:57:30.413610 INFO: Hard mode for the ModifiedColumnTransformer set to True: The initial features are going to be enforced during transformation and fit steps\n",
      "[Parallel(n_jobs=1)]: Using backend SequentialBackend with 1 concurrent workers.\n",
      "2021-09-01 05:57:30.420473 INFO: Hard mode for the ModifiedColumnTransformer set to True: The initial features are going to be enforced during transformation and fit steps\n",
      "is_categorical is deprecated and will be removed in a future version.  Use is_categorical_dtype instead\n"
     ]
    },
    {
     "name": "stdout",
     "output_type": "stream",
     "text": [
      "Fitting 3 folds for each of 20 candidates, totalling 60 fits\n",
      "[CV] clf=LGBMClassifier(), clf__colsample_bytree=0.5731341767005942, clf__min_child_samples=448, clf__min_child_weight=1000.0, clf__num_leaves=26, clf__reg_alpha=10, clf__reg_lambda=0.1, clf__subsample=0.40181578955992386 \n",
      "[CV]  clf=LGBMClassifier(), clf__colsample_bytree=0.5731341767005942, clf__min_child_samples=448, clf__min_child_weight=1000.0, clf__num_leaves=26, clf__reg_alpha=10, clf__reg_lambda=0.1, clf__subsample=0.40181578955992386, score=0.013, total=   0.4s\n",
      "[CV] clf=LGBMClassifier(), clf__colsample_bytree=0.5731341767005942, clf__min_child_samples=448, clf__min_child_weight=1000.0, clf__num_leaves=26, clf__reg_alpha=10, clf__reg_lambda=0.1, clf__subsample=0.40181578955992386 \n"
     ]
    },
    {
     "name": "stderr",
     "output_type": "stream",
     "text": [
      "[Parallel(n_jobs=1)]: Done   1 out of   1 | elapsed:    0.4s remaining:    0.0s\n",
      "2021-09-01 05:57:30.790227 INFO: Hard mode for the ModifiedColumnTransformer set to True: The initial features are going to be enforced during transformation and fit steps\n",
      "is_categorical is deprecated and will be removed in a future version.  Use is_categorical_dtype instead\n"
     ]
    },
    {
     "name": "stdout",
     "output_type": "stream",
     "text": [
      "[CV]  clf=LGBMClassifier(), clf__colsample_bytree=0.5731341767005942, clf__min_child_samples=448, clf__min_child_weight=1000.0, clf__num_leaves=26, clf__reg_alpha=10, clf__reg_lambda=0.1, clf__subsample=0.40181578955992386, score=0.013, total=   0.4s\n",
      "[CV] clf=LGBMClassifier(), clf__colsample_bytree=0.5731341767005942, clf__min_child_samples=448, clf__min_child_weight=1000.0, clf__num_leaves=26, clf__reg_alpha=10, clf__reg_lambda=0.1, clf__subsample=0.40181578955992386 \n"
     ]
    },
    {
     "name": "stderr",
     "output_type": "stream",
     "text": [
      "[Parallel(n_jobs=1)]: Done   2 out of   2 | elapsed:    0.8s remaining:    0.0s\n",
      "2021-09-01 05:57:31.180367 INFO: Hard mode for the ModifiedColumnTransformer set to True: The initial features are going to be enforced during transformation and fit steps\n",
      "is_categorical is deprecated and will be removed in a future version.  Use is_categorical_dtype instead\n"
     ]
    },
    {
     "name": "stdout",
     "output_type": "stream",
     "text": [
      "[CV]  clf=LGBMClassifier(), clf__colsample_bytree=0.5731341767005942, clf__min_child_samples=448, clf__min_child_weight=1000.0, clf__num_leaves=26, clf__reg_alpha=10, clf__reg_lambda=0.1, clf__subsample=0.40181578955992386, score=0.013, total=   0.4s\n",
      "[CV] clf=LGBMClassifier(), clf__colsample_bytree=0.5731341767005942, clf__min_child_samples=314, clf__min_child_weight=1000.0, clf__num_leaves=41, clf__reg_alpha=50, clf__reg_lambda=100, clf__subsample=0.40181578955992386 \n"
     ]
    },
    {
     "name": "stderr",
     "output_type": "stream",
     "text": [
      "2021-09-01 05:57:31.572540 INFO: Hard mode for the ModifiedColumnTransformer set to True: The initial features are going to be enforced during transformation and fit steps\n",
      "is_categorical is deprecated and will be removed in a future version.  Use is_categorical_dtype instead\n"
     ]
    },
    {
     "name": "stdout",
     "output_type": "stream",
     "text": [
      "[CV]  clf=LGBMClassifier(), clf__colsample_bytree=0.5731341767005942, clf__min_child_samples=314, clf__min_child_weight=1000.0, clf__num_leaves=41, clf__reg_alpha=50, clf__reg_lambda=100, clf__subsample=0.40181578955992386, score=0.013, total=   0.4s\n",
      "[CV] clf=LGBMClassifier(), clf__colsample_bytree=0.5731341767005942, clf__min_child_samples=314, clf__min_child_weight=1000.0, clf__num_leaves=41, clf__reg_alpha=50, clf__reg_lambda=100, clf__subsample=0.40181578955992386 \n"
     ]
    },
    {
     "name": "stderr",
     "output_type": "stream",
     "text": [
      "2021-09-01 05:57:31.961938 INFO: Hard mode for the ModifiedColumnTransformer set to True: The initial features are going to be enforced during transformation and fit steps\n",
      "is_categorical is deprecated and will be removed in a future version.  Use is_categorical_dtype instead\n"
     ]
    },
    {
     "name": "stdout",
     "output_type": "stream",
     "text": [
      "[CV]  clf=LGBMClassifier(), clf__colsample_bytree=0.5731341767005942, clf__min_child_samples=314, clf__min_child_weight=1000.0, clf__num_leaves=41, clf__reg_alpha=50, clf__reg_lambda=100, clf__subsample=0.40181578955992386, score=0.013, total=   0.4s\n",
      "[CV] clf=LGBMClassifier(), clf__colsample_bytree=0.5731341767005942, clf__min_child_samples=314, clf__min_child_weight=1000.0, clf__num_leaves=41, clf__reg_alpha=50, clf__reg_lambda=100, clf__subsample=0.40181578955992386 \n"
     ]
    },
    {
     "name": "stderr",
     "output_type": "stream",
     "text": [
      "2021-09-01 05:57:32.350957 INFO: Hard mode for the ModifiedColumnTransformer set to True: The initial features are going to be enforced during transformation and fit steps\n",
      "is_categorical is deprecated and will be removed in a future version.  Use is_categorical_dtype instead\n"
     ]
    },
    {
     "name": "stdout",
     "output_type": "stream",
     "text": [
      "[CV]  clf=LGBMClassifier(), clf__colsample_bytree=0.5731341767005942, clf__min_child_samples=314, clf__min_child_weight=1000.0, clf__num_leaves=41, clf__reg_alpha=50, clf__reg_lambda=100, clf__subsample=0.40181578955992386, score=0.013, total=   0.4s\n",
      "[CV] clf=LGBMClassifier(), clf__colsample_bytree=0.5731341767005942, clf__min_child_samples=249, clf__min_child_weight=1, clf__num_leaves=7, clf__reg_alpha=50, clf__reg_lambda=5, clf__subsample=0.40181578955992386 \n"
     ]
    },
    {
     "name": "stderr",
     "output_type": "stream",
     "text": [
      "2021-09-01 05:57:32.775183 INFO: Hard mode for the ModifiedColumnTransformer set to True: The initial features are going to be enforced during transformation and fit steps\n",
      "is_categorical is deprecated and will be removed in a future version.  Use is_categorical_dtype instead\n"
     ]
    },
    {
     "name": "stdout",
     "output_type": "stream",
     "text": [
      "[CV]  clf=LGBMClassifier(), clf__colsample_bytree=0.5731341767005942, clf__min_child_samples=249, clf__min_child_weight=1, clf__num_leaves=7, clf__reg_alpha=50, clf__reg_lambda=5, clf__subsample=0.40181578955992386, score=0.013, total=   0.4s\n",
      "[CV] clf=LGBMClassifier(), clf__colsample_bytree=0.5731341767005942, clf__min_child_samples=249, clf__min_child_weight=1, clf__num_leaves=7, clf__reg_alpha=50, clf__reg_lambda=5, clf__subsample=0.40181578955992386 \n"
     ]
    },
    {
     "name": "stderr",
     "output_type": "stream",
     "text": [
      "2021-09-01 05:57:33.162606 INFO: Hard mode for the ModifiedColumnTransformer set to True: The initial features are going to be enforced during transformation and fit steps\n",
      "is_categorical is deprecated and will be removed in a future version.  Use is_categorical_dtype instead\n"
     ]
    },
    {
     "name": "stdout",
     "output_type": "stream",
     "text": [
      "[CV]  clf=LGBMClassifier(), clf__colsample_bytree=0.5731341767005942, clf__min_child_samples=249, clf__min_child_weight=1, clf__num_leaves=7, clf__reg_alpha=50, clf__reg_lambda=5, clf__subsample=0.40181578955992386, score=0.013, total=   0.4s\n",
      "[CV] clf=LGBMClassifier(), clf__colsample_bytree=0.5731341767005942, clf__min_child_samples=249, clf__min_child_weight=1, clf__num_leaves=7, clf__reg_alpha=50, clf__reg_lambda=5, clf__subsample=0.40181578955992386 \n"
     ]
    },
    {
     "name": "stderr",
     "output_type": "stream",
     "text": [
      "2021-09-01 05:57:33.542163 INFO: Hard mode for the ModifiedColumnTransformer set to True: The initial features are going to be enforced during transformation and fit steps\n",
      "is_categorical is deprecated and will be removed in a future version.  Use is_categorical_dtype instead\n"
     ]
    },
    {
     "name": "stdout",
     "output_type": "stream",
     "text": [
      "[CV]  clf=LGBMClassifier(), clf__colsample_bytree=0.5731341767005942, clf__min_child_samples=249, clf__min_child_weight=1, clf__num_leaves=7, clf__reg_alpha=50, clf__reg_lambda=5, clf__subsample=0.40181578955992386, score=0.013, total=   0.4s\n",
      "[CV] clf=XGBClassifier(base_score=None, booster=None, colsample_bylevel=None,\n",
      "              colsample_bynode=None, colsample_bytree=None, gamma=None,\n",
      "              gpu_id=None, importance_type='gain', interaction_constraints=None,\n",
      "              learning_rate=None, max_delta_step=None, max_depth=None,\n",
      "              min_child_weight=None, missing=nan, monotone_constraints=None,\n",
      "              n_estimators=100, n_jobs=None, num_parallel_tree=None,\n",
      "              random_state=None, reg_alpha=None, reg_lambda=None,\n",
      "              scale_pos_weight=None, subsample=None, tree_method=None,\n",
      "              validate_parameters=None, verbosity=None), clf__colsample_bytree=0.4, clf__eval_metric=logloss, clf__gamma=1, clf__learning_rate=0.1, clf__max_depth=7, clf__min_child_weight=1, clf__n_estimators=210, clf__objective=binary:logistic, clf__subsample=0.9007190934314233, clf__use_label_encoder=False \n"
     ]
    },
    {
     "name": "stderr",
     "output_type": "stream",
     "text": [
      "2021-09-01 05:57:33.926226 INFO: Hard mode for the ModifiedColumnTransformer set to True: The initial features are going to be enforced during transformation and fit steps\n",
      "is_categorical is deprecated and will be removed in a future version.  Use is_categorical_dtype instead\n"
     ]
    },
    {
     "name": "stdout",
     "output_type": "stream",
     "text": [
      "[CV]  clf=XGBClassifier(base_score=None, booster=None, colsample_bylevel=None,\n",
      "              colsample_bynode=None, colsample_bytree=None, gamma=None,\n",
      "              gpu_id=None, importance_type='gain', interaction_constraints=None,\n",
      "              learning_rate=None, max_delta_step=None, max_depth=None,\n",
      "              min_child_weight=None, missing=nan, monotone_constraints=None,\n",
      "              n_estimators=100, n_jobs=None, num_parallel_tree=None,\n",
      "              random_state=None, reg_alpha=None, reg_lambda=None,\n",
      "              scale_pos_weight=None, subsample=None, tree_method=None,\n",
      "              validate_parameters=None, verbosity=None), clf__colsample_bytree=0.4, clf__eval_metric=logloss, clf__gamma=1, clf__learning_rate=0.1, clf__max_depth=7, clf__min_child_weight=1, clf__n_estimators=210, clf__objective=binary:logistic, clf__subsample=0.9007190934314233, clf__use_label_encoder=False, score=0.791, total=   1.2s\n",
      "[CV] clf=XGBClassifier(base_score=None, booster=None, colsample_bylevel=None,\n",
      "              colsample_bynode=None, colsample_bytree=None, gamma=None,\n",
      "              gpu_id=None, importance_type='gain', interaction_constraints=None,\n",
      "              learning_rate=None, max_delta_step=None, max_depth=None,\n",
      "              min_child_weight=None, missing=nan, monotone_constraints=None,\n",
      "              n_estimators=100, n_jobs=None, num_parallel_tree=None,\n",
      "              random_state=None, reg_alpha=None, reg_lambda=None,\n",
      "              scale_pos_weight=None, subsample=None, tree_method=None,\n",
      "              validate_parameters=None, verbosity=None), clf__colsample_bytree=0.4, clf__eval_metric=logloss, clf__gamma=1, clf__learning_rate=0.1, clf__max_depth=7, clf__min_child_weight=1, clf__n_estimators=210, clf__objective=binary:logistic, clf__subsample=0.9007190934314233, clf__use_label_encoder=False \n"
     ]
    },
    {
     "name": "stderr",
     "output_type": "stream",
     "text": [
      "2021-09-01 05:57:35.158811 INFO: Hard mode for the ModifiedColumnTransformer set to True: The initial features are going to be enforced during transformation and fit steps\n",
      "is_categorical is deprecated and will be removed in a future version.  Use is_categorical_dtype instead\n"
     ]
    },
    {
     "name": "stdout",
     "output_type": "stream",
     "text": [
      "[CV]  clf=XGBClassifier(base_score=None, booster=None, colsample_bylevel=None,\n",
      "              colsample_bynode=None, colsample_bytree=None, gamma=None,\n",
      "              gpu_id=None, importance_type='gain', interaction_constraints=None,\n",
      "              learning_rate=None, max_delta_step=None, max_depth=None,\n",
      "              min_child_weight=None, missing=nan, monotone_constraints=None,\n",
      "              n_estimators=100, n_jobs=None, num_parallel_tree=None,\n",
      "              random_state=None, reg_alpha=None, reg_lambda=None,\n",
      "              scale_pos_weight=None, subsample=None, tree_method=None,\n",
      "              validate_parameters=None, verbosity=None), clf__colsample_bytree=0.4, clf__eval_metric=logloss, clf__gamma=1, clf__learning_rate=0.1, clf__max_depth=7, clf__min_child_weight=1, clf__n_estimators=210, clf__objective=binary:logistic, clf__subsample=0.9007190934314233, clf__use_label_encoder=False, score=0.686, total=   1.2s\n",
      "[CV] clf=XGBClassifier(base_score=None, booster=None, colsample_bylevel=None,\n",
      "              colsample_bynode=None, colsample_bytree=None, gamma=None,\n",
      "              gpu_id=None, importance_type='gain', interaction_constraints=None,\n",
      "              learning_rate=None, max_delta_step=None, max_depth=None,\n",
      "              min_child_weight=None, missing=nan, monotone_constraints=None,\n",
      "              n_estimators=100, n_jobs=None, num_parallel_tree=None,\n",
      "              random_state=None, reg_alpha=None, reg_lambda=None,\n",
      "              scale_pos_weight=None, subsample=None, tree_method=None,\n",
      "              validate_parameters=None, verbosity=None), clf__colsample_bytree=0.4, clf__eval_metric=logloss, clf__gamma=1, clf__learning_rate=0.1, clf__max_depth=7, clf__min_child_weight=1, clf__n_estimators=210, clf__objective=binary:logistic, clf__subsample=0.9007190934314233, clf__use_label_encoder=False \n"
     ]
    },
    {
     "name": "stderr",
     "output_type": "stream",
     "text": [
      "2021-09-01 05:57:36.412164 INFO: Hard mode for the ModifiedColumnTransformer set to True: The initial features are going to be enforced during transformation and fit steps\n",
      "is_categorical is deprecated and will be removed in a future version.  Use is_categorical_dtype instead\n"
     ]
    },
    {
     "name": "stdout",
     "output_type": "stream",
     "text": [
      "[CV]  clf=XGBClassifier(base_score=None, booster=None, colsample_bylevel=None,\n",
      "              colsample_bynode=None, colsample_bytree=None, gamma=None,\n",
      "              gpu_id=None, importance_type='gain', interaction_constraints=None,\n",
      "              learning_rate=None, max_delta_step=None, max_depth=None,\n",
      "              min_child_weight=None, missing=nan, monotone_constraints=None,\n",
      "              n_estimators=100, n_jobs=None, num_parallel_tree=None,\n",
      "              random_state=None, reg_alpha=None, reg_lambda=None,\n",
      "              scale_pos_weight=None, subsample=None, tree_method=None,\n",
      "              validate_parameters=None, verbosity=None), clf__colsample_bytree=0.4, clf__eval_metric=logloss, clf__gamma=1, clf__learning_rate=0.1, clf__max_depth=7, clf__min_child_weight=1, clf__n_estimators=210, clf__objective=binary:logistic, clf__subsample=0.9007190934314233, clf__use_label_encoder=False, score=0.762, total=   1.3s\n",
      "[CV] clf=XGBClassifier(base_score=None, booster=None, colsample_bylevel=None,\n",
      "              colsample_bynode=None, colsample_bytree=None, gamma=None,\n",
      "              gpu_id=None, importance_type='gain', interaction_constraints=None,\n",
      "              learning_rate=None, max_delta_step=None, max_depth=None,\n",
      "              min_child_weight=None, missing=nan, monotone_constraints=None,\n",
      "              n_estimators=100, n_jobs=None, num_parallel_tree=None,\n",
      "              random_state=None, reg_alpha=None, reg_lambda=None,\n",
      "              scale_pos_weight=None, subsample=None, tree_method=None,\n",
      "              validate_parameters=None, verbosity=None), clf__colsample_bytree=0.4, clf__eval_metric=logloss, clf__gamma=5, clf__learning_rate=0.1, clf__max_depth=3, clf__min_child_weight=1, clf__n_estimators=360, clf__objective=binary:logistic, clf__subsample=0.9007190934314233, clf__use_label_encoder=False \n"
     ]
    },
    {
     "name": "stderr",
     "output_type": "stream",
     "text": [
      "2021-09-01 05:57:37.668773 INFO: Hard mode for the ModifiedColumnTransformer set to True: The initial features are going to be enforced during transformation and fit steps\n",
      "is_categorical is deprecated and will be removed in a future version.  Use is_categorical_dtype instead\n"
     ]
    },
    {
     "name": "stdout",
     "output_type": "stream",
     "text": [
      "[CV]  clf=XGBClassifier(base_score=None, booster=None, colsample_bylevel=None,\n",
      "              colsample_bynode=None, colsample_bytree=None, gamma=None,\n",
      "              gpu_id=None, importance_type='gain', interaction_constraints=None,\n",
      "              learning_rate=None, max_delta_step=None, max_depth=None,\n",
      "              min_child_weight=None, missing=nan, monotone_constraints=None,\n",
      "              n_estimators=100, n_jobs=None, num_parallel_tree=None,\n",
      "              random_state=None, reg_alpha=None, reg_lambda=None,\n",
      "              scale_pos_weight=None, subsample=None, tree_method=None,\n",
      "              validate_parameters=None, verbosity=None), clf__colsample_bytree=0.4, clf__eval_metric=logloss, clf__gamma=5, clf__learning_rate=0.1, clf__max_depth=3, clf__min_child_weight=1, clf__n_estimators=360, clf__objective=binary:logistic, clf__subsample=0.9007190934314233, clf__use_label_encoder=False, score=0.491, total=   1.2s\n",
      "[CV] clf=XGBClassifier(base_score=None, booster=None, colsample_bylevel=None,\n",
      "              colsample_bynode=None, colsample_bytree=None, gamma=None,\n",
      "              gpu_id=None, importance_type='gain', interaction_constraints=None,\n",
      "              learning_rate=None, max_delta_step=None, max_depth=None,\n",
      "              min_child_weight=None, missing=nan, monotone_constraints=None,\n",
      "              n_estimators=100, n_jobs=None, num_parallel_tree=None,\n",
      "              random_state=None, reg_alpha=None, reg_lambda=None,\n",
      "              scale_pos_weight=None, subsample=None, tree_method=None,\n",
      "              validate_parameters=None, verbosity=None), clf__colsample_bytree=0.4, clf__eval_metric=logloss, clf__gamma=5, clf__learning_rate=0.1, clf__max_depth=3, clf__min_child_weight=1, clf__n_estimators=360, clf__objective=binary:logistic, clf__subsample=0.9007190934314233, clf__use_label_encoder=False \n"
     ]
    },
    {
     "name": "stderr",
     "output_type": "stream",
     "text": [
      "2021-09-01 05:57:38.826858 INFO: Hard mode for the ModifiedColumnTransformer set to True: The initial features are going to be enforced during transformation and fit steps\n",
      "is_categorical is deprecated and will be removed in a future version.  Use is_categorical_dtype instead\n"
     ]
    },
    {
     "name": "stdout",
     "output_type": "stream",
     "text": [
      "[CV]  clf=XGBClassifier(base_score=None, booster=None, colsample_bylevel=None,\n",
      "              colsample_bynode=None, colsample_bytree=None, gamma=None,\n",
      "              gpu_id=None, importance_type='gain', interaction_constraints=None,\n",
      "              learning_rate=None, max_delta_step=None, max_depth=None,\n",
      "              min_child_weight=None, missing=nan, monotone_constraints=None,\n",
      "              n_estimators=100, n_jobs=None, num_parallel_tree=None,\n",
      "              random_state=None, reg_alpha=None, reg_lambda=None,\n",
      "              scale_pos_weight=None, subsample=None, tree_method=None,\n",
      "              validate_parameters=None, verbosity=None), clf__colsample_bytree=0.4, clf__eval_metric=logloss, clf__gamma=5, clf__learning_rate=0.1, clf__max_depth=3, clf__min_child_weight=1, clf__n_estimators=360, clf__objective=binary:logistic, clf__subsample=0.9007190934314233, clf__use_label_encoder=False, score=0.380, total=   1.2s\n",
      "[CV] clf=XGBClassifier(base_score=None, booster=None, colsample_bylevel=None,\n",
      "              colsample_bynode=None, colsample_bytree=None, gamma=None,\n",
      "              gpu_id=None, importance_type='gain', interaction_constraints=None,\n",
      "              learning_rate=None, max_delta_step=None, max_depth=None,\n",
      "              min_child_weight=None, missing=nan, monotone_constraints=None,\n",
      "              n_estimators=100, n_jobs=None, num_parallel_tree=None,\n",
      "              random_state=None, reg_alpha=None, reg_lambda=None,\n",
      "              scale_pos_weight=None, subsample=None, tree_method=None,\n",
      "              validate_parameters=None, verbosity=None), clf__colsample_bytree=0.4, clf__eval_metric=logloss, clf__gamma=5, clf__learning_rate=0.1, clf__max_depth=3, clf__min_child_weight=1, clf__n_estimators=360, clf__objective=binary:logistic, clf__subsample=0.9007190934314233, clf__use_label_encoder=False \n"
     ]
    },
    {
     "name": "stderr",
     "output_type": "stream",
     "text": [
      "2021-09-01 05:57:39.995569 INFO: Hard mode for the ModifiedColumnTransformer set to True: The initial features are going to be enforced during transformation and fit steps\n",
      "is_categorical is deprecated and will be removed in a future version.  Use is_categorical_dtype instead\n"
     ]
    },
    {
     "name": "stdout",
     "output_type": "stream",
     "text": [
      "[CV]  clf=XGBClassifier(base_score=None, booster=None, colsample_bylevel=None,\n",
      "              colsample_bynode=None, colsample_bytree=None, gamma=None,\n",
      "              gpu_id=None, importance_type='gain', interaction_constraints=None,\n",
      "              learning_rate=None, max_delta_step=None, max_depth=None,\n",
      "              min_child_weight=None, missing=nan, monotone_constraints=None,\n",
      "              n_estimators=100, n_jobs=None, num_parallel_tree=None,\n",
      "              random_state=None, reg_alpha=None, reg_lambda=None,\n",
      "              scale_pos_weight=None, subsample=None, tree_method=None,\n",
      "              validate_parameters=None, verbosity=None), clf__colsample_bytree=0.4, clf__eval_metric=logloss, clf__gamma=5, clf__learning_rate=0.1, clf__max_depth=3, clf__min_child_weight=1, clf__n_estimators=360, clf__objective=binary:logistic, clf__subsample=0.9007190934314233, clf__use_label_encoder=False, score=0.394, total=   1.1s\n",
      "[CV] clf=LGBMClassifier(), clf__colsample_bytree=0.5731341767005942, clf__min_child_samples=269, clf__min_child_weight=0.01, clf__num_leaves=49, clf__reg_alpha=10, clf__reg_lambda=5, clf__subsample=0.40181578955992386 \n"
     ]
    },
    {
     "name": "stderr",
     "output_type": "stream",
     "text": [
      "2021-09-01 05:57:41.149094 INFO: Hard mode for the ModifiedColumnTransformer set to True: The initial features are going to be enforced during transformation and fit steps\n",
      "is_categorical is deprecated and will be removed in a future version.  Use is_categorical_dtype instead\n"
     ]
    },
    {
     "name": "stdout",
     "output_type": "stream",
     "text": [
      "[CV]  clf=LGBMClassifier(), clf__colsample_bytree=0.5731341767005942, clf__min_child_samples=269, clf__min_child_weight=0.01, clf__num_leaves=49, clf__reg_alpha=10, clf__reg_lambda=5, clf__subsample=0.40181578955992386, score=0.157, total=   0.4s\n",
      "[CV] clf=LGBMClassifier(), clf__colsample_bytree=0.5731341767005942, clf__min_child_samples=269, clf__min_child_weight=0.01, clf__num_leaves=49, clf__reg_alpha=10, clf__reg_lambda=5, clf__subsample=0.40181578955992386 \n"
     ]
    },
    {
     "name": "stderr",
     "output_type": "stream",
     "text": [
      "2021-09-01 05:57:41.564899 INFO: Hard mode for the ModifiedColumnTransformer set to True: The initial features are going to be enforced during transformation and fit steps\n",
      "is_categorical is deprecated and will be removed in a future version.  Use is_categorical_dtype instead\n"
     ]
    },
    {
     "name": "stdout",
     "output_type": "stream",
     "text": [
      "[CV]  clf=LGBMClassifier(), clf__colsample_bytree=0.5731341767005942, clf__min_child_samples=269, clf__min_child_weight=0.01, clf__num_leaves=49, clf__reg_alpha=10, clf__reg_lambda=5, clf__subsample=0.40181578955992386, score=0.139, total=   0.4s\n",
      "[CV] clf=LGBMClassifier(), clf__colsample_bytree=0.5731341767005942, clf__min_child_samples=269, clf__min_child_weight=0.01, clf__num_leaves=49, clf__reg_alpha=10, clf__reg_lambda=5, clf__subsample=0.40181578955992386 \n"
     ]
    },
    {
     "name": "stderr",
     "output_type": "stream",
     "text": [
      "2021-09-01 05:57:41.977824 INFO: Hard mode for the ModifiedColumnTransformer set to True: The initial features are going to be enforced during transformation and fit steps\n",
      "is_categorical is deprecated and will be removed in a future version.  Use is_categorical_dtype instead\n"
     ]
    },
    {
     "name": "stdout",
     "output_type": "stream",
     "text": [
      "[CV]  clf=LGBMClassifier(), clf__colsample_bytree=0.5731341767005942, clf__min_child_samples=269, clf__min_child_weight=0.01, clf__num_leaves=49, clf__reg_alpha=10, clf__reg_lambda=5, clf__subsample=0.40181578955992386, score=0.149, total=   0.4s\n",
      "[CV] clf=RandomForestClassifier(), clf__bootstrap=True, clf__max_depth=50, clf__max_features=auto, clf__min_samples_leaf=4, clf__min_samples_split=2, clf__n_estimators=100 \n"
     ]
    },
    {
     "name": "stderr",
     "output_type": "stream",
     "text": [
      "2021-09-01 05:57:42.392408 INFO: Hard mode for the ModifiedColumnTransformer set to True: The initial features are going to be enforced during transformation and fit steps\n",
      "is_categorical is deprecated and will be removed in a future version.  Use is_categorical_dtype instead\n"
     ]
    },
    {
     "name": "stdout",
     "output_type": "stream",
     "text": [
      "[CV]  clf=RandomForestClassifier(), clf__bootstrap=True, clf__max_depth=50, clf__max_features=auto, clf__min_samples_leaf=4, clf__min_samples_split=2, clf__n_estimators=100, score=0.825, total=   1.4s\n",
      "[CV] clf=RandomForestClassifier(), clf__bootstrap=True, clf__max_depth=50, clf__max_features=auto, clf__min_samples_leaf=4, clf__min_samples_split=2, clf__n_estimators=100 \n"
     ]
    },
    {
     "name": "stderr",
     "output_type": "stream",
     "text": [
      "2021-09-01 05:57:43.770622 INFO: Hard mode for the ModifiedColumnTransformer set to True: The initial features are going to be enforced during transformation and fit steps\n",
      "is_categorical is deprecated and will be removed in a future version.  Use is_categorical_dtype instead\n"
     ]
    },
    {
     "name": "stdout",
     "output_type": "stream",
     "text": [
      "[CV]  clf=RandomForestClassifier(), clf__bootstrap=True, clf__max_depth=50, clf__max_features=auto, clf__min_samples_leaf=4, clf__min_samples_split=2, clf__n_estimators=100, score=0.718, total=   1.3s\n",
      "[CV] clf=RandomForestClassifier(), clf__bootstrap=True, clf__max_depth=50, clf__max_features=auto, clf__min_samples_leaf=4, clf__min_samples_split=2, clf__n_estimators=100 \n"
     ]
    },
    {
     "name": "stderr",
     "output_type": "stream",
     "text": [
      "2021-09-01 05:57:45.110020 INFO: Hard mode for the ModifiedColumnTransformer set to True: The initial features are going to be enforced during transformation and fit steps\n",
      "is_categorical is deprecated and will be removed in a future version.  Use is_categorical_dtype instead\n"
     ]
    },
    {
     "name": "stdout",
     "output_type": "stream",
     "text": [
      "[CV]  clf=RandomForestClassifier(), clf__bootstrap=True, clf__max_depth=50, clf__max_features=auto, clf__min_samples_leaf=4, clf__min_samples_split=2, clf__n_estimators=100, score=0.779, total=   1.3s\n",
      "[CV] clf=LGBMClassifier(), clf__colsample_bytree=0.5731341767005942, clf__min_child_samples=373, clf__min_child_weight=0.1, clf__num_leaves=30, clf__reg_alpha=0.1, clf__reg_lambda=0.1, clf__subsample=0.40181578955992386 \n"
     ]
    },
    {
     "name": "stderr",
     "output_type": "stream",
     "text": [
      "2021-09-01 05:57:46.405323 INFO: Hard mode for the ModifiedColumnTransformer set to True: The initial features are going to be enforced during transformation and fit steps\n",
      "is_categorical is deprecated and will be removed in a future version.  Use is_categorical_dtype instead\n"
     ]
    },
    {
     "name": "stdout",
     "output_type": "stream",
     "text": [
      "[CV]  clf=LGBMClassifier(), clf__colsample_bytree=0.5731341767005942, clf__min_child_samples=373, clf__min_child_weight=0.1, clf__num_leaves=30, clf__reg_alpha=0.1, clf__reg_lambda=0.1, clf__subsample=0.40181578955992386, score=0.683, total=   0.4s\n",
      "[CV] clf=LGBMClassifier(), clf__colsample_bytree=0.5731341767005942, clf__min_child_samples=373, clf__min_child_weight=0.1, clf__num_leaves=30, clf__reg_alpha=0.1, clf__reg_lambda=0.1, clf__subsample=0.40181578955992386 \n"
     ]
    },
    {
     "name": "stderr",
     "output_type": "stream",
     "text": [
      "2021-09-01 05:57:46.824325 INFO: Hard mode for the ModifiedColumnTransformer set to True: The initial features are going to be enforced during transformation and fit steps\n",
      "is_categorical is deprecated and will be removed in a future version.  Use is_categorical_dtype instead\n"
     ]
    },
    {
     "name": "stdout",
     "output_type": "stream",
     "text": [
      "[CV]  clf=LGBMClassifier(), clf__colsample_bytree=0.5731341767005942, clf__min_child_samples=373, clf__min_child_weight=0.1, clf__num_leaves=30, clf__reg_alpha=0.1, clf__reg_lambda=0.1, clf__subsample=0.40181578955992386, score=0.616, total=   0.5s\n",
      "[CV] clf=LGBMClassifier(), clf__colsample_bytree=0.5731341767005942, clf__min_child_samples=373, clf__min_child_weight=0.1, clf__num_leaves=30, clf__reg_alpha=0.1, clf__reg_lambda=0.1, clf__subsample=0.40181578955992386 \n"
     ]
    },
    {
     "name": "stderr",
     "output_type": "stream",
     "text": [
      "2021-09-01 05:57:47.284627 INFO: Hard mode for the ModifiedColumnTransformer set to True: The initial features are going to be enforced during transformation and fit steps\n",
      "is_categorical is deprecated and will be removed in a future version.  Use is_categorical_dtype instead\n"
     ]
    },
    {
     "name": "stdout",
     "output_type": "stream",
     "text": [
      "[CV]  clf=LGBMClassifier(), clf__colsample_bytree=0.5731341767005942, clf__min_child_samples=373, clf__min_child_weight=0.1, clf__num_leaves=30, clf__reg_alpha=0.1, clf__reg_lambda=0.1, clf__subsample=0.40181578955992386, score=0.688, total=   0.5s\n",
      "[CV] clf=RandomForestClassifier(), clf__bootstrap=False, clf__max_depth=50, clf__max_features=sqrt, clf__min_samples_leaf=4, clf__min_samples_split=10, clf__n_estimators=500 \n"
     ]
    },
    {
     "name": "stderr",
     "output_type": "stream",
     "text": [
      "2021-09-01 05:57:47.747665 INFO: Hard mode for the ModifiedColumnTransformer set to True: The initial features are going to be enforced during transformation and fit steps\n",
      "is_categorical is deprecated and will be removed in a future version.  Use is_categorical_dtype instead\n"
     ]
    },
    {
     "name": "stdout",
     "output_type": "stream",
     "text": [
      "[CV]  clf=RandomForestClassifier(), clf__bootstrap=False, clf__max_depth=50, clf__max_features=sqrt, clf__min_samples_leaf=4, clf__min_samples_split=10, clf__n_estimators=500, score=0.853, total=   7.0s\n",
      "[CV] clf=RandomForestClassifier(), clf__bootstrap=False, clf__max_depth=50, clf__max_features=sqrt, clf__min_samples_leaf=4, clf__min_samples_split=10, clf__n_estimators=500 \n"
     ]
    },
    {
     "name": "stderr",
     "output_type": "stream",
     "text": [
      "2021-09-01 05:57:54.721850 INFO: Hard mode for the ModifiedColumnTransformer set to True: The initial features are going to be enforced during transformation and fit steps\n",
      "is_categorical is deprecated and will be removed in a future version.  Use is_categorical_dtype instead\n"
     ]
    },
    {
     "name": "stdout",
     "output_type": "stream",
     "text": [
      "[CV]  clf=RandomForestClassifier(), clf__bootstrap=False, clf__max_depth=50, clf__max_features=sqrt, clf__min_samples_leaf=4, clf__min_samples_split=10, clf__n_estimators=500, score=0.755, total=   6.8s\n",
      "[CV] clf=RandomForestClassifier(), clf__bootstrap=False, clf__max_depth=50, clf__max_features=sqrt, clf__min_samples_leaf=4, clf__min_samples_split=10, clf__n_estimators=500 \n"
     ]
    },
    {
     "name": "stderr",
     "output_type": "stream",
     "text": [
      "2021-09-01 05:58:01.484027 INFO: Hard mode for the ModifiedColumnTransformer set to True: The initial features are going to be enforced during transformation and fit steps\n",
      "is_categorical is deprecated and will be removed in a future version.  Use is_categorical_dtype instead\n"
     ]
    },
    {
     "name": "stdout",
     "output_type": "stream",
     "text": [
      "[CV]  clf=RandomForestClassifier(), clf__bootstrap=False, clf__max_depth=50, clf__max_features=sqrt, clf__min_samples_leaf=4, clf__min_samples_split=10, clf__n_estimators=500, score=0.826, total=   6.6s\n",
      "[CV] clf=RandomForestClassifier(), clf__bootstrap=False, clf__max_depth=30, clf__max_features=sqrt, clf__min_samples_leaf=1, clf__min_samples_split=5, clf__n_estimators=500 \n"
     ]
    },
    {
     "name": "stderr",
     "output_type": "stream",
     "text": [
      "2021-09-01 05:58:08.121486 INFO: Hard mode for the ModifiedColumnTransformer set to True: The initial features are going to be enforced during transformation and fit steps\n",
      "is_categorical is deprecated and will be removed in a future version.  Use is_categorical_dtype instead\n"
     ]
    },
    {
     "name": "stdout",
     "output_type": "stream",
     "text": [
      "[CV]  clf=RandomForestClassifier(), clf__bootstrap=False, clf__max_depth=30, clf__max_features=sqrt, clf__min_samples_leaf=1, clf__min_samples_split=5, clf__n_estimators=500, score=0.886, total=   6.9s\n",
      "[CV] clf=RandomForestClassifier(), clf__bootstrap=False, clf__max_depth=30, clf__max_features=sqrt, clf__min_samples_leaf=1, clf__min_samples_split=5, clf__n_estimators=500 \n"
     ]
    },
    {
     "name": "stderr",
     "output_type": "stream",
     "text": [
      "2021-09-01 05:58:15.035775 INFO: Hard mode for the ModifiedColumnTransformer set to True: The initial features are going to be enforced during transformation and fit steps\n",
      "is_categorical is deprecated and will be removed in a future version.  Use is_categorical_dtype instead\n"
     ]
    },
    {
     "name": "stdout",
     "output_type": "stream",
     "text": [
      "[CV]  clf=RandomForestClassifier(), clf__bootstrap=False, clf__max_depth=30, clf__max_features=sqrt, clf__min_samples_leaf=1, clf__min_samples_split=5, clf__n_estimators=500, score=0.811, total=   6.9s\n",
      "[CV] clf=RandomForestClassifier(), clf__bootstrap=False, clf__max_depth=30, clf__max_features=sqrt, clf__min_samples_leaf=1, clf__min_samples_split=5, clf__n_estimators=500 \n"
     ]
    },
    {
     "name": "stderr",
     "output_type": "stream",
     "text": [
      "2021-09-01 05:58:21.913299 INFO: Hard mode for the ModifiedColumnTransformer set to True: The initial features are going to be enforced during transformation and fit steps\n",
      "is_categorical is deprecated and will be removed in a future version.  Use is_categorical_dtype instead\n"
     ]
    },
    {
     "name": "stdout",
     "output_type": "stream",
     "text": [
      "[CV]  clf=RandomForestClassifier(), clf__bootstrap=False, clf__max_depth=30, clf__max_features=sqrt, clf__min_samples_leaf=1, clf__min_samples_split=5, clf__n_estimators=500, score=0.871, total=   6.6s\n",
      "[CV] clf=XGBClassifier(base_score=None, booster=None, colsample_bylevel=None,\n",
      "              colsample_bynode=None, colsample_bytree=None, gamma=None,\n",
      "              gpu_id=None, importance_type='gain', interaction_constraints=None,\n",
      "              learning_rate=None, max_delta_step=None, max_depth=None,\n",
      "              min_child_weight=None, missing=nan, monotone_constraints=None,\n",
      "              n_estimators=100, n_jobs=None, num_parallel_tree=None,\n",
      "              random_state=None, reg_alpha=None, reg_lambda=None,\n",
      "              scale_pos_weight=None, subsample=None, tree_method=None,\n",
      "              validate_parameters=None, verbosity=None), clf__colsample_bytree=0.4, clf__eval_metric=logloss, clf__gamma=1, clf__learning_rate=0.1, clf__max_depth=8, clf__min_child_weight=2, clf__n_estimators=350, clf__objective=binary:logistic, clf__subsample=0.9007190934314233, clf__use_label_encoder=False \n"
     ]
    },
    {
     "name": "stderr",
     "output_type": "stream",
     "text": [
      "2021-09-01 05:58:28.546308 INFO: Hard mode for the ModifiedColumnTransformer set to True: The initial features are going to be enforced during transformation and fit steps\n",
      "is_categorical is deprecated and will be removed in a future version.  Use is_categorical_dtype instead\n"
     ]
    },
    {
     "name": "stdout",
     "output_type": "stream",
     "text": [
      "[CV]  clf=XGBClassifier(base_score=None, booster=None, colsample_bylevel=None,\n",
      "              colsample_bynode=None, colsample_bytree=None, gamma=None,\n",
      "              gpu_id=None, importance_type='gain', interaction_constraints=None,\n",
      "              learning_rate=None, max_delta_step=None, max_depth=None,\n",
      "              min_child_weight=None, missing=nan, monotone_constraints=None,\n",
      "              n_estimators=100, n_jobs=None, num_parallel_tree=None,\n",
      "              random_state=None, reg_alpha=None, reg_lambda=None,\n",
      "              scale_pos_weight=None, subsample=None, tree_method=None,\n",
      "              validate_parameters=None, verbosity=None), clf__colsample_bytree=0.4, clf__eval_metric=logloss, clf__gamma=1, clf__learning_rate=0.1, clf__max_depth=8, clf__min_child_weight=2, clf__n_estimators=350, clf__objective=binary:logistic, clf__subsample=0.9007190934314233, clf__use_label_encoder=False, score=0.827, total=   1.9s\n",
      "[CV] clf=XGBClassifier(base_score=None, booster=None, colsample_bylevel=None,\n",
      "              colsample_bynode=None, colsample_bytree=None, gamma=None,\n",
      "              gpu_id=None, importance_type='gain', interaction_constraints=None,\n",
      "              learning_rate=None, max_delta_step=None, max_depth=None,\n",
      "              min_child_weight=None, missing=nan, monotone_constraints=None,\n",
      "              n_estimators=100, n_jobs=None, num_parallel_tree=None,\n",
      "              random_state=None, reg_alpha=None, reg_lambda=None,\n",
      "              scale_pos_weight=None, subsample=None, tree_method=None,\n",
      "              validate_parameters=None, verbosity=None), clf__colsample_bytree=0.4, clf__eval_metric=logloss, clf__gamma=1, clf__learning_rate=0.1, clf__max_depth=8, clf__min_child_weight=2, clf__n_estimators=350, clf__objective=binary:logistic, clf__subsample=0.9007190934314233, clf__use_label_encoder=False \n"
     ]
    },
    {
     "name": "stderr",
     "output_type": "stream",
     "text": [
      "2021-09-01 05:58:30.428869 INFO: Hard mode for the ModifiedColumnTransformer set to True: The initial features are going to be enforced during transformation and fit steps\n",
      "is_categorical is deprecated and will be removed in a future version.  Use is_categorical_dtype instead\n"
     ]
    },
    {
     "name": "stdout",
     "output_type": "stream",
     "text": [
      "[CV]  clf=XGBClassifier(base_score=None, booster=None, colsample_bylevel=None,\n",
      "              colsample_bynode=None, colsample_bytree=None, gamma=None,\n",
      "              gpu_id=None, importance_type='gain', interaction_constraints=None,\n",
      "              learning_rate=None, max_delta_step=None, max_depth=None,\n",
      "              min_child_weight=None, missing=nan, monotone_constraints=None,\n",
      "              n_estimators=100, n_jobs=None, num_parallel_tree=None,\n",
      "              random_state=None, reg_alpha=None, reg_lambda=None,\n",
      "              scale_pos_weight=None, subsample=None, tree_method=None,\n",
      "              validate_parameters=None, verbosity=None), clf__colsample_bytree=0.4, clf__eval_metric=logloss, clf__gamma=1, clf__learning_rate=0.1, clf__max_depth=8, clf__min_child_weight=2, clf__n_estimators=350, clf__objective=binary:logistic, clf__subsample=0.9007190934314233, clf__use_label_encoder=False, score=0.723, total=   2.0s\n",
      "[CV] clf=XGBClassifier(base_score=None, booster=None, colsample_bylevel=None,\n",
      "              colsample_bynode=None, colsample_bytree=None, gamma=None,\n",
      "              gpu_id=None, importance_type='gain', interaction_constraints=None,\n",
      "              learning_rate=None, max_delta_step=None, max_depth=None,\n",
      "              min_child_weight=None, missing=nan, monotone_constraints=None,\n",
      "              n_estimators=100, n_jobs=None, num_parallel_tree=None,\n",
      "              random_state=None, reg_alpha=None, reg_lambda=None,\n",
      "              scale_pos_weight=None, subsample=None, tree_method=None,\n",
      "              validate_parameters=None, verbosity=None), clf__colsample_bytree=0.4, clf__eval_metric=logloss, clf__gamma=1, clf__learning_rate=0.1, clf__max_depth=8, clf__min_child_weight=2, clf__n_estimators=350, clf__objective=binary:logistic, clf__subsample=0.9007190934314233, clf__use_label_encoder=False \n"
     ]
    },
    {
     "name": "stderr",
     "output_type": "stream",
     "text": [
      "2021-09-01 05:58:32.405834 INFO: Hard mode for the ModifiedColumnTransformer set to True: The initial features are going to be enforced during transformation and fit steps\n",
      "is_categorical is deprecated and will be removed in a future version.  Use is_categorical_dtype instead\n"
     ]
    },
    {
     "name": "stdout",
     "output_type": "stream",
     "text": [
      "[CV]  clf=XGBClassifier(base_score=None, booster=None, colsample_bylevel=None,\n",
      "              colsample_bynode=None, colsample_bytree=None, gamma=None,\n",
      "              gpu_id=None, importance_type='gain', interaction_constraints=None,\n",
      "              learning_rate=None, max_delta_step=None, max_depth=None,\n",
      "              min_child_weight=None, missing=nan, monotone_constraints=None,\n",
      "              n_estimators=100, n_jobs=None, num_parallel_tree=None,\n",
      "              random_state=None, reg_alpha=None, reg_lambda=None,\n",
      "              scale_pos_weight=None, subsample=None, tree_method=None,\n",
      "              validate_parameters=None, verbosity=None), clf__colsample_bytree=0.4, clf__eval_metric=logloss, clf__gamma=1, clf__learning_rate=0.1, clf__max_depth=8, clf__min_child_weight=2, clf__n_estimators=350, clf__objective=binary:logistic, clf__subsample=0.9007190934314233, clf__use_label_encoder=False, score=0.806, total=   1.9s\n",
      "[CV] clf=XGBClassifier(base_score=None, booster=None, colsample_bylevel=None,\n",
      "              colsample_bynode=None, colsample_bytree=None, gamma=None,\n",
      "              gpu_id=None, importance_type='gain', interaction_constraints=None,\n",
      "              learning_rate=None, max_delta_step=None, max_depth=None,\n",
      "              min_child_weight=None, missing=nan, monotone_constraints=None,\n",
      "              n_estimators=100, n_jobs=None, num_parallel_tree=None,\n",
      "              random_state=None, reg_alpha=None, reg_lambda=None,\n",
      "              scale_pos_weight=None, subsample=None, tree_method=None,\n",
      "              validate_parameters=None, verbosity=None), clf__colsample_bytree=0.4, clf__eval_metric=logloss, clf__gamma=2, clf__learning_rate=0.3, clf__max_depth=8, clf__min_child_weight=7, clf__n_estimators=490, clf__objective=binary:logistic, clf__subsample=0.9007190934314233, clf__use_label_encoder=False \n"
     ]
    },
    {
     "name": "stderr",
     "output_type": "stream",
     "text": [
      "2021-09-01 05:58:34.353756 INFO: Hard mode for the ModifiedColumnTransformer set to True: The initial features are going to be enforced during transformation and fit steps\n",
      "is_categorical is deprecated and will be removed in a future version.  Use is_categorical_dtype instead\n"
     ]
    },
    {
     "name": "stdout",
     "output_type": "stream",
     "text": [
      "[CV]  clf=XGBClassifier(base_score=None, booster=None, colsample_bylevel=None,\n",
      "              colsample_bynode=None, colsample_bytree=None, gamma=None,\n",
      "              gpu_id=None, importance_type='gain', interaction_constraints=None,\n",
      "              learning_rate=None, max_delta_step=None, max_depth=None,\n",
      "              min_child_weight=None, missing=nan, monotone_constraints=None,\n",
      "              n_estimators=100, n_jobs=None, num_parallel_tree=None,\n",
      "              random_state=None, reg_alpha=None, reg_lambda=None,\n",
      "              scale_pos_weight=None, subsample=None, tree_method=None,\n",
      "              validate_parameters=None, verbosity=None), clf__colsample_bytree=0.4, clf__eval_metric=logloss, clf__gamma=2, clf__learning_rate=0.3, clf__max_depth=8, clf__min_child_weight=7, clf__n_estimators=490, clf__objective=binary:logistic, clf__subsample=0.9007190934314233, clf__use_label_encoder=False, score=0.739, total=   2.3s\n",
      "[CV] clf=XGBClassifier(base_score=None, booster=None, colsample_bylevel=None,\n",
      "              colsample_bynode=None, colsample_bytree=None, gamma=None,\n",
      "              gpu_id=None, importance_type='gain', interaction_constraints=None,\n",
      "              learning_rate=None, max_delta_step=None, max_depth=None,\n",
      "              min_child_weight=None, missing=nan, monotone_constraints=None,\n",
      "              n_estimators=100, n_jobs=None, num_parallel_tree=None,\n",
      "              random_state=None, reg_alpha=None, reg_lambda=None,\n",
      "              scale_pos_weight=None, subsample=None, tree_method=None,\n",
      "              validate_parameters=None, verbosity=None), clf__colsample_bytree=0.4, clf__eval_metric=logloss, clf__gamma=2, clf__learning_rate=0.3, clf__max_depth=8, clf__min_child_weight=7, clf__n_estimators=490, clf__objective=binary:logistic, clf__subsample=0.9007190934314233, clf__use_label_encoder=False \n"
     ]
    },
    {
     "name": "stderr",
     "output_type": "stream",
     "text": [
      "2021-09-01 05:58:36.666292 INFO: Hard mode for the ModifiedColumnTransformer set to True: The initial features are going to be enforced during transformation and fit steps\n",
      "is_categorical is deprecated and will be removed in a future version.  Use is_categorical_dtype instead\n"
     ]
    },
    {
     "name": "stdout",
     "output_type": "stream",
     "text": [
      "[CV]  clf=XGBClassifier(base_score=None, booster=None, colsample_bylevel=None,\n",
      "              colsample_bynode=None, colsample_bytree=None, gamma=None,\n",
      "              gpu_id=None, importance_type='gain', interaction_constraints=None,\n",
      "              learning_rate=None, max_delta_step=None, max_depth=None,\n",
      "              min_child_weight=None, missing=nan, monotone_constraints=None,\n",
      "              n_estimators=100, n_jobs=None, num_parallel_tree=None,\n",
      "              random_state=None, reg_alpha=None, reg_lambda=None,\n",
      "              scale_pos_weight=None, subsample=None, tree_method=None,\n",
      "              validate_parameters=None, verbosity=None), clf__colsample_bytree=0.4, clf__eval_metric=logloss, clf__gamma=2, clf__learning_rate=0.3, clf__max_depth=8, clf__min_child_weight=7, clf__n_estimators=490, clf__objective=binary:logistic, clf__subsample=0.9007190934314233, clf__use_label_encoder=False, score=0.657, total=   2.3s\n",
      "[CV] clf=XGBClassifier(base_score=None, booster=None, colsample_bylevel=None,\n",
      "              colsample_bynode=None, colsample_bytree=None, gamma=None,\n",
      "              gpu_id=None, importance_type='gain', interaction_constraints=None,\n",
      "              learning_rate=None, max_delta_step=None, max_depth=None,\n",
      "              min_child_weight=None, missing=nan, monotone_constraints=None,\n",
      "              n_estimators=100, n_jobs=None, num_parallel_tree=None,\n",
      "              random_state=None, reg_alpha=None, reg_lambda=None,\n",
      "              scale_pos_weight=None, subsample=None, tree_method=None,\n",
      "              validate_parameters=None, verbosity=None), clf__colsample_bytree=0.4, clf__eval_metric=logloss, clf__gamma=2, clf__learning_rate=0.3, clf__max_depth=8, clf__min_child_weight=7, clf__n_estimators=490, clf__objective=binary:logistic, clf__subsample=0.9007190934314233, clf__use_label_encoder=False \n"
     ]
    },
    {
     "name": "stderr",
     "output_type": "stream",
     "text": [
      "2021-09-01 05:58:39.009153 INFO: Hard mode for the ModifiedColumnTransformer set to True: The initial features are going to be enforced during transformation and fit steps\n",
      "is_categorical is deprecated and will be removed in a future version.  Use is_categorical_dtype instead\n"
     ]
    },
    {
     "name": "stdout",
     "output_type": "stream",
     "text": [
      "[CV]  clf=XGBClassifier(base_score=None, booster=None, colsample_bylevel=None,\n",
      "              colsample_bynode=None, colsample_bytree=None, gamma=None,\n",
      "              gpu_id=None, importance_type='gain', interaction_constraints=None,\n",
      "              learning_rate=None, max_delta_step=None, max_depth=None,\n",
      "              min_child_weight=None, missing=nan, monotone_constraints=None,\n",
      "              n_estimators=100, n_jobs=None, num_parallel_tree=None,\n",
      "              random_state=None, reg_alpha=None, reg_lambda=None,\n",
      "              scale_pos_weight=None, subsample=None, tree_method=None,\n",
      "              validate_parameters=None, verbosity=None), clf__colsample_bytree=0.4, clf__eval_metric=logloss, clf__gamma=2, clf__learning_rate=0.3, clf__max_depth=8, clf__min_child_weight=7, clf__n_estimators=490, clf__objective=binary:logistic, clf__subsample=0.9007190934314233, clf__use_label_encoder=False, score=0.702, total=   2.4s\n",
      "[CV] clf=RandomForestClassifier(), clf__bootstrap=False, clf__max_depth=20, clf__max_features=auto, clf__min_samples_leaf=1, clf__min_samples_split=5, clf__n_estimators=100 \n"
     ]
    },
    {
     "name": "stderr",
     "output_type": "stream",
     "text": [
      "2021-09-01 05:58:41.405470 INFO: Hard mode for the ModifiedColumnTransformer set to True: The initial features are going to be enforced during transformation and fit steps\n",
      "is_categorical is deprecated and will be removed in a future version.  Use is_categorical_dtype instead\n"
     ]
    },
    {
     "name": "stdout",
     "output_type": "stream",
     "text": [
      "[CV]  clf=RandomForestClassifier(), clf__bootstrap=False, clf__max_depth=20, clf__max_features=auto, clf__min_samples_leaf=1, clf__min_samples_split=5, clf__n_estimators=100, score=0.884, total=   1.8s\n",
      "[CV] clf=RandomForestClassifier(), clf__bootstrap=False, clf__max_depth=20, clf__max_features=auto, clf__min_samples_leaf=1, clf__min_samples_split=5, clf__n_estimators=100 \n"
     ]
    },
    {
     "name": "stderr",
     "output_type": "stream",
     "text": [
      "2021-09-01 05:58:43.204059 INFO: Hard mode for the ModifiedColumnTransformer set to True: The initial features are going to be enforced during transformation and fit steps\n",
      "is_categorical is deprecated and will be removed in a future version.  Use is_categorical_dtype instead\n"
     ]
    },
    {
     "name": "stdout",
     "output_type": "stream",
     "text": [
      "[CV]  clf=RandomForestClassifier(), clf__bootstrap=False, clf__max_depth=20, clf__max_features=auto, clf__min_samples_leaf=1, clf__min_samples_split=5, clf__n_estimators=100, score=0.805, total=   1.6s\n",
      "[CV] clf=RandomForestClassifier(), clf__bootstrap=False, clf__max_depth=20, clf__max_features=auto, clf__min_samples_leaf=1, clf__min_samples_split=5, clf__n_estimators=100 \n"
     ]
    },
    {
     "name": "stderr",
     "output_type": "stream",
     "text": [
      "2021-09-01 05:58:44.831387 INFO: Hard mode for the ModifiedColumnTransformer set to True: The initial features are going to be enforced during transformation and fit steps\n",
      "is_categorical is deprecated and will be removed in a future version.  Use is_categorical_dtype instead\n"
     ]
    },
    {
     "name": "stdout",
     "output_type": "stream",
     "text": [
      "[CV]  clf=RandomForestClassifier(), clf__bootstrap=False, clf__max_depth=20, clf__max_features=auto, clf__min_samples_leaf=1, clf__min_samples_split=5, clf__n_estimators=100, score=0.862, total=   1.6s\n",
      "[CV] clf=RandomForestClassifier(), clf__bootstrap=True, clf__max_depth=10, clf__max_features=auto, clf__min_samples_leaf=4, clf__min_samples_split=2, clf__n_estimators=500 \n"
     ]
    },
    {
     "name": "stderr",
     "output_type": "stream",
     "text": [
      "2021-09-01 05:58:46.415357 INFO: Hard mode for the ModifiedColumnTransformer set to True: The initial features are going to be enforced during transformation and fit steps\n",
      "is_categorical is deprecated and will be removed in a future version.  Use is_categorical_dtype instead\n"
     ]
    },
    {
     "name": "stdout",
     "output_type": "stream",
     "text": [
      "[CV]  clf=RandomForestClassifier(), clf__bootstrap=True, clf__max_depth=10, clf__max_features=auto, clf__min_samples_leaf=4, clf__min_samples_split=2, clf__n_estimators=500, score=0.648, total=   5.3s\n",
      "[CV] clf=RandomForestClassifier(), clf__bootstrap=True, clf__max_depth=10, clf__max_features=auto, clf__min_samples_leaf=4, clf__min_samples_split=2, clf__n_estimators=500 \n"
     ]
    },
    {
     "name": "stderr",
     "output_type": "stream",
     "text": [
      "2021-09-01 05:58:51.684865 INFO: Hard mode for the ModifiedColumnTransformer set to True: The initial features are going to be enforced during transformation and fit steps\n",
      "is_categorical is deprecated and will be removed in a future version.  Use is_categorical_dtype instead\n"
     ]
    },
    {
     "name": "stdout",
     "output_type": "stream",
     "text": [
      "[CV]  clf=RandomForestClassifier(), clf__bootstrap=True, clf__max_depth=10, clf__max_features=auto, clf__min_samples_leaf=4, clf__min_samples_split=2, clf__n_estimators=500, score=0.570, total=   5.3s\n",
      "[CV] clf=RandomForestClassifier(), clf__bootstrap=True, clf__max_depth=10, clf__max_features=auto, clf__min_samples_leaf=4, clf__min_samples_split=2, clf__n_estimators=500 \n"
     ]
    },
    {
     "name": "stderr",
     "output_type": "stream",
     "text": [
      "2021-09-01 05:58:57.035595 INFO: Hard mode for the ModifiedColumnTransformer set to True: The initial features are going to be enforced during transformation and fit steps\n",
      "is_categorical is deprecated and will be removed in a future version.  Use is_categorical_dtype instead\n"
     ]
    },
    {
     "name": "stdout",
     "output_type": "stream",
     "text": [
      "[CV]  clf=RandomForestClassifier(), clf__bootstrap=True, clf__max_depth=10, clf__max_features=auto, clf__min_samples_leaf=4, clf__min_samples_split=2, clf__n_estimators=500, score=0.649, total=   4.9s\n",
      "[CV] clf=RandomForestClassifier(), clf__bootstrap=False, clf__max_depth=80, clf__max_features=sqrt, clf__min_samples_leaf=4, clf__min_samples_split=10, clf__n_estimators=400 \n"
     ]
    },
    {
     "name": "stderr",
     "output_type": "stream",
     "text": [
      "2021-09-01 05:59:01.902881 INFO: Hard mode for the ModifiedColumnTransformer set to True: The initial features are going to be enforced during transformation and fit steps\n",
      "is_categorical is deprecated and will be removed in a future version.  Use is_categorical_dtype instead\n"
     ]
    },
    {
     "name": "stdout",
     "output_type": "stream",
     "text": [
      "[CV]  clf=RandomForestClassifier(), clf__bootstrap=False, clf__max_depth=80, clf__max_features=sqrt, clf__min_samples_leaf=4, clf__min_samples_split=10, clf__n_estimators=400, score=0.852, total=   5.5s\n",
      "[CV] clf=RandomForestClassifier(), clf__bootstrap=False, clf__max_depth=80, clf__max_features=sqrt, clf__min_samples_leaf=4, clf__min_samples_split=10, clf__n_estimators=400 \n"
     ]
    },
    {
     "name": "stderr",
     "output_type": "stream",
     "text": [
      "2021-09-01 05:59:07.394221 INFO: Hard mode for the ModifiedColumnTransformer set to True: The initial features are going to be enforced during transformation and fit steps\n",
      "is_categorical is deprecated and will be removed in a future version.  Use is_categorical_dtype instead\n"
     ]
    },
    {
     "name": "stdout",
     "output_type": "stream",
     "text": [
      "[CV]  clf=RandomForestClassifier(), clf__bootstrap=False, clf__max_depth=80, clf__max_features=sqrt, clf__min_samples_leaf=4, clf__min_samples_split=10, clf__n_estimators=400, score=0.754, total=   5.5s\n",
      "[CV] clf=RandomForestClassifier(), clf__bootstrap=False, clf__max_depth=80, clf__max_features=sqrt, clf__min_samples_leaf=4, clf__min_samples_split=10, clf__n_estimators=400 \n"
     ]
    },
    {
     "name": "stderr",
     "output_type": "stream",
     "text": [
      "2021-09-01 05:59:12.931749 INFO: Hard mode for the ModifiedColumnTransformer set to True: The initial features are going to be enforced during transformation and fit steps\n",
      "is_categorical is deprecated and will be removed in a future version.  Use is_categorical_dtype instead\n"
     ]
    },
    {
     "name": "stdout",
     "output_type": "stream",
     "text": [
      "[CV]  clf=RandomForestClassifier(), clf__bootstrap=False, clf__max_depth=80, clf__max_features=sqrt, clf__min_samples_leaf=4, clf__min_samples_split=10, clf__n_estimators=400, score=0.828, total=   5.4s\n",
      "[CV] clf=RandomForestClassifier(), clf__bootstrap=False, clf__max_depth=30, clf__max_features=auto, clf__min_samples_leaf=1, clf__min_samples_split=10, clf__n_estimators=100 \n"
     ]
    },
    {
     "name": "stderr",
     "output_type": "stream",
     "text": [
      "2021-09-01 05:59:18.312656 INFO: Hard mode for the ModifiedColumnTransformer set to True: The initial features are going to be enforced during transformation and fit steps\n",
      "is_categorical is deprecated and will be removed in a future version.  Use is_categorical_dtype instead\n"
     ]
    },
    {
     "name": "stdout",
     "output_type": "stream",
     "text": [
      "[CV]  clf=RandomForestClassifier(), clf__bootstrap=False, clf__max_depth=30, clf__max_features=auto, clf__min_samples_leaf=1, clf__min_samples_split=10, clf__n_estimators=100, score=0.884, total=   1.6s\n",
      "[CV] clf=RandomForestClassifier(), clf__bootstrap=False, clf__max_depth=30, clf__max_features=auto, clf__min_samples_leaf=1, clf__min_samples_split=10, clf__n_estimators=100 \n"
     ]
    },
    {
     "name": "stderr",
     "output_type": "stream",
     "text": [
      "2021-09-01 05:59:19.945236 INFO: Hard mode for the ModifiedColumnTransformer set to True: The initial features are going to be enforced during transformation and fit steps\n",
      "is_categorical is deprecated and will be removed in a future version.  Use is_categorical_dtype instead\n"
     ]
    },
    {
     "name": "stdout",
     "output_type": "stream",
     "text": [
      "[CV]  clf=RandomForestClassifier(), clf__bootstrap=False, clf__max_depth=30, clf__max_features=auto, clf__min_samples_leaf=1, clf__min_samples_split=10, clf__n_estimators=100, score=0.796, total=   1.7s\n",
      "[CV] clf=RandomForestClassifier(), clf__bootstrap=False, clf__max_depth=30, clf__max_features=auto, clf__min_samples_leaf=1, clf__min_samples_split=10, clf__n_estimators=100 \n"
     ]
    },
    {
     "name": "stderr",
     "output_type": "stream",
     "text": [
      "2021-09-01 05:59:21.601504 INFO: Hard mode for the ModifiedColumnTransformer set to True: The initial features are going to be enforced during transformation and fit steps\n",
      "is_categorical is deprecated and will be removed in a future version.  Use is_categorical_dtype instead\n"
     ]
    },
    {
     "name": "stdout",
     "output_type": "stream",
     "text": [
      "[CV]  clf=RandomForestClassifier(), clf__bootstrap=False, clf__max_depth=30, clf__max_features=auto, clf__min_samples_leaf=1, clf__min_samples_split=10, clf__n_estimators=100, score=0.860, total=   1.6s\n",
      "[CV] clf=XGBClassifier(base_score=None, booster=None, colsample_bylevel=None,\n",
      "              colsample_bynode=None, colsample_bytree=None, gamma=None,\n",
      "              gpu_id=None, importance_type='gain', interaction_constraints=None,\n",
      "              learning_rate=None, max_delta_step=None, max_depth=None,\n",
      "              min_child_weight=None, missing=nan, monotone_constraints=None,\n",
      "              n_estimators=100, n_jobs=None, num_parallel_tree=None,\n",
      "              random_state=None, reg_alpha=None, reg_lambda=None,\n",
      "              scale_pos_weight=None, subsample=None, tree_method=None,\n",
      "              validate_parameters=None, verbosity=None), clf__colsample_bytree=0.5, clf__eval_metric=logloss, clf__gamma=1, clf__learning_rate=0.0001, clf__max_depth=6, clf__min_child_weight=7, clf__n_estimators=180, clf__objective=binary:logistic, clf__subsample=0.9007190934314233, clf__use_label_encoder=False \n"
     ]
    },
    {
     "name": "stderr",
     "output_type": "stream",
     "text": [
      "2021-09-01 05:59:23.219186 INFO: Hard mode for the ModifiedColumnTransformer set to True: The initial features are going to be enforced during transformation and fit steps\n",
      "is_categorical is deprecated and will be removed in a future version.  Use is_categorical_dtype instead\n"
     ]
    },
    {
     "name": "stdout",
     "output_type": "stream",
     "text": [
      "[CV]  clf=XGBClassifier(base_score=None, booster=None, colsample_bylevel=None,\n",
      "              colsample_bynode=None, colsample_bytree=None, gamma=None,\n",
      "              gpu_id=None, importance_type='gain', interaction_constraints=None,\n",
      "              learning_rate=None, max_delta_step=None, max_depth=None,\n",
      "              min_child_weight=None, missing=nan, monotone_constraints=None,\n",
      "              n_estimators=100, n_jobs=None, num_parallel_tree=None,\n",
      "              random_state=None, reg_alpha=None, reg_lambda=None,\n",
      "              scale_pos_weight=None, subsample=None, tree_method=None,\n",
      "              validate_parameters=None, verbosity=None), clf__colsample_bytree=0.5, clf__eval_metric=logloss, clf__gamma=1, clf__learning_rate=0.0001, clf__max_depth=6, clf__min_child_weight=7, clf__n_estimators=180, clf__objective=binary:logistic, clf__subsample=0.9007190934314233, clf__use_label_encoder=False, score=0.034, total=   0.5s\n",
      "[CV] clf=XGBClassifier(base_score=None, booster=None, colsample_bylevel=None,\n",
      "              colsample_bynode=None, colsample_bytree=None, gamma=None,\n",
      "              gpu_id=None, importance_type='gain', interaction_constraints=None,\n",
      "              learning_rate=None, max_delta_step=None, max_depth=None,\n",
      "              min_child_weight=None, missing=nan, monotone_constraints=None,\n",
      "              n_estimators=100, n_jobs=None, num_parallel_tree=None,\n",
      "              random_state=None, reg_alpha=None, reg_lambda=None,\n",
      "              scale_pos_weight=None, subsample=None, tree_method=None,\n",
      "              validate_parameters=None, verbosity=None), clf__colsample_bytree=0.5, clf__eval_metric=logloss, clf__gamma=1, clf__learning_rate=0.0001, clf__max_depth=6, clf__min_child_weight=7, clf__n_estimators=180, clf__objective=binary:logistic, clf__subsample=0.9007190934314233, clf__use_label_encoder=False \n"
     ]
    },
    {
     "name": "stderr",
     "output_type": "stream",
     "text": [
      "2021-09-01 05:59:23.750312 INFO: Hard mode for the ModifiedColumnTransformer set to True: The initial features are going to be enforced during transformation and fit steps\n",
      "is_categorical is deprecated and will be removed in a future version.  Use is_categorical_dtype instead\n"
     ]
    },
    {
     "name": "stdout",
     "output_type": "stream",
     "text": [
      "[CV]  clf=XGBClassifier(base_score=None, booster=None, colsample_bylevel=None,\n",
      "              colsample_bynode=None, colsample_bytree=None, gamma=None,\n",
      "              gpu_id=None, importance_type='gain', interaction_constraints=None,\n",
      "              learning_rate=None, max_delta_step=None, max_depth=None,\n",
      "              min_child_weight=None, missing=nan, monotone_constraints=None,\n",
      "              n_estimators=100, n_jobs=None, num_parallel_tree=None,\n",
      "              random_state=None, reg_alpha=None, reg_lambda=None,\n",
      "              scale_pos_weight=None, subsample=None, tree_method=None,\n",
      "              validate_parameters=None, verbosity=None), clf__colsample_bytree=0.5, clf__eval_metric=logloss, clf__gamma=1, clf__learning_rate=0.0001, clf__max_depth=6, clf__min_child_weight=7, clf__n_estimators=180, clf__objective=binary:logistic, clf__subsample=0.9007190934314233, clf__use_label_encoder=False, score=0.035, total=   0.6s\n",
      "[CV] clf=XGBClassifier(base_score=None, booster=None, colsample_bylevel=None,\n",
      "              colsample_bynode=None, colsample_bytree=None, gamma=None,\n",
      "              gpu_id=None, importance_type='gain', interaction_constraints=None,\n",
      "              learning_rate=None, max_delta_step=None, max_depth=None,\n",
      "              min_child_weight=None, missing=nan, monotone_constraints=None,\n",
      "              n_estimators=100, n_jobs=None, num_parallel_tree=None,\n",
      "              random_state=None, reg_alpha=None, reg_lambda=None,\n",
      "              scale_pos_weight=None, subsample=None, tree_method=None,\n",
      "              validate_parameters=None, verbosity=None), clf__colsample_bytree=0.5, clf__eval_metric=logloss, clf__gamma=1, clf__learning_rate=0.0001, clf__max_depth=6, clf__min_child_weight=7, clf__n_estimators=180, clf__objective=binary:logistic, clf__subsample=0.9007190934314233, clf__use_label_encoder=False \n"
     ]
    },
    {
     "name": "stderr",
     "output_type": "stream",
     "text": [
      "2021-09-01 05:59:24.370548 INFO: Hard mode for the ModifiedColumnTransformer set to True: The initial features are going to be enforced during transformation and fit steps\n",
      "is_categorical is deprecated and will be removed in a future version.  Use is_categorical_dtype instead\n"
     ]
    },
    {
     "name": "stdout",
     "output_type": "stream",
     "text": [
      "[CV]  clf=XGBClassifier(base_score=None, booster=None, colsample_bylevel=None,\n",
      "              colsample_bynode=None, colsample_bytree=None, gamma=None,\n",
      "              gpu_id=None, importance_type='gain', interaction_constraints=None,\n",
      "              learning_rate=None, max_delta_step=None, max_depth=None,\n",
      "              min_child_weight=None, missing=nan, monotone_constraints=None,\n",
      "              n_estimators=100, n_jobs=None, num_parallel_tree=None,\n",
      "              random_state=None, reg_alpha=None, reg_lambda=None,\n",
      "              scale_pos_weight=None, subsample=None, tree_method=None,\n",
      "              validate_parameters=None, verbosity=None), clf__colsample_bytree=0.5, clf__eval_metric=logloss, clf__gamma=1, clf__learning_rate=0.0001, clf__max_depth=6, clf__min_child_weight=7, clf__n_estimators=180, clf__objective=binary:logistic, clf__subsample=0.9007190934314233, clf__use_label_encoder=False, score=0.050, total=   0.6s\n",
      "[CV] clf=XGBClassifier(base_score=None, booster=None, colsample_bylevel=None,\n",
      "              colsample_bynode=None, colsample_bytree=None, gamma=None,\n",
      "              gpu_id=None, importance_type='gain', interaction_constraints=None,\n",
      "              learning_rate=None, max_delta_step=None, max_depth=None,\n",
      "              min_child_weight=None, missing=nan, monotone_constraints=None,\n",
      "              n_estimators=100, n_jobs=None, num_parallel_tree=None,\n",
      "              random_state=None, reg_alpha=None, reg_lambda=None,\n",
      "              scale_pos_weight=None, subsample=None, tree_method=None,\n",
      "              validate_parameters=None, verbosity=None), clf__colsample_bytree=0.3, clf__eval_metric=logloss, clf__gamma=5, clf__learning_rate=0.01, clf__max_depth=6, clf__min_child_weight=8, clf__n_estimators=310, clf__objective=binary:logistic, clf__subsample=0.9007190934314233, clf__use_label_encoder=False \n"
     ]
    },
    {
     "name": "stderr",
     "output_type": "stream",
     "text": [
      "2021-09-01 05:59:24.986593 INFO: Hard mode for the ModifiedColumnTransformer set to True: The initial features are going to be enforced during transformation and fit steps\n",
      "is_categorical is deprecated and will be removed in a future version.  Use is_categorical_dtype instead\n"
     ]
    },
    {
     "name": "stdout",
     "output_type": "stream",
     "text": [
      "[CV]  clf=XGBClassifier(base_score=None, booster=None, colsample_bylevel=None,\n",
      "              colsample_bynode=None, colsample_bytree=None, gamma=None,\n",
      "              gpu_id=None, importance_type='gain', interaction_constraints=None,\n",
      "              learning_rate=None, max_delta_step=None, max_depth=None,\n",
      "              min_child_weight=None, missing=nan, monotone_constraints=None,\n",
      "              n_estimators=100, n_jobs=None, num_parallel_tree=None,\n",
      "              random_state=None, reg_alpha=None, reg_lambda=None,\n",
      "              scale_pos_weight=None, subsample=None, tree_method=None,\n",
      "              validate_parameters=None, verbosity=None), clf__colsample_bytree=0.3, clf__eval_metric=logloss, clf__gamma=5, clf__learning_rate=0.01, clf__max_depth=6, clf__min_child_weight=8, clf__n_estimators=310, clf__objective=binary:logistic, clf__subsample=0.9007190934314233, clf__use_label_encoder=False, score=0.119, total=   1.1s\n",
      "[CV] clf=XGBClassifier(base_score=None, booster=None, colsample_bylevel=None,\n",
      "              colsample_bynode=None, colsample_bytree=None, gamma=None,\n",
      "              gpu_id=None, importance_type='gain', interaction_constraints=None,\n",
      "              learning_rate=None, max_delta_step=None, max_depth=None,\n",
      "              min_child_weight=None, missing=nan, monotone_constraints=None,\n",
      "              n_estimators=100, n_jobs=None, num_parallel_tree=None,\n",
      "              random_state=None, reg_alpha=None, reg_lambda=None,\n",
      "              scale_pos_weight=None, subsample=None, tree_method=None,\n",
      "              validate_parameters=None, verbosity=None), clf__colsample_bytree=0.3, clf__eval_metric=logloss, clf__gamma=5, clf__learning_rate=0.01, clf__max_depth=6, clf__min_child_weight=8, clf__n_estimators=310, clf__objective=binary:logistic, clf__subsample=0.9007190934314233, clf__use_label_encoder=False \n"
     ]
    },
    {
     "name": "stderr",
     "output_type": "stream",
     "text": [
      "2021-09-01 05:59:26.080433 INFO: Hard mode for the ModifiedColumnTransformer set to True: The initial features are going to be enforced during transformation and fit steps\n",
      "is_categorical is deprecated and will be removed in a future version.  Use is_categorical_dtype instead\n"
     ]
    },
    {
     "name": "stdout",
     "output_type": "stream",
     "text": [
      "[CV]  clf=XGBClassifier(base_score=None, booster=None, colsample_bylevel=None,\n",
      "              colsample_bynode=None, colsample_bytree=None, gamma=None,\n",
      "              gpu_id=None, importance_type='gain', interaction_constraints=None,\n",
      "              learning_rate=None, max_delta_step=None, max_depth=None,\n",
      "              min_child_weight=None, missing=nan, monotone_constraints=None,\n",
      "              n_estimators=100, n_jobs=None, num_parallel_tree=None,\n",
      "              random_state=None, reg_alpha=None, reg_lambda=None,\n",
      "              scale_pos_weight=None, subsample=None, tree_method=None,\n",
      "              validate_parameters=None, verbosity=None), clf__colsample_bytree=0.3, clf__eval_metric=logloss, clf__gamma=5, clf__learning_rate=0.01, clf__max_depth=6, clf__min_child_weight=8, clf__n_estimators=310, clf__objective=binary:logistic, clf__subsample=0.9007190934314233, clf__use_label_encoder=False, score=0.105, total=   1.1s\n",
      "[CV] clf=XGBClassifier(base_score=None, booster=None, colsample_bylevel=None,\n",
      "              colsample_bynode=None, colsample_bytree=None, gamma=None,\n",
      "              gpu_id=None, importance_type='gain', interaction_constraints=None,\n",
      "              learning_rate=None, max_delta_step=None, max_depth=None,\n",
      "              min_child_weight=None, missing=nan, monotone_constraints=None,\n",
      "              n_estimators=100, n_jobs=None, num_parallel_tree=None,\n",
      "              random_state=None, reg_alpha=None, reg_lambda=None,\n",
      "              scale_pos_weight=None, subsample=None, tree_method=None,\n",
      "              validate_parameters=None, verbosity=None), clf__colsample_bytree=0.3, clf__eval_metric=logloss, clf__gamma=5, clf__learning_rate=0.01, clf__max_depth=6, clf__min_child_weight=8, clf__n_estimators=310, clf__objective=binary:logistic, clf__subsample=0.9007190934314233, clf__use_label_encoder=False \n"
     ]
    },
    {
     "name": "stderr",
     "output_type": "stream",
     "text": [
      "2021-09-01 05:59:27.200427 INFO: Hard mode for the ModifiedColumnTransformer set to True: The initial features are going to be enforced during transformation and fit steps\n",
      "is_categorical is deprecated and will be removed in a future version.  Use is_categorical_dtype instead\n"
     ]
    },
    {
     "name": "stdout",
     "output_type": "stream",
     "text": [
      "[CV]  clf=XGBClassifier(base_score=None, booster=None, colsample_bylevel=None,\n",
      "              colsample_bynode=None, colsample_bytree=None, gamma=None,\n",
      "              gpu_id=None, importance_type='gain', interaction_constraints=None,\n",
      "              learning_rate=None, max_delta_step=None, max_depth=None,\n",
      "              min_child_weight=None, missing=nan, monotone_constraints=None,\n",
      "              n_estimators=100, n_jobs=None, num_parallel_tree=None,\n",
      "              random_state=None, reg_alpha=None, reg_lambda=None,\n",
      "              scale_pos_weight=None, subsample=None, tree_method=None,\n",
      "              validate_parameters=None, verbosity=None), clf__colsample_bytree=0.3, clf__eval_metric=logloss, clf__gamma=5, clf__learning_rate=0.01, clf__max_depth=6, clf__min_child_weight=8, clf__n_estimators=310, clf__objective=binary:logistic, clf__subsample=0.9007190934314233, clf__use_label_encoder=False, score=0.143, total=   1.1s\n",
      "[CV] clf=LGBMClassifier(), clf__colsample_bytree=0.5731341767005942, clf__min_child_samples=134, clf__min_child_weight=1e-05, clf__num_leaves=40, clf__reg_alpha=5, clf__reg_lambda=50, clf__subsample=0.40181578955992386 \n"
     ]
    },
    {
     "name": "stderr",
     "output_type": "stream",
     "text": [
      "2021-09-01 05:59:28.303488 INFO: Hard mode for the ModifiedColumnTransformer set to True: The initial features are going to be enforced during transformation and fit steps\n",
      "is_categorical is deprecated and will be removed in a future version.  Use is_categorical_dtype instead\n"
     ]
    },
    {
     "name": "stdout",
     "output_type": "stream",
     "text": [
      "[CV]  clf=LGBMClassifier(), clf__colsample_bytree=0.5731341767005942, clf__min_child_samples=134, clf__min_child_weight=1e-05, clf__num_leaves=40, clf__reg_alpha=5, clf__reg_lambda=50, clf__subsample=0.40181578955992386, score=0.211, total=   0.4s\n",
      "[CV] clf=LGBMClassifier(), clf__colsample_bytree=0.5731341767005942, clf__min_child_samples=134, clf__min_child_weight=1e-05, clf__num_leaves=40, clf__reg_alpha=5, clf__reg_lambda=50, clf__subsample=0.40181578955992386 \n"
     ]
    },
    {
     "name": "stderr",
     "output_type": "stream",
     "text": [
      "2021-09-01 05:59:28.750563 INFO: Hard mode for the ModifiedColumnTransformer set to True: The initial features are going to be enforced during transformation and fit steps\n",
      "is_categorical is deprecated and will be removed in a future version.  Use is_categorical_dtype instead\n"
     ]
    },
    {
     "name": "stdout",
     "output_type": "stream",
     "text": [
      "[CV]  clf=LGBMClassifier(), clf__colsample_bytree=0.5731341767005942, clf__min_child_samples=134, clf__min_child_weight=1e-05, clf__num_leaves=40, clf__reg_alpha=5, clf__reg_lambda=50, clf__subsample=0.40181578955992386, score=0.205, total=   0.4s\n",
      "[CV] clf=LGBMClassifier(), clf__colsample_bytree=0.5731341767005942, clf__min_child_samples=134, clf__min_child_weight=1e-05, clf__num_leaves=40, clf__reg_alpha=5, clf__reg_lambda=50, clf__subsample=0.40181578955992386 \n"
     ]
    },
    {
     "name": "stderr",
     "output_type": "stream",
     "text": [
      "2021-09-01 05:59:29.201136 INFO: Hard mode for the ModifiedColumnTransformer set to True: The initial features are going to be enforced during transformation and fit steps\n",
      "is_categorical is deprecated and will be removed in a future version.  Use is_categorical_dtype instead\n"
     ]
    },
    {
     "name": "stdout",
     "output_type": "stream",
     "text": [
      "[CV]  clf=LGBMClassifier(), clf__colsample_bytree=0.5731341767005942, clf__min_child_samples=134, clf__min_child_weight=1e-05, clf__num_leaves=40, clf__reg_alpha=5, clf__reg_lambda=50, clf__subsample=0.40181578955992386, score=0.175, total=   0.4s\n",
      "[CV] clf=XGBClassifier(base_score=None, booster=None, colsample_bylevel=None,\n",
      "              colsample_bynode=None, colsample_bytree=None, gamma=None,\n",
      "              gpu_id=None, importance_type='gain', interaction_constraints=None,\n",
      "              learning_rate=None, max_delta_step=None, max_depth=None,\n",
      "              min_child_weight=None, missing=nan, monotone_constraints=None,\n",
      "              n_estimators=100, n_jobs=None, num_parallel_tree=None,\n",
      "              random_state=None, reg_alpha=None, reg_lambda=None,\n",
      "              scale_pos_weight=None, subsample=None, tree_method=None,\n",
      "              validate_parameters=None, verbosity=None), clf__colsample_bytree=0.5, clf__eval_metric=logloss, clf__gamma=0.5, clf__learning_rate=0.2, clf__max_depth=4, clf__min_child_weight=7, clf__n_estimators=230, clf__objective=binary:logistic, clf__subsample=0.9007190934314233, clf__use_label_encoder=False \n"
     ]
    },
    {
     "name": "stderr",
     "output_type": "stream",
     "text": [
      "2021-09-01 05:59:29.651048 INFO: Hard mode for the ModifiedColumnTransformer set to True: The initial features are going to be enforced during transformation and fit steps\n",
      "is_categorical is deprecated and will be removed in a future version.  Use is_categorical_dtype instead\n"
     ]
    },
    {
     "name": "stdout",
     "output_type": "stream",
     "text": [
      "[CV]  clf=XGBClassifier(base_score=None, booster=None, colsample_bylevel=None,\n",
      "              colsample_bynode=None, colsample_bytree=None, gamma=None,\n",
      "              gpu_id=None, importance_type='gain', interaction_constraints=None,\n",
      "              learning_rate=None, max_delta_step=None, max_depth=None,\n",
      "              min_child_weight=None, missing=nan, monotone_constraints=None,\n",
      "              n_estimators=100, n_jobs=None, num_parallel_tree=None,\n",
      "              random_state=None, reg_alpha=None, reg_lambda=None,\n",
      "              scale_pos_weight=None, subsample=None, tree_method=None,\n",
      "              validate_parameters=None, verbosity=None), clf__colsample_bytree=0.5, clf__eval_metric=logloss, clf__gamma=0.5, clf__learning_rate=0.2, clf__max_depth=4, clf__min_child_weight=7, clf__n_estimators=230, clf__objective=binary:logistic, clf__subsample=0.9007190934314233, clf__use_label_encoder=False, score=0.598, total=   1.1s\n",
      "[CV] clf=XGBClassifier(base_score=None, booster=None, colsample_bylevel=None,\n",
      "              colsample_bynode=None, colsample_bytree=None, gamma=None,\n",
      "              gpu_id=None, importance_type='gain', interaction_constraints=None,\n",
      "              learning_rate=None, max_delta_step=None, max_depth=None,\n",
      "              min_child_weight=None, missing=nan, monotone_constraints=None,\n",
      "              n_estimators=100, n_jobs=None, num_parallel_tree=None,\n",
      "              random_state=None, reg_alpha=None, reg_lambda=None,\n",
      "              scale_pos_weight=None, subsample=None, tree_method=None,\n",
      "              validate_parameters=None, verbosity=None), clf__colsample_bytree=0.5, clf__eval_metric=logloss, clf__gamma=0.5, clf__learning_rate=0.2, clf__max_depth=4, clf__min_child_weight=7, clf__n_estimators=230, clf__objective=binary:logistic, clf__subsample=0.9007190934314233, clf__use_label_encoder=False \n"
     ]
    },
    {
     "name": "stderr",
     "output_type": "stream",
     "text": [
      "2021-09-01 05:59:30.718886 INFO: Hard mode for the ModifiedColumnTransformer set to True: The initial features are going to be enforced during transformation and fit steps\n",
      "is_categorical is deprecated and will be removed in a future version.  Use is_categorical_dtype instead\n"
     ]
    },
    {
     "name": "stdout",
     "output_type": "stream",
     "text": [
      "[CV]  clf=XGBClassifier(base_score=None, booster=None, colsample_bylevel=None,\n",
      "              colsample_bynode=None, colsample_bytree=None, gamma=None,\n",
      "              gpu_id=None, importance_type='gain', interaction_constraints=None,\n",
      "              learning_rate=None, max_delta_step=None, max_depth=None,\n",
      "              min_child_weight=None, missing=nan, monotone_constraints=None,\n",
      "              n_estimators=100, n_jobs=None, num_parallel_tree=None,\n",
      "              random_state=None, reg_alpha=None, reg_lambda=None,\n",
      "              scale_pos_weight=None, subsample=None, tree_method=None,\n",
      "              validate_parameters=None, verbosity=None), clf__colsample_bytree=0.5, clf__eval_metric=logloss, clf__gamma=0.5, clf__learning_rate=0.2, clf__max_depth=4, clf__min_child_weight=7, clf__n_estimators=230, clf__objective=binary:logistic, clf__subsample=0.9007190934314233, clf__use_label_encoder=False, score=0.542, total=   1.0s\n",
      "[CV] clf=XGBClassifier(base_score=None, booster=None, colsample_bylevel=None,\n",
      "              colsample_bynode=None, colsample_bytree=None, gamma=None,\n",
      "              gpu_id=None, importance_type='gain', interaction_constraints=None,\n",
      "              learning_rate=None, max_delta_step=None, max_depth=None,\n",
      "              min_child_weight=None, missing=nan, monotone_constraints=None,\n",
      "              n_estimators=100, n_jobs=None, num_parallel_tree=None,\n",
      "              random_state=None, reg_alpha=None, reg_lambda=None,\n",
      "              scale_pos_weight=None, subsample=None, tree_method=None,\n",
      "              validate_parameters=None, verbosity=None), clf__colsample_bytree=0.5, clf__eval_metric=logloss, clf__gamma=0.5, clf__learning_rate=0.2, clf__max_depth=4, clf__min_child_weight=7, clf__n_estimators=230, clf__objective=binary:logistic, clf__subsample=0.9007190934314233, clf__use_label_encoder=False \n"
     ]
    },
    {
     "name": "stderr",
     "output_type": "stream",
     "text": [
      "2021-09-01 05:59:31.757444 INFO: Hard mode for the ModifiedColumnTransformer set to True: The initial features are going to be enforced during transformation and fit steps\n",
      "is_categorical is deprecated and will be removed in a future version.  Use is_categorical_dtype instead\n"
     ]
    },
    {
     "name": "stdout",
     "output_type": "stream",
     "text": [
      "[CV]  clf=XGBClassifier(base_score=None, booster=None, colsample_bylevel=None,\n",
      "              colsample_bynode=None, colsample_bytree=None, gamma=None,\n",
      "              gpu_id=None, importance_type='gain', interaction_constraints=None,\n",
      "              learning_rate=None, max_delta_step=None, max_depth=None,\n",
      "              min_child_weight=None, missing=nan, monotone_constraints=None,\n",
      "              n_estimators=100, n_jobs=None, num_parallel_tree=None,\n",
      "              random_state=None, reg_alpha=None, reg_lambda=None,\n",
      "              scale_pos_weight=None, subsample=None, tree_method=None,\n",
      "              validate_parameters=None, verbosity=None), clf__colsample_bytree=0.5, clf__eval_metric=logloss, clf__gamma=0.5, clf__learning_rate=0.2, clf__max_depth=4, clf__min_child_weight=7, clf__n_estimators=230, clf__objective=binary:logistic, clf__subsample=0.9007190934314233, clf__use_label_encoder=False, score=0.612, total=   1.1s\n"
     ]
    },
    {
     "name": "stderr",
     "output_type": "stream",
     "text": [
      "[Parallel(n_jobs=1)]: Done  60 out of  60 | elapsed:  2.0min finished\n",
      "2021-09-01 05:59:32.868032 INFO: Hard mode for the ModifiedColumnTransformer set to True: The initial features are going to be enforced during transformation and fit steps\n",
      "2021-09-01 05:59:32.869940 INFO: Hard mode for the ModifiedColumnTransformer set to True: The initial features are going to be enforced during transformation and fit steps\n",
      "is_categorical is deprecated and will be removed in a future version.  Use is_categorical_dtype instead\n"
     ]
    },
    {
     "data": {
      "text/plain": [
       "RandomizedSearchCV(cv=3,\n",
       "                   estimator=Pipeline(steps=[('preprocessor',\n",
       "                                              ModifiedColumnTransformer(categorical_features=['CODE_GENDER',\n",
       "                                                                                              'FLAG_OWN_CAR',\n",
       "                                                                                              'FLAG_OWN_REALTY',\n",
       "                                                                                              'NAME_INCOME_TYPE',\n",
       "                                                                                              'NAME_EDUCATION_TYPE',\n",
       "                                                                                              'NAME_FAMILY_STATUS',\n",
       "                                                                                              'NAME_HOUSING_TYPE',\n",
       "                                                                                              'FLAG_MOBIL',\n",
       "                                                                                              'FLAG_WORK_PHONE',\n",
       "                                                                                              'FLAG_PHONE',\n",
       "                                                                                              'FLAG_EMAIL'],\n",
       "                                                                        numeric_features=['CNT_CHILDREN',\n",
       "                                                                                          'AMT_INCOME_TOTA...\n",
       "                                         'clf__min_child_samples': <scipy.stats._distn_infrastructure.rv_frozen object at 0x7fa09b3a46d0>,\n",
       "                                         'clf__min_child_weight': [1e-05, 0.001,\n",
       "                                                                   0.01, 0.1, 1,\n",
       "                                                                   10.0, 100.0,\n",
       "                                                                   1000.0,\n",
       "                                                                   10000.0],\n",
       "                                         'clf__num_leaves': <scipy.stats._distn_infrastructure.rv_frozen object at 0x7fa09b3a4400>,\n",
       "                                         'clf__reg_alpha': [0, 0.1, 1, 2, 5, 7,\n",
       "                                                            10, 50, 100],\n",
       "                                         'clf__reg_lambda': [0, 0.1, 1, 5, 10,\n",
       "                                                             20, 50, 100],\n",
       "                                         'clf__subsample': array([0.40181579])}],\n",
       "                   random_state=42, scoring='average_precision', verbose=3)"
      ]
     },
     "execution_count": 10,
     "metadata": {},
     "output_type": "execute_result"
    }
   ],
   "source": [
    "rs.fit(X_train, y_train)"
   ]
  },
  {
   "cell_type": "code",
   "execution_count": 11,
   "id": "492c8126-78dc-4197-a5d7-105651f15228",
   "metadata": {},
   "outputs": [
    {
     "data": {
      "text/html": [
       "<div>\n",
       "<style scoped>\n",
       "    .dataframe tbody tr th:only-of-type {\n",
       "        vertical-align: middle;\n",
       "    }\n",
       "\n",
       "    .dataframe tbody tr th {\n",
       "        vertical-align: top;\n",
       "    }\n",
       "\n",
       "    .dataframe thead th {\n",
       "        text-align: right;\n",
       "    }\n",
       "</style>\n",
       "<table border=\"1\" class=\"dataframe\">\n",
       "  <thead>\n",
       "    <tr style=\"text-align: right;\">\n",
       "      <th></th>\n",
       "      <th>mean_fit_time</th>\n",
       "      <th>std_fit_time</th>\n",
       "      <th>mean_score_time</th>\n",
       "      <th>std_score_time</th>\n",
       "      <th>param_clf</th>\n",
       "      <th>param_clf__colsample_bytree</th>\n",
       "      <th>param_clf__min_child_samples</th>\n",
       "      <th>param_clf__min_child_weight</th>\n",
       "      <th>param_clf__num_leaves</th>\n",
       "      <th>param_clf__reg_alpha</th>\n",
       "      <th>...</th>\n",
       "      <th>param_clf__max_features</th>\n",
       "      <th>param_clf__min_samples_leaf</th>\n",
       "      <th>param_clf__min_samples_split</th>\n",
       "      <th>params</th>\n",
       "      <th>split0_test_score</th>\n",
       "      <th>split1_test_score</th>\n",
       "      <th>split2_test_score</th>\n",
       "      <th>mean_test_score</th>\n",
       "      <th>std_test_score</th>\n",
       "      <th>rank_test_score</th>\n",
       "    </tr>\n",
       "  </thead>\n",
       "  <tbody>\n",
       "    <tr>\n",
       "      <th>9</th>\n",
       "      <td>6.375128</td>\n",
       "      <td>0.126052</td>\n",
       "      <td>0.426248</td>\n",
       "      <td>0.001836</td>\n",
       "      <td>RandomForestClassifier(bootstrap=False, max_de...</td>\n",
       "      <td>NaN</td>\n",
       "      <td>NaN</td>\n",
       "      <td>NaN</td>\n",
       "      <td>NaN</td>\n",
       "      <td>NaN</td>\n",
       "      <td>...</td>\n",
       "      <td>sqrt</td>\n",
       "      <td>1</td>\n",
       "      <td>5</td>\n",
       "      <td>{'clf': RandomForestClassifier(bootstrap=False...</td>\n",
       "      <td>0.886232</td>\n",
       "      <td>0.810797</td>\n",
       "      <td>0.871113</td>\n",
       "      <td>0.856047</td>\n",
       "      <td>0.032587</td>\n",
       "      <td>1</td>\n",
       "    </tr>\n",
       "  </tbody>\n",
       "</table>\n",
       "<p>1 rows × 30 columns</p>\n",
       "</div>"
      ],
      "text/plain": [
       "   mean_fit_time  std_fit_time  mean_score_time  std_score_time  \\\n",
       "9       6.375128      0.126052         0.426248        0.001836   \n",
       "\n",
       "                                           param_clf  \\\n",
       "9  RandomForestClassifier(bootstrap=False, max_de...   \n",
       "\n",
       "  param_clf__colsample_bytree param_clf__min_child_samples  \\\n",
       "9                         NaN                          NaN   \n",
       "\n",
       "  param_clf__min_child_weight param_clf__num_leaves param_clf__reg_alpha  ...  \\\n",
       "9                         NaN                   NaN                  NaN  ...   \n",
       "\n",
       "  param_clf__max_features param_clf__min_samples_leaf  \\\n",
       "9                    sqrt                           1   \n",
       "\n",
       "  param_clf__min_samples_split  \\\n",
       "9                            5   \n",
       "\n",
       "                                              params split0_test_score  \\\n",
       "9  {'clf': RandomForestClassifier(bootstrap=False...          0.886232   \n",
       "\n",
       "  split1_test_score split2_test_score mean_test_score std_test_score  \\\n",
       "9          0.810797          0.871113        0.856047       0.032587   \n",
       "\n",
       "  rank_test_score  \n",
       "9               1  \n",
       "\n",
       "[1 rows x 30 columns]"
      ]
     },
     "execution_count": 11,
     "metadata": {},
     "output_type": "execute_result"
    }
   ],
   "source": [
    "pd.DataFrame(rs.cv_results_).query(\"rank_test_score == 1\")"
   ]
  },
  {
   "cell_type": "markdown",
   "id": "14bc092d-aa73-4a0c-96e4-862bc325cd25",
   "metadata": {
    "tags": []
   },
   "source": [
    "## Dump trained best estimator"
   ]
  },
  {
   "cell_type": "code",
   "execution_count": 12,
   "id": "d14d34c6-bac7-4f0f-970e-b66d2aa80f9a",
   "metadata": {},
   "outputs": [],
   "source": [
    "with open(f\"artifacts/{sts.TRAINED_BEST_ESTIMATOR_FILENAME}\",\"wb\") as file:\n",
    "    pickle.dump(rs.best_estimator_, file)"
   ]
  },
  {
   "cell_type": "code",
   "execution_count": null,
   "id": "b83c93ce-9fe5-4ee4-88eb-cc5c792e036e",
   "metadata": {},
   "outputs": [],
   "source": []
  }
 ],
 "metadata": {
  "kernelspec": {
   "display_name": "Python 3",
   "language": "python",
   "name": "python3"
  },
  "language_info": {
   "codemirror_mode": {
    "name": "ipython",
    "version": 3
   },
   "file_extension": ".py",
   "mimetype": "text/x-python",
   "name": "python",
   "nbconvert_exporter": "python",
   "pygments_lexer": "ipython3",
   "version": "3.8.8"
  }
 },
 "nbformat": 4,
 "nbformat_minor": 5
}
