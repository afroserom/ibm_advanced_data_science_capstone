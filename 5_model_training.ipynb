{
 "cells": [
  {
   "cell_type": "code",
   "execution_count": null,
   "id": "2cdff9f6-7ff3-4660-ac2b-0be11d80bf29",
   "metadata": {},
   "outputs": [],
   "source": []
  },
  {
   "cell_type": "markdown",
   "id": "cc4de964-1043-4a9c-a26b-58443330b2e9",
   "metadata": {},
   "source": [
    "## XGBoost"
   ]
  },
  {
   "cell_type": "code",
   "execution_count": null,
   "id": "05fae512-55a5-4b48-bcc6-bb14a01dec3d",
   "metadata": {},
   "outputs": [],
   "source": [
    "clf_xgb = XGBClassifier(objective=\"binary:logistic\", use_label_encoder=False, )"
   ]
  },
  {
   "cell_type": "code",
   "execution_count": null,
   "id": "fa00cf1c-f007-485b-b163-67dd81a296bb",
   "metadata": {},
   "outputs": [],
   "source": [
    "clf_xgb_rs = Pipeline(\n",
    "    steps=[\n",
    "        (\"preprocessor\", preprocessor),\n",
    "        (\"rs\", RandomizedSearchCV(clf_xgb,param_distributions=param_grid,n_iter=100,cv=5,scoring=\"average_precision\", random_state=42, )),\n",
    "    ]\n",
    ")"
   ]
  },
  {
   "cell_type": "markdown",
   "id": "d1c10549-3efd-42dc-a8bb-47cbea4393d3",
   "metadata": {},
   "source": [
    "### Training"
   ]
  },
  {
   "cell_type": "code",
   "execution_count": null,
   "id": "461c63fd-523b-44e9-9931-cf5910b01945",
   "metadata": {
    "tags": []
   },
   "outputs": [],
   "source": [
    "clf_xgb_rs.fit(X_train, y_train)"
   ]
  },
  {
   "cell_type": "markdown",
   "id": "14bc092d-aa73-4a0c-96e4-862bc325cd25",
   "metadata": {
    "tags": []
   },
   "source": [
    "### Evaluation"
   ]
  },
  {
   "cell_type": "code",
   "execution_count": null,
   "id": "7f4b1507-3e56-4ffc-b43e-e117d60ca342",
   "metadata": {},
   "outputs": [],
   "source": [
    "clf_xgb_rs[\"rs\"].best_score_"
   ]
  },
  {
   "cell_type": "code",
   "execution_count": null,
   "id": "1533abc9-8c39-41f5-baad-ce77b7c29f8d",
   "metadata": {},
   "outputs": [],
   "source": [
    "y_test_proba = clf_xgb_rs.predict_proba(X_test)"
   ]
  },
  {
   "cell_type": "code",
   "execution_count": null,
   "id": "ba4099f6-bd7d-49a4-9721-9f1c44e9ba15",
   "metadata": {},
   "outputs": [],
   "source": [
    "y_test_pred = np.where(y_test_proba[:,1] <= 0.5,0,1)"
   ]
  },
  {
   "cell_type": "code",
   "execution_count": null,
   "id": "30976941-70f4-48bd-8343-3e88f6e64039",
   "metadata": {},
   "outputs": [],
   "source": [
    "print(classification_report(y_test,y_test_pred))"
   ]
  },
  {
   "cell_type": "code",
   "execution_count": null,
   "id": "d14d34c6-bac7-4f0f-970e-b66d2aa80f9a",
   "metadata": {},
   "outputs": [],
   "source": [
    "average_precision_score(y_test,y_test_proba[:,1])"
   ]
  },
  {
   "cell_type": "code",
   "execution_count": null,
   "id": "b83c93ce-9fe5-4ee4-88eb-cc5c792e036e",
   "metadata": {},
   "outputs": [],
   "source": []
  }
 ],
 "metadata": {
  "kernelspec": {
   "display_name": "Python 3",
   "language": "python",
   "name": "python3"
  },
  "language_info": {
   "codemirror_mode": {
    "name": "ipython",
    "version": 3
   },
   "file_extension": ".py",
   "mimetype": "text/x-python",
   "name": "python",
   "nbconvert_exporter": "python",
   "pygments_lexer": "ipython3",
   "version": "3.8.8"
  }
 },
 "nbformat": 4,
 "nbformat_minor": 5
}
